{
 "cells": [
  {
   "cell_type": "markdown",
   "id": "28799835",
   "metadata": {},
   "source": [
    "# 1-Regression-Yiyecek Teslimat Süresi Tahmini"
   ]
  },
  {
   "cell_type": "markdown",
   "id": "b67c65e5",
   "metadata": {},
   "source": [
    "Yemek Teslimatı hizmetlerinin, müşterileriyle şeffaflığı korumak için siparişinizin teslim edilmesi için gereken süreyi doğru göstermesi gerekir. Bu şirketler, teslimat ortaklarının geçmişte aynı mesafeyi ne kadar sürede kat ettiğine bağlı olarak yemek teslimat süresini tahmin etmek için Makine Öğrenimi algoritmalarını kullanıyor."
   ]
  },
  {
   "cell_type": "markdown",
   "id": "b653df26",
   "metadata": {},
   "source": [
    "<img src= \"food-delivery.jpg\">"
   ]
  },
  {
   "cell_type": "code",
   "execution_count": 1,
   "id": "17d3bd47",
   "metadata": {},
   "outputs": [],
   "source": [
    "import pandas as pd\n",
    "import numpy as np\n",
    "import matplotlib.pyplot as plt\n",
    "import seaborn as sns\n",
    "import warnings\n",
    "warnings.filterwarnings(\"ignore\")\n",
    "pd.set_option(\"display.max_columns\",100)"
   ]
  },
  {
   "cell_type": "markdown",
   "id": "bb994560",
   "metadata": {},
   "source": [
    "## Veri Okuma ve Analizi"
   ]
  },
  {
   "cell_type": "code",
   "execution_count": 4,
   "id": "91fd3192",
   "metadata": {},
   "outputs": [],
   "source": [
    "df=pd.read_csv(\"deliverytime.txt\")"
   ]
  },
  {
   "cell_type": "code",
   "execution_count": 5,
   "id": "de7ccde4",
   "metadata": {},
   "outputs": [
    {
     "data": {
      "text/html": [
       "<div>\n",
       "<style scoped>\n",
       "    .dataframe tbody tr th:only-of-type {\n",
       "        vertical-align: middle;\n",
       "    }\n",
       "\n",
       "    .dataframe tbody tr th {\n",
       "        vertical-align: top;\n",
       "    }\n",
       "\n",
       "    .dataframe thead th {\n",
       "        text-align: right;\n",
       "    }\n",
       "</style>\n",
       "<table border=\"1\" class=\"dataframe\">\n",
       "  <thead>\n",
       "    <tr style=\"text-align: right;\">\n",
       "      <th></th>\n",
       "      <th>ID</th>\n",
       "      <th>Delivery_person_ID</th>\n",
       "      <th>Delivery_person_Age</th>\n",
       "      <th>Delivery_person_Ratings</th>\n",
       "      <th>Restaurant_latitude</th>\n",
       "      <th>Restaurant_longitude</th>\n",
       "      <th>Delivery_location_latitude</th>\n",
       "      <th>Delivery_location_longitude</th>\n",
       "      <th>Type_of_order</th>\n",
       "      <th>Type_of_vehicle</th>\n",
       "      <th>Time_taken(min)</th>\n",
       "    </tr>\n",
       "  </thead>\n",
       "  <tbody>\n",
       "    <tr>\n",
       "      <th>0</th>\n",
       "      <td>4607</td>\n",
       "      <td>INDORES13DEL02</td>\n",
       "      <td>37</td>\n",
       "      <td>4.9</td>\n",
       "      <td>22.745049</td>\n",
       "      <td>75.892471</td>\n",
       "      <td>22.765049</td>\n",
       "      <td>75.912471</td>\n",
       "      <td>Snack</td>\n",
       "      <td>motorcycle</td>\n",
       "      <td>24</td>\n",
       "    </tr>\n",
       "    <tr>\n",
       "      <th>1</th>\n",
       "      <td>B379</td>\n",
       "      <td>BANGRES18DEL02</td>\n",
       "      <td>34</td>\n",
       "      <td>4.5</td>\n",
       "      <td>12.913041</td>\n",
       "      <td>77.683237</td>\n",
       "      <td>13.043041</td>\n",
       "      <td>77.813237</td>\n",
       "      <td>Snack</td>\n",
       "      <td>scooter</td>\n",
       "      <td>33</td>\n",
       "    </tr>\n",
       "    <tr>\n",
       "      <th>2</th>\n",
       "      <td>5D6D</td>\n",
       "      <td>BANGRES19DEL01</td>\n",
       "      <td>23</td>\n",
       "      <td>4.4</td>\n",
       "      <td>12.914264</td>\n",
       "      <td>77.678400</td>\n",
       "      <td>12.924264</td>\n",
       "      <td>77.688400</td>\n",
       "      <td>Drinks</td>\n",
       "      <td>motorcycle</td>\n",
       "      <td>26</td>\n",
       "    </tr>\n",
       "    <tr>\n",
       "      <th>3</th>\n",
       "      <td>7A6A</td>\n",
       "      <td>COIMBRES13DEL02</td>\n",
       "      <td>38</td>\n",
       "      <td>4.7</td>\n",
       "      <td>11.003669</td>\n",
       "      <td>76.976494</td>\n",
       "      <td>11.053669</td>\n",
       "      <td>77.026494</td>\n",
       "      <td>Buffet</td>\n",
       "      <td>motorcycle</td>\n",
       "      <td>21</td>\n",
       "    </tr>\n",
       "    <tr>\n",
       "      <th>4</th>\n",
       "      <td>70A2</td>\n",
       "      <td>CHENRES12DEL01</td>\n",
       "      <td>32</td>\n",
       "      <td>4.6</td>\n",
       "      <td>12.972793</td>\n",
       "      <td>80.249982</td>\n",
       "      <td>13.012793</td>\n",
       "      <td>80.289982</td>\n",
       "      <td>Snack</td>\n",
       "      <td>scooter</td>\n",
       "      <td>30</td>\n",
       "    </tr>\n",
       "  </tbody>\n",
       "</table>\n",
       "</div>"
      ],
      "text/plain": [
       "     ID Delivery_person_ID  Delivery_person_Age  Delivery_person_Ratings  \\\n",
       "0  4607     INDORES13DEL02                   37                      4.9   \n",
       "1  B379     BANGRES18DEL02                   34                      4.5   \n",
       "2  5D6D     BANGRES19DEL01                   23                      4.4   \n",
       "3  7A6A    COIMBRES13DEL02                   38                      4.7   \n",
       "4  70A2     CHENRES12DEL01                   32                      4.6   \n",
       "\n",
       "   Restaurant_latitude  Restaurant_longitude  Delivery_location_latitude  \\\n",
       "0            22.745049             75.892471                   22.765049   \n",
       "1            12.913041             77.683237                   13.043041   \n",
       "2            12.914264             77.678400                   12.924264   \n",
       "3            11.003669             76.976494                   11.053669   \n",
       "4            12.972793             80.249982                   13.012793   \n",
       "\n",
       "   Delivery_location_longitude Type_of_order Type_of_vehicle  Time_taken(min)  \n",
       "0                    75.912471        Snack      motorcycle                24  \n",
       "1                    77.813237        Snack         scooter                33  \n",
       "2                    77.688400       Drinks      motorcycle                26  \n",
       "3                    77.026494       Buffet      motorcycle                21  \n",
       "4                    80.289982        Snack         scooter                30  "
      ]
     },
     "execution_count": 5,
     "metadata": {},
     "output_type": "execute_result"
    }
   ],
   "source": [
    "df.head()"
   ]
  },
  {
   "cell_type": "code",
   "execution_count": 6,
   "id": "004dc67a",
   "metadata": {},
   "outputs": [
    {
     "data": {
      "text/plain": [
       "(45593, 11)"
      ]
     },
     "execution_count": 6,
     "metadata": {},
     "output_type": "execute_result"
    }
   ],
   "source": [
    "df.shape"
   ]
  },
  {
   "cell_type": "code",
   "execution_count": 7,
   "id": "0d23f4c4",
   "metadata": {},
   "outputs": [],
   "source": [
    "# İngilizce sütun isimlerini Türkçe'ye çevirecek bir sözlük oluşturuyoruz\n",
    "dic = {\n",
    "    'ID': 'Kimlik',\n",
    "    'Delivery_person_ID': 'Teslimat_personel_ID',\n",
    "    'Delivery_person_Age': 'Teslimat_personel_yası',\n",
    "    'Delivery_person_Ratings': 'Teslimat_personel_puanları',\n",
    "    'Restaurant_latitude': 'Restoran_enlemi',\n",
    "    'Restaurant_longitude': 'Restoran_boylamı',\n",
    "    'Delivery_location_latitude': 'Teslimat_enlemi',\n",
    "    'Delivery_location_longitude': 'Teslimat_boylamı',\n",
    "    'Type_of_order': 'Sipariş_türü',\n",
    "    'Type_of_vehicle': 'Araç_türü',\n",
    "    'Time_taken(min)': 'Teslimat_süresi(dakika)'\n",
    "}\n",
    "\n",
    "# Veri çerçevenizin sütun isimlerini çevirin\n",
    "df.rename(columns=dic, inplace=True)"
   ]
  },
  {
   "cell_type": "code",
   "execution_count": 8,
   "id": "5c42ae48",
   "metadata": {},
   "outputs": [
    {
     "data": {
      "text/html": [
       "<div>\n",
       "<style scoped>\n",
       "    .dataframe tbody tr th:only-of-type {\n",
       "        vertical-align: middle;\n",
       "    }\n",
       "\n",
       "    .dataframe tbody tr th {\n",
       "        vertical-align: top;\n",
       "    }\n",
       "\n",
       "    .dataframe thead th {\n",
       "        text-align: right;\n",
       "    }\n",
       "</style>\n",
       "<table border=\"1\" class=\"dataframe\">\n",
       "  <thead>\n",
       "    <tr style=\"text-align: right;\">\n",
       "      <th></th>\n",
       "      <th>Kimlik</th>\n",
       "      <th>Teslimat_personel_ID</th>\n",
       "      <th>Teslimat_personel_yası</th>\n",
       "      <th>Teslimat_personel_puanları</th>\n",
       "      <th>Restoran_enlemi</th>\n",
       "      <th>Restoran_boylamı</th>\n",
       "      <th>Teslimat_enlemi</th>\n",
       "      <th>Teslimat_boylamı</th>\n",
       "      <th>Sipariş_türü</th>\n",
       "      <th>Araç_türü</th>\n",
       "      <th>Teslimat_süresi(dakika)</th>\n",
       "    </tr>\n",
       "  </thead>\n",
       "  <tbody>\n",
       "    <tr>\n",
       "      <th>21307</th>\n",
       "      <td>59C8</td>\n",
       "      <td>CHENRES03DEL03</td>\n",
       "      <td>39</td>\n",
       "      <td>4.8</td>\n",
       "      <td>13.091809</td>\n",
       "      <td>80.219104</td>\n",
       "      <td>13.181809</td>\n",
       "      <td>80.309104</td>\n",
       "      <td>Drinks</td>\n",
       "      <td>scooter</td>\n",
       "      <td>27</td>\n",
       "    </tr>\n",
       "    <tr>\n",
       "      <th>19803</th>\n",
       "      <td>467C</td>\n",
       "      <td>HYDRES12DEL01</td>\n",
       "      <td>31</td>\n",
       "      <td>4.9</td>\n",
       "      <td>17.429585</td>\n",
       "      <td>78.392621</td>\n",
       "      <td>17.469585</td>\n",
       "      <td>78.432621</td>\n",
       "      <td>Buffet</td>\n",
       "      <td>motorcycle</td>\n",
       "      <td>40</td>\n",
       "    </tr>\n",
       "    <tr>\n",
       "      <th>24996</th>\n",
       "      <td>E1E7</td>\n",
       "      <td>KOCRES01DEL01</td>\n",
       "      <td>20</td>\n",
       "      <td>4.0</td>\n",
       "      <td>9.979363</td>\n",
       "      <td>76.285001</td>\n",
       "      <td>10.049363</td>\n",
       "      <td>76.355001</td>\n",
       "      <td>Drinks</td>\n",
       "      <td>motorcycle</td>\n",
       "      <td>33</td>\n",
       "    </tr>\n",
       "    <tr>\n",
       "      <th>43593</th>\n",
       "      <td>1690</td>\n",
       "      <td>MUMRES09DEL03</td>\n",
       "      <td>39</td>\n",
       "      <td>4.7</td>\n",
       "      <td>18.994049</td>\n",
       "      <td>72.825203</td>\n",
       "      <td>19.084049</td>\n",
       "      <td>72.915203</td>\n",
       "      <td>Snack</td>\n",
       "      <td>motorcycle</td>\n",
       "      <td>27</td>\n",
       "    </tr>\n",
       "    <tr>\n",
       "      <th>40457</th>\n",
       "      <td>49EA</td>\n",
       "      <td>VADRES05DEL01</td>\n",
       "      <td>27</td>\n",
       "      <td>4.7</td>\n",
       "      <td>22.310526</td>\n",
       "      <td>73.170937</td>\n",
       "      <td>22.380526</td>\n",
       "      <td>73.240937</td>\n",
       "      <td>Snack</td>\n",
       "      <td>scooter</td>\n",
       "      <td>26</td>\n",
       "    </tr>\n",
       "    <tr>\n",
       "      <th>12223</th>\n",
       "      <td>2E+08</td>\n",
       "      <td>BANGRES03DEL01</td>\n",
       "      <td>28</td>\n",
       "      <td>4.7</td>\n",
       "      <td>12.979166</td>\n",
       "      <td>77.640709</td>\n",
       "      <td>13.019166</td>\n",
       "      <td>77.680709</td>\n",
       "      <td>Snack</td>\n",
       "      <td>motorcycle</td>\n",
       "      <td>30</td>\n",
       "    </tr>\n",
       "    <tr>\n",
       "      <th>25846</th>\n",
       "      <td>866E</td>\n",
       "      <td>JAPRES17DEL01</td>\n",
       "      <td>25</td>\n",
       "      <td>4.5</td>\n",
       "      <td>26.892312</td>\n",
       "      <td>75.806896</td>\n",
       "      <td>26.932312</td>\n",
       "      <td>75.846896</td>\n",
       "      <td>Drinks</td>\n",
       "      <td>scooter</td>\n",
       "      <td>10</td>\n",
       "    </tr>\n",
       "  </tbody>\n",
       "</table>\n",
       "</div>"
      ],
      "text/plain": [
       "      Kimlik Teslimat_personel_ID  Teslimat_personel_yası  \\\n",
       "21307   59C8       CHENRES03DEL03                      39   \n",
       "19803   467C        HYDRES12DEL01                      31   \n",
       "24996   E1E7        KOCRES01DEL01                      20   \n",
       "43593   1690        MUMRES09DEL03                      39   \n",
       "40457   49EA        VADRES05DEL01                      27   \n",
       "12223  2E+08       BANGRES03DEL01                      28   \n",
       "25846   866E        JAPRES17DEL01                      25   \n",
       "\n",
       "       Teslimat_personel_puanları  Restoran_enlemi  Restoran_boylamı  \\\n",
       "21307                         4.8        13.091809         80.219104   \n",
       "19803                         4.9        17.429585         78.392621   \n",
       "24996                         4.0         9.979363         76.285001   \n",
       "43593                         4.7        18.994049         72.825203   \n",
       "40457                         4.7        22.310526         73.170937   \n",
       "12223                         4.7        12.979166         77.640709   \n",
       "25846                         4.5        26.892312         75.806896   \n",
       "\n",
       "       Teslimat_enlemi  Teslimat_boylamı Sipariş_türü    Araç_türü  \\\n",
       "21307        13.181809         80.309104      Drinks      scooter    \n",
       "19803        17.469585         78.432621      Buffet   motorcycle    \n",
       "24996        10.049363         76.355001      Drinks   motorcycle    \n",
       "43593        19.084049         72.915203       Snack   motorcycle    \n",
       "40457        22.380526         73.240937       Snack      scooter    \n",
       "12223        13.019166         77.680709       Snack   motorcycle    \n",
       "25846        26.932312         75.846896      Drinks      scooter    \n",
       "\n",
       "       Teslimat_süresi(dakika)  \n",
       "21307                       27  \n",
       "19803                       40  \n",
       "24996                       33  \n",
       "43593                       27  \n",
       "40457                       26  \n",
       "12223                       30  \n",
       "25846                       10  "
      ]
     },
     "execution_count": 8,
     "metadata": {},
     "output_type": "execute_result"
    }
   ],
   "source": [
    "df.sample(7)"
   ]
  },
  {
   "cell_type": "code",
   "execution_count": 9,
   "id": "b489597c",
   "metadata": {},
   "outputs": [
    {
     "data": {
      "text/html": [
       "<div>\n",
       "<style scoped>\n",
       "    .dataframe tbody tr th:only-of-type {\n",
       "        vertical-align: middle;\n",
       "    }\n",
       "\n",
       "    .dataframe tbody tr th {\n",
       "        vertical-align: top;\n",
       "    }\n",
       "\n",
       "    .dataframe thead th {\n",
       "        text-align: right;\n",
       "    }\n",
       "</style>\n",
       "<table border=\"1\" class=\"dataframe\">\n",
       "  <thead>\n",
       "    <tr style=\"text-align: right;\">\n",
       "      <th></th>\n",
       "      <th>Teslimat_personel_yası</th>\n",
       "      <th>Teslimat_personel_puanları</th>\n",
       "      <th>Restoran_enlemi</th>\n",
       "      <th>Restoran_boylamı</th>\n",
       "      <th>Teslimat_enlemi</th>\n",
       "      <th>Teslimat_boylamı</th>\n",
       "      <th>Teslimat_süresi(dakika)</th>\n",
       "    </tr>\n",
       "  </thead>\n",
       "  <tbody>\n",
       "    <tr>\n",
       "      <th>count</th>\n",
       "      <td>45593.000000</td>\n",
       "      <td>45593.000000</td>\n",
       "      <td>45593.000000</td>\n",
       "      <td>45593.000000</td>\n",
       "      <td>45593.000000</td>\n",
       "      <td>45593.000000</td>\n",
       "      <td>45593.000000</td>\n",
       "    </tr>\n",
       "    <tr>\n",
       "      <th>mean</th>\n",
       "      <td>29.544075</td>\n",
       "      <td>4.632367</td>\n",
       "      <td>17.017729</td>\n",
       "      <td>70.231332</td>\n",
       "      <td>17.465186</td>\n",
       "      <td>70.845702</td>\n",
       "      <td>26.294607</td>\n",
       "    </tr>\n",
       "    <tr>\n",
       "      <th>std</th>\n",
       "      <td>5.696793</td>\n",
       "      <td>0.327708</td>\n",
       "      <td>8.185109</td>\n",
       "      <td>22.883647</td>\n",
       "      <td>7.335122</td>\n",
       "      <td>21.118812</td>\n",
       "      <td>9.383806</td>\n",
       "    </tr>\n",
       "    <tr>\n",
       "      <th>min</th>\n",
       "      <td>15.000000</td>\n",
       "      <td>1.000000</td>\n",
       "      <td>-30.905562</td>\n",
       "      <td>-88.366217</td>\n",
       "      <td>0.010000</td>\n",
       "      <td>0.010000</td>\n",
       "      <td>10.000000</td>\n",
       "    </tr>\n",
       "    <tr>\n",
       "      <th>25%</th>\n",
       "      <td>25.000000</td>\n",
       "      <td>4.600000</td>\n",
       "      <td>12.933284</td>\n",
       "      <td>73.170000</td>\n",
       "      <td>12.988453</td>\n",
       "      <td>73.280000</td>\n",
       "      <td>19.000000</td>\n",
       "    </tr>\n",
       "    <tr>\n",
       "      <th>50%</th>\n",
       "      <td>29.000000</td>\n",
       "      <td>4.700000</td>\n",
       "      <td>18.546947</td>\n",
       "      <td>75.898497</td>\n",
       "      <td>18.633934</td>\n",
       "      <td>76.002574</td>\n",
       "      <td>26.000000</td>\n",
       "    </tr>\n",
       "    <tr>\n",
       "      <th>75%</th>\n",
       "      <td>34.000000</td>\n",
       "      <td>4.800000</td>\n",
       "      <td>22.728163</td>\n",
       "      <td>78.044095</td>\n",
       "      <td>22.785049</td>\n",
       "      <td>78.107044</td>\n",
       "      <td>32.000000</td>\n",
       "    </tr>\n",
       "    <tr>\n",
       "      <th>max</th>\n",
       "      <td>50.000000</td>\n",
       "      <td>6.000000</td>\n",
       "      <td>30.914057</td>\n",
       "      <td>88.433452</td>\n",
       "      <td>31.054057</td>\n",
       "      <td>88.563452</td>\n",
       "      <td>54.000000</td>\n",
       "    </tr>\n",
       "  </tbody>\n",
       "</table>\n",
       "</div>"
      ],
      "text/plain": [
       "       Teslimat_personel_yası  Teslimat_personel_puanları  Restoran_enlemi  \\\n",
       "count            45593.000000                45593.000000     45593.000000   \n",
       "mean                29.544075                    4.632367        17.017729   \n",
       "std                  5.696793                    0.327708         8.185109   \n",
       "min                 15.000000                    1.000000       -30.905562   \n",
       "25%                 25.000000                    4.600000        12.933284   \n",
       "50%                 29.000000                    4.700000        18.546947   \n",
       "75%                 34.000000                    4.800000        22.728163   \n",
       "max                 50.000000                    6.000000        30.914057   \n",
       "\n",
       "       Restoran_boylamı  Teslimat_enlemi  Teslimat_boylamı  \\\n",
       "count      45593.000000     45593.000000      45593.000000   \n",
       "mean          70.231332        17.465186         70.845702   \n",
       "std           22.883647         7.335122         21.118812   \n",
       "min          -88.366217         0.010000          0.010000   \n",
       "25%           73.170000        12.988453         73.280000   \n",
       "50%           75.898497        18.633934         76.002574   \n",
       "75%           78.044095        22.785049         78.107044   \n",
       "max           88.433452        31.054057         88.563452   \n",
       "\n",
       "       Teslimat_süresi(dakika)  \n",
       "count             45593.000000  \n",
       "mean                 26.294607  \n",
       "std                   9.383806  \n",
       "min                  10.000000  \n",
       "25%                  19.000000  \n",
       "50%                  26.000000  \n",
       "75%                  32.000000  \n",
       "max                  54.000000  "
      ]
     },
     "execution_count": 9,
     "metadata": {},
     "output_type": "execute_result"
    }
   ],
   "source": [
    "df.describe()"
   ]
  },
  {
   "cell_type": "code",
   "execution_count": 10,
   "id": "4d7badc3",
   "metadata": {},
   "outputs": [
    {
     "data": {
      "text/html": [
       "<div>\n",
       "<style scoped>\n",
       "    .dataframe tbody tr th:only-of-type {\n",
       "        vertical-align: middle;\n",
       "    }\n",
       "\n",
       "    .dataframe tbody tr th {\n",
       "        vertical-align: top;\n",
       "    }\n",
       "\n",
       "    .dataframe thead th {\n",
       "        text-align: right;\n",
       "    }\n",
       "</style>\n",
       "<table border=\"1\" class=\"dataframe\">\n",
       "  <thead>\n",
       "    <tr style=\"text-align: right;\">\n",
       "      <th></th>\n",
       "      <th>Teslimat_personel_yası</th>\n",
       "      <th>Teslimat_personel_puanları</th>\n",
       "      <th>Restoran_enlemi</th>\n",
       "      <th>Restoran_boylamı</th>\n",
       "      <th>Teslimat_enlemi</th>\n",
       "      <th>Teslimat_boylamı</th>\n",
       "      <th>Teslimat_süresi(dakika)</th>\n",
       "    </tr>\n",
       "  </thead>\n",
       "  <tbody>\n",
       "    <tr>\n",
       "      <th>Teslimat_personel_yası</th>\n",
       "      <td>1.000000</td>\n",
       "      <td>-0.067449</td>\n",
       "      <td>-0.001955</td>\n",
       "      <td>-0.006796</td>\n",
       "      <td>0.002359</td>\n",
       "      <td>-0.000593</td>\n",
       "      <td>0.292708</td>\n",
       "    </tr>\n",
       "    <tr>\n",
       "      <th>Teslimat_personel_puanları</th>\n",
       "      <td>-0.067449</td>\n",
       "      <td>1.000000</td>\n",
       "      <td>-0.004846</td>\n",
       "      <td>-0.011147</td>\n",
       "      <td>-0.010198</td>\n",
       "      <td>-0.013350</td>\n",
       "      <td>-0.331103</td>\n",
       "    </tr>\n",
       "    <tr>\n",
       "      <th>Restoran_enlemi</th>\n",
       "      <td>-0.001955</td>\n",
       "      <td>-0.004846</td>\n",
       "      <td>1.000000</td>\n",
       "      <td>0.661784</td>\n",
       "      <td>0.866378</td>\n",
       "      <td>0.602713</td>\n",
       "      <td>0.013981</td>\n",
       "    </tr>\n",
       "    <tr>\n",
       "      <th>Restoran_boylamı</th>\n",
       "      <td>-0.006796</td>\n",
       "      <td>-0.011147</td>\n",
       "      <td>0.661784</td>\n",
       "      <td>1.000000</td>\n",
       "      <td>0.632293</td>\n",
       "      <td>0.915026</td>\n",
       "      <td>0.007821</td>\n",
       "    </tr>\n",
       "    <tr>\n",
       "      <th>Teslimat_enlemi</th>\n",
       "      <td>0.002359</td>\n",
       "      <td>-0.010198</td>\n",
       "      <td>0.866378</td>\n",
       "      <td>0.632293</td>\n",
       "      <td>1.000000</td>\n",
       "      <td>0.690515</td>\n",
       "      <td>0.014243</td>\n",
       "    </tr>\n",
       "    <tr>\n",
       "      <th>Teslimat_boylamı</th>\n",
       "      <td>-0.000593</td>\n",
       "      <td>-0.013350</td>\n",
       "      <td>0.602713</td>\n",
       "      <td>0.915026</td>\n",
       "      <td>0.690515</td>\n",
       "      <td>1.000000</td>\n",
       "      <td>0.007625</td>\n",
       "    </tr>\n",
       "    <tr>\n",
       "      <th>Teslimat_süresi(dakika)</th>\n",
       "      <td>0.292708</td>\n",
       "      <td>-0.331103</td>\n",
       "      <td>0.013981</td>\n",
       "      <td>0.007821</td>\n",
       "      <td>0.014243</td>\n",
       "      <td>0.007625</td>\n",
       "      <td>1.000000</td>\n",
       "    </tr>\n",
       "  </tbody>\n",
       "</table>\n",
       "</div>"
      ],
      "text/plain": [
       "                            Teslimat_personel_yası  \\\n",
       "Teslimat_personel_yası                    1.000000   \n",
       "Teslimat_personel_puanları               -0.067449   \n",
       "Restoran_enlemi                          -0.001955   \n",
       "Restoran_boylamı                         -0.006796   \n",
       "Teslimat_enlemi                           0.002359   \n",
       "Teslimat_boylamı                         -0.000593   \n",
       "Teslimat_süresi(dakika)                   0.292708   \n",
       "\n",
       "                            Teslimat_personel_puanları  Restoran_enlemi  \\\n",
       "Teslimat_personel_yası                       -0.067449        -0.001955   \n",
       "Teslimat_personel_puanları                    1.000000        -0.004846   \n",
       "Restoran_enlemi                              -0.004846         1.000000   \n",
       "Restoran_boylamı                             -0.011147         0.661784   \n",
       "Teslimat_enlemi                              -0.010198         0.866378   \n",
       "Teslimat_boylamı                             -0.013350         0.602713   \n",
       "Teslimat_süresi(dakika)                      -0.331103         0.013981   \n",
       "\n",
       "                            Restoran_boylamı  Teslimat_enlemi  \\\n",
       "Teslimat_personel_yası             -0.006796         0.002359   \n",
       "Teslimat_personel_puanları         -0.011147        -0.010198   \n",
       "Restoran_enlemi                     0.661784         0.866378   \n",
       "Restoran_boylamı                    1.000000         0.632293   \n",
       "Teslimat_enlemi                     0.632293         1.000000   \n",
       "Teslimat_boylamı                    0.915026         0.690515   \n",
       "Teslimat_süresi(dakika)             0.007821         0.014243   \n",
       "\n",
       "                            Teslimat_boylamı  Teslimat_süresi(dakika)  \n",
       "Teslimat_personel_yası             -0.000593                 0.292708  \n",
       "Teslimat_personel_puanları         -0.013350                -0.331103  \n",
       "Restoran_enlemi                     0.602713                 0.013981  \n",
       "Restoran_boylamı                    0.915026                 0.007821  \n",
       "Teslimat_enlemi                     0.690515                 0.014243  \n",
       "Teslimat_boylamı                    1.000000                 0.007625  \n",
       "Teslimat_süresi(dakika)             0.007625                 1.000000  "
      ]
     },
     "execution_count": 10,
     "metadata": {},
     "output_type": "execute_result"
    }
   ],
   "source": [
    "df.corr()"
   ]
  },
  {
   "cell_type": "code",
   "execution_count": 11,
   "id": "088cc484",
   "metadata": {},
   "outputs": [
    {
     "name": "stdout",
     "output_type": "stream",
     "text": [
      "<class 'pandas.core.frame.DataFrame'>\n",
      "RangeIndex: 45593 entries, 0 to 45592\n",
      "Data columns (total 11 columns):\n",
      " #   Column                      Non-Null Count  Dtype  \n",
      "---  ------                      --------------  -----  \n",
      " 0   Kimlik                      45593 non-null  object \n",
      " 1   Teslimat_personel_ID        45593 non-null  object \n",
      " 2   Teslimat_personel_yası      45593 non-null  int64  \n",
      " 3   Teslimat_personel_puanları  45593 non-null  float64\n",
      " 4   Restoran_enlemi             45593 non-null  float64\n",
      " 5   Restoran_boylamı            45593 non-null  float64\n",
      " 6   Teslimat_enlemi             45593 non-null  float64\n",
      " 7   Teslimat_boylamı            45593 non-null  float64\n",
      " 8   Sipariş_türü                45593 non-null  object \n",
      " 9   Araç_türü                   45593 non-null  object \n",
      " 10  Teslimat_süresi(dakika)     45593 non-null  int64  \n",
      "dtypes: float64(5), int64(2), object(4)\n",
      "memory usage: 3.8+ MB\n"
     ]
    }
   ],
   "source": [
    "df.info()"
   ]
  },
  {
   "cell_type": "code",
   "execution_count": 38,
   "id": "cd7eb4a0",
   "metadata": {},
   "outputs": [],
   "source": [
    "silinebilir=['Kimlik',  'Teslimat_personel_ID']\n",
    "df.drop(silinebilir, inplace=True, axis=1)"
   ]
  },
  {
   "cell_type": "markdown",
   "id": "b1ae8599",
   "metadata": {},
   "source": [
    "## Data Visualization"
   ]
  },
  {
   "cell_type": "code",
   "execution_count": 28,
   "id": "89054059",
   "metadata": {},
   "outputs": [
    {
     "data": {
      "text/plain": [
       "<Axes: >"
      ]
     },
     "execution_count": 28,
     "metadata": {},
     "output_type": "execute_result"
    },
    {
     "data": {
      "image/png": "[encoded data removed]",
      "text/plain": [
       "<Figure size 640x480 with 1 Axes>"
      ]
     },
     "metadata": {},
     "output_type": "display_data"
    }
   ],
   "source": [
    "df[\"Teslimat_personel_yası\"].value_counts().plot.bar(color=\"green\")"
   ]
  },
  {
   "cell_type": "code",
   "execution_count": 26,
   "id": "cc3c47e2",
   "metadata": {},
   "outputs": [
    {
     "data": {
      "image/png": "[encoded data removed]",
      "text/plain": [
       "<Figure size 600x400 with 1 Axes>"
      ]
     },
     "metadata": {},
     "output_type": "display_data"
    }
   ],
   "source": [
    "# Box plot çizimi\n",
    "plt.figure(figsize=(6, 4))\n",
    "sns.boxplot(x=df['Teslimat_süresi(dakika)'], palette='pink')  # Box plot rengi olarak pembe\n",
    "plt.xlabel('Sütun Adı')  # Sütun adını buraya ekleyin\n",
    "plt.title('Teslimat_süresi(dakika)')\n",
    "plt.show()"
   ]
  },
  {
   "cell_type": "code",
   "execution_count": 24,
   "id": "25302df0",
   "metadata": {},
   "outputs": [
    {
     "data": {
      "image/png": "[encoded data removed]",
      "text/plain": [
       "<Figure size 640x480 with 1 Axes>"
      ]
     },
     "metadata": {},
     "output_type": "display_data"
    }
   ],
   "source": [
    "plt.hist(df['Teslimat_süresi(dakika)'], bins=20, color=\"orange\")\n",
    "plt.xlabel('Teslimat Süresi (dakika)')\n",
    "plt.ylabel('Frekans')\n",
    "plt.title('Teslimat Süresi Histogramı')\n",
    "plt.show()"
   ]
  },
  {
   "cell_type": "code",
   "execution_count": 20,
   "id": "2be9e78f",
   "metadata": {},
   "outputs": [
    {
     "data": {
      "image/png": "[encoded data removed]",
      "text/plain": [
       "<Figure size 640x480 with 1 Axes>"
      ]
     },
     "metadata": {},
     "output_type": "display_data"
    }
   ],
   "source": [
    "plt.scatter(df['Teslimat_personel_yası'], df['Teslimat_süresi(dakika)'])\n",
    "plt.xlabel('Teslimat Personel Yaşı')\n",
    "plt.ylabel('Teslimat Süresi (dakika)')\n",
    "plt.title('Sahil Grafiği: Teslimat Personel Yaşı ve Teslimat Süresi İlişkisi')\n",
    "plt.show()"
   ]
  },
  {
   "cell_type": "code",
   "execution_count": 23,
   "id": "dc951d21",
   "metadata": {},
   "outputs": [
    {
     "data": {
      "image/png": "[encoded data removed]",
      "text/plain": [
       "<Figure size 640x480 with 1 Axes>"
      ]
     },
     "metadata": {},
     "output_type": "display_data"
    }
   ],
   "source": [
    "plt.pie(x=df['Teslimat_personel_puanları'].value_counts(), labels=df[\"Teslimat_personel_puanları\"].unique(), autopct='%1.1f%%')\n",
    "plt.axis('equal')  # Dairesel bir pasta grafiği oluşturmak için bu satırı ekleyin\n",
    "plt.title('Teslimat Personel Puanlarının Dağılımı')\n",
    "plt.show()"
   ]
  },
  {
   "cell_type": "code",
   "execution_count": 31,
   "id": "eeba53eb",
   "metadata": {},
   "outputs": [
    {
     "data": {
      "image/png": "[encoded data removed]",
      "text/plain": [
       "<Figure size 800x600 with 1 Axes>"
      ]
     },
     "metadata": {},
     "output_type": "display_data"
    }
   ],
   "source": [
    "plt.figure(figsize=(8, 6))\n",
    "sns.boxplot(x='Sipariş_türü', y='Teslimat_süresi(dakika)', data=df)\n",
    "plt.xlabel('Sipariş Türü')\n",
    "plt.ylabel('Teslimat Süresi (dakika)')\n",
    "plt.title('Sipariş Türlerine Göre Teslimat Süresi Kutu Grafiği')\n",
    "plt.show()"
   ]
  },
  {
   "cell_type": "code",
   "execution_count": 32,
   "id": "1f181208",
   "metadata": {},
   "outputs": [
    {
     "data": {
      "image/png": "[encoded data removed]",
      "text/plain": [
       "<Figure size 800x600 with 1 Axes>"
      ]
     },
     "metadata": {},
     "output_type": "display_data"
    }
   ],
   "source": [
    "plt.figure(figsize=(8, 6))\n",
    "sns.boxplot(x='Araç_türü', y='Teslimat_süresi(dakika)', data=df)\n",
    "plt.xlabel('Araç Türü')\n",
    "plt.ylabel('Teslimat Süresi (dakika)')\n",
    "plt.title('Araç Türlerine Göre Teslimat Süresi Kutu Grafiği')\n",
    "plt.show()"
   ]
  },
  {
   "cell_type": "markdown",
   "id": "f5f3d605",
   "metadata": {},
   "source": [
    "## Feature Engineering"
   ]
  },
  {
   "cell_type": "markdown",
   "id": "61ef2a7b",
   "metadata": {},
   "source": [
    "Tahmin oranını yükseltmek için öncelikle verilerinizi dikkatle analiz etmelisiniz. Verilerinizin doğru ve uygun şekilde işlenmesi, modelinizin daha iyi tahminler yapmasına yardımcı olabilir. İşte bu veri seti üzerinde tahmin oranını artırmak için yapabileceğiniz bazı önemli adımlar:\n",
    "\n",
    "1. **Veri Keşfi (Data Exploration):** Veri setinizi daha yakından inceleyin. Bu, verilerin dağılımını, aykırı değerleri ve eksik verileri anlamanıza yardımcı olur. Özellikle \"Teslimat_süresi(dakika)\" sütunu, tahmin etmeye çalıştığınız hedef değişken olabilir.\n",
    "\n",
    "2. **Aykırı Değer İşleme (Outlier Handling):** Aykırı değerler, modelinizi olumsuz etkileyebilir. Aykırı değerleri tanımlayın ve işlemek için uygun bir strateji uygulayın. Aykırı değerlerin nasıl işleneceği, verileriniz ve modelinizin gereksinimlerine bağlı olacaktır.\n",
    "\n",
    "3. **Özellik Mühendisliği (Feature Engineering):** Mevcut özellikleri iyileştirebilir veya yeni özellikler oluşturabilirsiniz. Özellikle coğrafi verileri işlerken, mesafe hesaplamaları gibi yeni özellikler oluşturmak faydalı olabilir.\n",
    "\n",
    "4. **Kategorik Değişkenlerin İşlenmesi:** \"Sipariş_türü\" ve \"Araç_türü\" gibi kategorik değişkenleri modelinizin anlayabileceği sayısal biçimlere dönüştürmelisiniz. Bu, one-hot encoding veya label encoding gibi yöntemlerle yapılabilir.\n",
    "\n",
    "5. **Veri Ölçekleme veya Normalleştirme:** Verilerinizi Min-Max ölçeklemesi veya Z-skor ölçeklemesi gibi tekniklerle ölçeklendirebilirsiniz. Bu, farklı özelliklerin aynı ölçekte olmasına yardımcı olur.\n",
    "\n",
    "6. **Model Seçimi:** Hangi modelin kullanılacağını dikkatlice seçin. Regresyon problemi için lineer regresyon, karar ağaçları, rastgele ormanlar, destek vektör regresyonu ve daha karmaşık modeller gibi çeşitli seçenekler vardır. Veri setinizin özelliklerine ve büyüklüğüne bağlı olarak en uygun modeli seçin.\n",
    "\n",
    "7. **Hiperparametre Ayarı:** Seçtiğiniz modelin hiperparametrelerini çapraz doğrulama (cross-validation) kullanarak ayarlayın. Bu, modelinizin performansını iyileştirebilir.\n",
    "\n",
    "8. **Çapraz Doğrulama Kullanma:** Modelinizi değerlendirmek ve aşırı uyumu önlemek için çapraz doğrulama yöntemlerini kullanın.\n",
    "\n",
    "9. **Düzenleme (Regularization):** Düzenleme teknikleri (örneğin, Ridge veya Lasso regresyonu) kullanarak modelinizin aşırı uyumu önleyin.\n",
    "\n",
    "10. **Hata Analizi:** Modelinizin tahminlerini dikkatle inceleyin ve hangi durumlarda hata yaptığını anlamaya çalışın. Bu, modelinizi daha da geliştirmenize yardımcı olabilir.\n",
    "\n",
    "11. **Domain Bilgisi Kullanma:** Problem alanınıza ait bilgi ve içgörüler, özellikle özellik mühendisliği aşamasında, daha iyi özelliklerin oluşturulmasına yardımcı olabilir.\n",
    "\n",
    "Tahmin oranını artırmak, veri bilimi sürecinin her aşamasında dikkatlice çalışmayı gerektirir. Başarı oranını artırmak için veri setinizi ve modelinizi iyileştirmeye yönelik bu adımları takip ederek daha iyi sonuçlar elde edebilirsiniz."
   ]
  },
  {
   "cell_type": "code",
   "execution_count": 36,
   "id": "ee6f1c35",
   "metadata": {
    "collapsed": true
   },
   "outputs": [
    {
     "name": "stdout",
     "output_type": "stream",
     "text": [
      "  Kimlik Teslimat_personel_ID  Teslimat_personel_yası  \\\n",
      "0   4607       INDORES13DEL02                      37   \n",
      "1   B379       BANGRES18DEL02                      34   \n",
      "2   5D6D       BANGRES19DEL01                      23   \n",
      "3   7A6A      COIMBRES13DEL02                      38   \n",
      "4   70A2       CHENRES12DEL01                      32   \n",
      "\n",
      "   Teslimat_personel_puanları  Restoran_enlemi  Restoran_boylamı  \\\n",
      "0                         4.9        22.745049         75.892471   \n",
      "1                         4.5        12.913041         77.683237   \n",
      "2                         4.4        12.914264         77.678400   \n",
      "3                         4.7        11.003669         76.976494   \n",
      "4                         4.6        12.972793         80.249982   \n",
      "\n",
      "   Teslimat_enlemi  Teslimat_boylamı Sipariş_türü    Araç_türü  \\\n",
      "0        22.765049         75.912471       Snack   motorcycle    \n",
      "1        13.043041         77.813237       Snack      scooter    \n",
      "2        12.924264         77.688400      Drinks   motorcycle    \n",
      "3        11.053669         77.026494      Buffet   motorcycle    \n",
      "4        13.012793         80.289982       Snack      scooter    \n",
      "\n",
      "   Teslimat_süresi(dakika)  Mesafe_km  \n",
      "0                       24   3.025154  \n",
      "1                       33  20.183558  \n",
      "2                       26   1.552760  \n",
      "3                       21   7.790412  \n",
      "4                       30   6.210147  \n"
     ]
    }
   ],
   "source": [
    "from geopy.distance import great_circle\n",
    "import pandas as pd\n",
    "\n",
    "# Mesafe hesaplamalarını yapmak için bir fonksiyon tanımlama\n",
    "def mesafe_hesapla(row):\n",
    "    restoran_konumu = (row['Restoran_enlemi'], row['Restoran_boylamı'])\n",
    "    teslimat_konumu = (row['Teslimat_enlemi'], row['Teslimat_boylamı'])\n",
    "    return great_circle(restoran_konumu, teslimat_konumu).kilometers\n",
    "\n",
    "# Yeni bir özellik (mesafe) oluşturma ve veri çerçevesine eklemek\n",
    "df['Mesafe_km'] = df.apply(mesafe_hesapla, axis=1)\n",
    "\n",
    "# Sonuçları gösterme\n",
    "print(df.head())"
   ]
  },
  {
   "cell_type": "markdown",
   "id": "791dbec7",
   "metadata": {},
   "source": [
    "Bu kodun amacı, restoran konumu ile teslimat konumu arasındaki mesafeyi kilometre cinsinden hesaplayarak, bu mesafeyi veri çerçevesine eklemektir. Bu mesafe, belirli bir siparişin teslimat süresini etkileyebilir ve analizlerde kullanışlı bir özellik olabilir.\n",
    "Teslimat Süresi Tahmini: Teslimat süresini tahmin etmek için, siparişin alındığı restoran ile teslimat adresi arasındaki mesafe önemli bir faktördür. Bu mesafeyi hesaplayarak, teslimat süresini daha doğru bir şekilde tahmin edebilirsiniz."
   ]
  },
  {
   "cell_type": "code",
   "execution_count": 47,
   "id": "f06fad41",
   "metadata": {},
   "outputs": [
    {
     "name": "stdout",
     "output_type": "stream",
     "text": [
      "<class 'pandas.core.frame.DataFrame'>\n",
      "RangeIndex: 45593 entries, 0 to 45592\n",
      "Data columns (total 10 columns):\n",
      " #   Column                      Non-Null Count  Dtype  \n",
      "---  ------                      --------------  -----  \n",
      " 0   Teslimat_personel_yası      45593 non-null  int64  \n",
      " 1   Teslimat_personel_puanları  45593 non-null  float64\n",
      " 2   Restoran_enlemi             45593 non-null  float64\n",
      " 3   Restoran_boylamı            45593 non-null  float64\n",
      " 4   Teslimat_enlemi             45593 non-null  float64\n",
      " 5   Teslimat_boylamı            45593 non-null  float64\n",
      " 6   Sipariş_türü                45593 non-null  object \n",
      " 7   Araç_türü                   45593 non-null  object \n",
      " 8   Teslimat_süresi(dakika)     45593 non-null  int64  \n",
      " 9   Mesafe_km                   45593 non-null  float64\n",
      "dtypes: float64(6), int64(2), object(2)\n",
      "memory usage: 3.5+ MB\n"
     ]
    }
   ],
   "source": [
    "df.info()"
   ]
  },
  {
   "cell_type": "code",
   "execution_count": 41,
   "id": "2bdc4f05",
   "metadata": {},
   "outputs": [
    {
     "data": {
      "text/plain": [
       "Snack      11533\n",
       "Meal       11458\n",
       "Drinks     11322\n",
       "Buffet     11280\n",
       "Name: Sipariş_türü, dtype: int64"
      ]
     },
     "execution_count": 41,
     "metadata": {},
     "output_type": "execute_result"
    }
   ],
   "source": [
    "# İki tane object verimizi algoritma güzel işlesin için sayısal verilere dönüştürelim\n",
    "df[\"Sipariş_türü\"].value_counts()"
   ]
  },
  {
   "cell_type": "code",
   "execution_count": 42,
   "id": "ea213291",
   "metadata": {},
   "outputs": [
    {
     "data": {
      "text/plain": [
       "motorcycle           26435\n",
       "scooter              15276\n",
       "electric_scooter      3814\n",
       "bicycle                 68\n",
       "Name: Araç_türü, dtype: int64"
      ]
     },
     "execution_count": 42,
     "metadata": {},
     "output_type": "execute_result"
    }
   ],
   "source": [
    "df[\"Araç_türü\"].value_counts()"
   ]
  },
  {
   "cell_type": "markdown",
   "id": "53075894",
   "metadata": {},
   "source": [
    "**One-Hot Encoding:**(getdummies)\n",
    "Bu yöntemde, her kategori bir sütun oluşturularak ve her sütun 0 veya 1 ile kodlanır. Her bir sütun, ilgili kategorinin mevcut olup olmadığını belirtir.\n",
    "Bu kod, \"Sipariş_türü\" ve \"Araç_türü\" sütunlarını one-hot encoding ile dönüştürür ve her bir kategoriye karşılık gelen yeni sütunlar oluşturur. Her bir sütun, ilgili kategorinin mevcut olup olmadığını belirtir ve 0 veya 1 değerlerini alır."
   ]
  },
  {
   "cell_type": "code",
   "execution_count": 45,
   "id": "c7c72bf7",
   "metadata": {},
   "outputs": [
    {
     "data": {
      "text/html": [
       "<div>\n",
       "<style scoped>\n",
       "    .dataframe tbody tr th:only-of-type {\n",
       "        vertical-align: middle;\n",
       "    }\n",
       "\n",
       "    .dataframe tbody tr th {\n",
       "        vertical-align: top;\n",
       "    }\n",
       "\n",
       "    .dataframe thead th {\n",
       "        text-align: right;\n",
       "    }\n",
       "</style>\n",
       "<table border=\"1\" class=\"dataframe\">\n",
       "  <thead>\n",
       "    <tr style=\"text-align: right;\">\n",
       "      <th></th>\n",
       "      <th>Teslimat_personel_yası</th>\n",
       "      <th>Teslimat_personel_puanları</th>\n",
       "      <th>Restoran_enlemi</th>\n",
       "      <th>Restoran_boylamı</th>\n",
       "      <th>Teslimat_enlemi</th>\n",
       "      <th>Teslimat_boylamı</th>\n",
       "      <th>Teslimat_süresi(dakika)</th>\n",
       "      <th>Mesafe_km</th>\n",
       "      <th>Sipariş_türü_Buffet</th>\n",
       "      <th>Sipariş_türü_Drinks</th>\n",
       "      <th>Sipariş_türü_Meal</th>\n",
       "      <th>Sipariş_türü_Snack</th>\n",
       "      <th>Araç_türü_bicycle</th>\n",
       "      <th>Araç_türü_electric_scooter</th>\n",
       "      <th>Araç_türü_motorcycle</th>\n",
       "      <th>Araç_türü_scooter</th>\n",
       "    </tr>\n",
       "  </thead>\n",
       "  <tbody>\n",
       "    <tr>\n",
       "      <th>0</th>\n",
       "      <td>37</td>\n",
       "      <td>4.9</td>\n",
       "      <td>22.745049</td>\n",
       "      <td>75.892471</td>\n",
       "      <td>22.765049</td>\n",
       "      <td>75.912471</td>\n",
       "      <td>24</td>\n",
       "      <td>3.025154</td>\n",
       "      <td>0</td>\n",
       "      <td>0</td>\n",
       "      <td>0</td>\n",
       "      <td>1</td>\n",
       "      <td>0</td>\n",
       "      <td>0</td>\n",
       "      <td>1</td>\n",
       "      <td>0</td>\n",
       "    </tr>\n",
       "    <tr>\n",
       "      <th>1</th>\n",
       "      <td>34</td>\n",
       "      <td>4.5</td>\n",
       "      <td>12.913041</td>\n",
       "      <td>77.683237</td>\n",
       "      <td>13.043041</td>\n",
       "      <td>77.813237</td>\n",
       "      <td>33</td>\n",
       "      <td>20.183558</td>\n",
       "      <td>0</td>\n",
       "      <td>0</td>\n",
       "      <td>0</td>\n",
       "      <td>1</td>\n",
       "      <td>0</td>\n",
       "      <td>0</td>\n",
       "      <td>0</td>\n",
       "      <td>1</td>\n",
       "    </tr>\n",
       "    <tr>\n",
       "      <th>2</th>\n",
       "      <td>23</td>\n",
       "      <td>4.4</td>\n",
       "      <td>12.914264</td>\n",
       "      <td>77.678400</td>\n",
       "      <td>12.924264</td>\n",
       "      <td>77.688400</td>\n",
       "      <td>26</td>\n",
       "      <td>1.552760</td>\n",
       "      <td>0</td>\n",
       "      <td>1</td>\n",
       "      <td>0</td>\n",
       "      <td>0</td>\n",
       "      <td>0</td>\n",
       "      <td>0</td>\n",
       "      <td>1</td>\n",
       "      <td>0</td>\n",
       "    </tr>\n",
       "    <tr>\n",
       "      <th>3</th>\n",
       "      <td>38</td>\n",
       "      <td>4.7</td>\n",
       "      <td>11.003669</td>\n",
       "      <td>76.976494</td>\n",
       "      <td>11.053669</td>\n",
       "      <td>77.026494</td>\n",
       "      <td>21</td>\n",
       "      <td>7.790412</td>\n",
       "      <td>1</td>\n",
       "      <td>0</td>\n",
       "      <td>0</td>\n",
       "      <td>0</td>\n",
       "      <td>0</td>\n",
       "      <td>0</td>\n",
       "      <td>1</td>\n",
       "      <td>0</td>\n",
       "    </tr>\n",
       "    <tr>\n",
       "      <th>4</th>\n",
       "      <td>32</td>\n",
       "      <td>4.6</td>\n",
       "      <td>12.972793</td>\n",
       "      <td>80.249982</td>\n",
       "      <td>13.012793</td>\n",
       "      <td>80.289982</td>\n",
       "      <td>30</td>\n",
       "      <td>6.210147</td>\n",
       "      <td>0</td>\n",
       "      <td>0</td>\n",
       "      <td>0</td>\n",
       "      <td>1</td>\n",
       "      <td>0</td>\n",
       "      <td>0</td>\n",
       "      <td>0</td>\n",
       "      <td>1</td>\n",
       "    </tr>\n",
       "  </tbody>\n",
       "</table>\n",
       "</div>"
      ],
      "text/plain": [
       "   Teslimat_personel_yası  Teslimat_personel_puanları  Restoran_enlemi  \\\n",
       "0                      37                         4.9        22.745049   \n",
       "1                      34                         4.5        12.913041   \n",
       "2                      23                         4.4        12.914264   \n",
       "3                      38                         4.7        11.003669   \n",
       "4                      32                         4.6        12.972793   \n",
       "\n",
       "   Restoran_boylamı  Teslimat_enlemi  Teslimat_boylamı  \\\n",
       "0         75.892471        22.765049         75.912471   \n",
       "1         77.683237        13.043041         77.813237   \n",
       "2         77.678400        12.924264         77.688400   \n",
       "3         76.976494        11.053669         77.026494   \n",
       "4         80.249982        13.012793         80.289982   \n",
       "\n",
       "   Teslimat_süresi(dakika)  Mesafe_km  Sipariş_türü_Buffet   \\\n",
       "0                       24   3.025154                     0   \n",
       "1                       33  20.183558                     0   \n",
       "2                       26   1.552760                     0   \n",
       "3                       21   7.790412                     1   \n",
       "4                       30   6.210147                     0   \n",
       "\n",
       "   Sipariş_türü_Drinks   Sipariş_türü_Meal   Sipariş_türü_Snack   \\\n",
       "0                     0                   0                    1   \n",
       "1                     0                   0                    1   \n",
       "2                     1                   0                    0   \n",
       "3                     0                   0                    0   \n",
       "4                     0                   0                    1   \n",
       "\n",
       "   Araç_türü_bicycle   Araç_türü_electric_scooter   Araç_türü_motorcycle   \\\n",
       "0                   0                            0                      1   \n",
       "1                   0                            0                      0   \n",
       "2                   0                            0                      1   \n",
       "3                   0                            0                      1   \n",
       "4                   0                            0                      0   \n",
       "\n",
       "   Araç_türü_scooter   \n",
       "0                   0  \n",
       "1                   1  \n",
       "2                   0  \n",
       "3                   0  \n",
       "4                   1  "
      ]
     },
     "execution_count": 45,
     "metadata": {},
     "output_type": "execute_result"
    }
   ],
   "source": [
    "# \"Sipariş_türü\" ve \"Araç_türü\" sütunlarını one-hot encoding ile dönüştürme\n",
    "df1 = pd.get_dummies(df, columns=['Sipariş_türü', 'Araç_türü'], prefix=['Sipariş_türü', 'Araç_türü'])\n",
    "\n",
    "df1.head()"
   ]
  },
  {
   "cell_type": "code",
   "execution_count": 49,
   "id": "9e32bd83",
   "metadata": {},
   "outputs": [
    {
     "name": "stdout",
     "output_type": "stream",
     "text": [
      "<class 'pandas.core.frame.DataFrame'>\n",
      "RangeIndex: 45593 entries, 0 to 45592\n",
      "Data columns (total 16 columns):\n",
      " #   Column                       Non-Null Count  Dtype  \n",
      "---  ------                       --------------  -----  \n",
      " 0   Teslimat_personel_yası       45593 non-null  int64  \n",
      " 1   Teslimat_personel_puanları   45593 non-null  float64\n",
      " 2   Restoran_enlemi              45593 non-null  float64\n",
      " 3   Restoran_boylamı             45593 non-null  float64\n",
      " 4   Teslimat_enlemi              45593 non-null  float64\n",
      " 5   Teslimat_boylamı             45593 non-null  float64\n",
      " 6   Teslimat_süresi(dakika)      45593 non-null  int64  \n",
      " 7   Mesafe_km                    45593 non-null  float64\n",
      " 8   Sipariş_türü_Buffet          45593 non-null  uint8  \n",
      " 9   Sipariş_türü_Drinks          45593 non-null  uint8  \n",
      " 10  Sipariş_türü_Meal            45593 non-null  uint8  \n",
      " 11  Sipariş_türü_Snack           45593 non-null  uint8  \n",
      " 12  Araç_türü_bicycle            45593 non-null  uint8  \n",
      " 13  Araç_türü_electric_scooter   45593 non-null  uint8  \n",
      " 14  Araç_türü_motorcycle         45593 non-null  uint8  \n",
      " 15  Araç_türü_scooter            45593 non-null  uint8  \n",
      "dtypes: float64(6), int64(2), uint8(8)\n",
      "memory usage: 3.1 MB\n"
     ]
    }
   ],
   "source": [
    "df1.info()"
   ]
  },
  {
   "cell_type": "code",
   "execution_count": 58,
   "id": "86527b48",
   "metadata": {},
   "outputs": [
    {
     "name": "stdout",
     "output_type": "stream",
     "text": [
      "   Teslimat_personel_yası  Teslimat_personel_puanları  Restoran_enlemi  \\\n",
      "0                      37                         490             2274   \n",
      "1                      34                         450             1291   \n",
      "2                      23                         440             1291   \n",
      "3                      38                         470             1100   \n",
      "4                      32                         459             1297   \n",
      "\n",
      "   Restoran_boylamı  Teslimat_enlemi  Teslimat_boylamı Sipariş_türü  \\\n",
      "0              7589             2276              7591       Snack    \n",
      "1              7768             1304              7781       Snack    \n",
      "2              7767             1292              7768      Drinks    \n",
      "3              7697             1105              7702      Buffet    \n",
      "4              8024             1301              8028       Snack    \n",
      "\n",
      "     Araç_türü  Teslimat_süresi(dakika)  Mesafe_km  \n",
      "0  motorcycle                        24        302  \n",
      "1     scooter                        33       2018  \n",
      "2  motorcycle                        26        155  \n",
      "3  motorcycle                        21        779  \n",
      "4     scooter                        30        621  \n"
     ]
    }
   ],
   "source": [
    "# Özel bir işlev kullanarak ondalık kısmı kesmeden float değerleri int türüne dönüştürme\n",
    "def float_to_int_with_precision(value, precision=2):\n",
    "    return int(value * 10**precision)\n",
    "\n",
    "# Belirli sütunları özel işlevi kullanarak dönüştürme\n",
    "precision = 2  # İstediğiniz hassasiyet seviyesini ayarlayın (örneğin, 2 ondalık basamak)\n",
    "df1['Teslimat_personel_puanları'] = df1['Teslimat_personel_puanları'].apply(float_to_int_with_precision, precision=precision)\n",
    "df1['Restoran_enlemi'] = df1['Restoran_enlemi'].apply(float_to_int_with_precision, precision=precision)\n",
    "df1['Restoran_boylamı'] = df1['Restoran_boylamı'].apply(float_to_int_with_precision, precision=precision)\n",
    "df1['Teslimat_enlemi'] = df1['Teslimat_enlemi'].apply(float_to_int_with_precision, precision=precision)\n",
    "df1['Teslimat_boylamı'] = df1['Teslimat_boylamı'].apply(float_to_int_with_precision, precision=precision)\n",
    "df1['Mesafe_km'] = df1['Mesafe_km'].apply(float_to_int_with_precision, precision=precision)\n",
    "\n",
    "# Veri çerçevesini gösterme\n",
    "print(df.head())"
   ]
  },
  {
   "cell_type": "markdown",
   "id": "1893fc07",
   "metadata": {},
   "source": [
    "Bu kodda, özel bir işlev olan float_to_int_with_precision kullanarak ondalık kısmı koruyarak float değerleri int türüne dönüştürdük. Hassasiyet seviyesini ayarlamak için precision değişkenini kullanabilirsiniz. Bu şekilde, veri kaybı olmadan dönüşüm yapabilirsiniz."
   ]
  },
  {
   "cell_type": "markdown",
   "id": "8bfeff51",
   "metadata": {},
   "source": [
    "## Modelleme"
   ]
  },
  {
   "cell_type": "code",
   "execution_count": 61,
   "id": "a5770f89",
   "metadata": {},
   "outputs": [],
   "source": [
    "from sklearn.model_selection import train_test_split\n",
    "from sklearn.linear_model import LinearRegression\n",
    "from sklearn.metrics import mean_squared_error, mean_absolute_error, r2_score"
   ]
  },
  {
   "cell_type": "code",
   "execution_count": 62,
   "id": "d8ab6b15",
   "metadata": {},
   "outputs": [],
   "source": [
    "# Veriyi bağımlı ve bağımsız değişkenlere ayırma\n",
    "X = df1.drop(columns=['Teslimat_süresi(dakika)'])  # Bağımsız değişkenler\n",
    "y = df1['Teslimat_süresi(dakika)']  # Bağımlı değişken"
   ]
  },
  {
   "cell_type": "code",
   "execution_count": 63,
   "id": "e871d6b7",
   "metadata": {},
   "outputs": [],
   "source": [
    "# Veriyi eğitim ve test setlerine bölelim\n",
    "X_train, X_test, y_train, y_test = train_test_split(X, y, test_size=0.2, random_state=42)"
   ]
  },
  {
   "cell_type": "code",
   "execution_count": 64,
   "id": "a55246c5",
   "metadata": {},
   "outputs": [
    {
     "data": {
      "text/html": [
       "<style>#sk-container-id-1 {color: black;background-color: white;}#sk-container-id-1 pre{padding: 0;}#sk-container-id-1 div.sk-toggleable {background-color: white;}#sk-container-id-1 label.sk-toggleable__label {cursor: pointer;display: block;width: 100%;margin-bottom: 0;padding: 0.3em;box-sizing: border-box;text-align: center;}#sk-container-id-1 label.sk-toggleable__label-arrow:before {content: \"▸\";float: left;margin-right: 0.25em;color: #696969;}#sk-container-id-1 label.sk-toggleable__label-arrow:hover:before {color: black;}#sk-container-id-1 div.sk-estimator:hover label.sk-toggleable__label-arrow:before {color: black;}#sk-container-id-1 div.sk-toggleable__content {max-height: 0;max-width: 0;overflow: hidden;text-align: left;background-color: #f0f8ff;}#sk-container-id-1 div.sk-toggleable__content pre {margin: 0.2em;color: black;border-radius: 0.25em;background-color: #f0f8ff;}#sk-container-id-1 input.sk-toggleable__control:checked~div.sk-toggleable__content {max-height: 200px;max-width: 100%;overflow: auto;}#sk-container-id-1 input.sk-toggleable__control:checked~label.sk-toggleable__label-arrow:before {content: \"▾\";}#sk-container-id-1 div.sk-estimator input.sk-toggleable__control:checked~label.sk-toggleable__label {background-color: #d4ebff;}#sk-container-id-1 div.sk-label input.sk-toggleable__control:checked~label.sk-toggleable__label {background-color: #d4ebff;}#sk-container-id-1 input.sk-hidden--visually {border: 0;clip: rect(1px 1px 1px 1px);clip: rect(1px, 1px, 1px, 1px);height: 1px;margin: -1px;overflow: hidden;padding: 0;position: absolute;width: 1px;}#sk-container-id-1 div.sk-estimator {font-family: monospace;background-color: #f0f8ff;border: 1px dotted black;border-radius: 0.25em;box-sizing: border-box;margin-bottom: 0.5em;}#sk-container-id-1 div.sk-estimator:hover {background-color: #d4ebff;}#sk-container-id-1 div.sk-parallel-item::after {content: \"\";width: 100%;border-bottom: 1px solid gray;flex-grow: 1;}#sk-container-id-1 div.sk-label:hover label.sk-toggleable__label {background-color: #d4ebff;}#sk-container-id-1 div.sk-serial::before {content: \"\";position: absolute;border-left: 1px solid gray;box-sizing: border-box;top: 0;bottom: 0;left: 50%;z-index: 0;}#sk-container-id-1 div.sk-serial {display: flex;flex-direction: column;align-items: center;background-color: white;padding-right: 0.2em;padding-left: 0.2em;position: relative;}#sk-container-id-1 div.sk-item {position: relative;z-index: 1;}#sk-container-id-1 div.sk-parallel {display: flex;align-items: stretch;justify-content: center;background-color: white;position: relative;}#sk-container-id-1 div.sk-item::before, #sk-container-id-1 div.sk-parallel-item::before {content: \"\";position: absolute;border-left: 1px solid gray;box-sizing: border-box;top: 0;bottom: 0;left: 50%;z-index: -1;}#sk-container-id-1 div.sk-parallel-item {display: flex;flex-direction: column;z-index: 1;position: relative;background-color: white;}#sk-container-id-1 div.sk-parallel-item:first-child::after {align-self: flex-end;width: 50%;}#sk-container-id-1 div.sk-parallel-item:last-child::after {align-self: flex-start;width: 50%;}#sk-container-id-1 div.sk-parallel-item:only-child::after {width: 0;}#sk-container-id-1 div.sk-dashed-wrapped {border: 1px dashed gray;margin: 0 0.4em 0.5em 0.4em;box-sizing: border-box;padding-bottom: 0.4em;background-color: white;}#sk-container-id-1 div.sk-label label {font-family: monospace;font-weight: bold;display: inline-block;line-height: 1.2em;}#sk-container-id-1 div.sk-label-container {text-align: center;}#sk-container-id-1 div.sk-container {/* jupyter's `normalize.less` sets `[hidden] { display: none; }` but bootstrap.min.css set `[hidden] { display: none !important; }` so we also need the `!important` here to be able to override the default hidden behavior on the sphinx rendered scikit-learn.org. See: https://github.com/scikit-learn/scikit-learn/issues/21755 */display: inline-block !important;position: relative;}#sk-container-id-1 div.sk-text-repr-fallback {display: none;}</style><div id=\"sk-container-id-1\" class=\"sk-top-container\"><div class=\"sk-text-repr-fallback\"><pre>LinearRegression()</pre><b>In a Jupyter environment, please rerun this cell to show the HTML representation or trust the notebook. <br />On GitHub, the HTML representation is unable to render, please try loading this page with nbviewer.org.</b></div><div class=\"sk-container\" hidden><div class=\"sk-item\"><div class=\"sk-estimator sk-toggleable\"><input class=\"sk-toggleable__control sk-hidden--visually\" id=\"sk-estimator-id-1\" type=\"checkbox\" checked><label for=\"sk-estimator-id-1\" class=\"sk-toggleable__label sk-toggleable__label-arrow\">LinearRegression</label><div class=\"sk-toggleable__content\"><pre>LinearRegression()</pre></div></div></div></div></div>"
      ],
      "text/plain": [
       "LinearRegression()"
      ]
     },
     "execution_count": 64,
     "metadata": {},
     "output_type": "execute_result"
    }
   ],
   "source": [
    "# Lineer Regresyon modelini oluşturma ve eğitme\n",
    "lr = LinearRegression()\n",
    "lr.fit(X_train, y_train)"
   ]
  },
  {
   "cell_type": "code",
   "execution_count": 65,
   "id": "b36d15b1",
   "metadata": {},
   "outputs": [],
   "source": [
    "# Modeli kullanarak tahmin yapma\n",
    "y_pred = lr.predict(X_test)"
   ]
  },
  {
   "cell_type": "code",
   "execution_count": 66,
   "id": "d0c84250",
   "metadata": {},
   "outputs": [
    {
     "name": "stdout",
     "output_type": "stream",
     "text": [
      "Ortalama Kare Hata (MSE): 69.93985835760073\n",
      "Ortalama Mutlak Hata (MAE): 6.612220763330868\n",
      "R-kare (R2 Score): 0.20231130625032645\n"
     ]
    }
   ],
   "source": [
    "# Modelin performansını değerlendirme\n",
    "mse = mean_squared_error(y_test, y_pred)\n",
    "mae = mean_absolute_error(y_test, y_pred)\n",
    "r2 = r2_score(y_test, y_pred)\n",
    "\n",
    "print(\"Ortalama Kare Hata (MSE):\", mse)\n",
    "print(\"Ortalama Mutlak Hata (MAE):\", mae)\n",
    "print(\"R-kare (R2 Score):\", r2)"
   ]
  },
  {
   "cell_type": "code",
   "execution_count": 67,
   "id": "87148aab",
   "metadata": {},
   "outputs": [
    {
     "name": "stdout",
     "output_type": "stream",
     "text": [
      "Teslimat_süresi(dakika)       1.000000\n",
      "Teslimat_personel_yası        0.292708\n",
      "Teslimat_enlemi               0.014244\n",
      "Restoran_enlemi               0.013981\n",
      "Restoran_boylamı              0.007822\n",
      "Teslimat_boylamı              0.007625\n",
      "Mesafe_km                    -0.002508\n",
      "Teslimat_personel_puanları   -0.330373\n",
      "Name: Teslimat_süresi(dakika), dtype: float64\n"
     ]
    }
   ],
   "source": [
    "# Bir de sadece teslimat korelasyona göre bakalım göre bakalım\n",
    "# Tüm sütunların final notları ile korelasyonunu hesaplama\n",
    "t_corr= df.corr()['Teslimat_süresi(dakika)'].sort_values(ascending=False)\n",
    "\n",
    "# Korelasyonları büyükten küçüğe sıralama\n",
    "print(t_corr)"
   ]
  },
  {
   "cell_type": "code",
   "execution_count": 68,
   "id": "91829ceb",
   "metadata": {},
   "outputs": [],
   "source": [
    "x = df1[['Teslimat_personel_yası', 'Mesafe_km', 'Teslimat_personel_puanları']]\n",
    "y = df1['Teslimat_süresi(dakika)']"
   ]
  },
  {
   "cell_type": "code",
   "execution_count": 69,
   "id": "26e57280",
   "metadata": {},
   "outputs": [],
   "source": [
    "def fnc_all_regression_models(x,y):\n",
    "    from sklearn.linear_model import LinearRegression\n",
    "    from sklearn.linear_model import Ridge,Lasso\n",
    "    from sklearn.linear_model import ElasticNet\n",
    "    from sklearn.tree import ExtraTreeRegressor\n",
    "    from sklearn.ensemble import GradientBoostingRegressor\n",
    "    from sklearn.neighbors import KNeighborsRegressor\n",
    "    \n",
    "    from sklearn.model_selection import train_test_split\n",
    "\n",
    "    from sklearn.metrics import mean_squared_error,r2_score,mean_absolute_error\n",
    "    \n",
    "    \n",
    "    x_train,x_test,y_train,y_test=train_test_split(x,y,test_size=0.2,random_state=42)\n",
    "\n",
    "    L=LinearRegression()\n",
    "    R=Ridge()\n",
    "    Lass=Lasso()\n",
    "    E=ElasticNet()\n",
    "    ExTree=ExtraTreeRegressor()\n",
    "    GBR=GradientBoostingRegressor()\n",
    "    KN=KNeighborsRegressor()\n",
    "    \n",
    "    algos=[L,R,Lass,E,ExTree,GBR,KN]\n",
    "    algo_names=['LinearRegression','Ridge','Lasso','ElasticNet','ExtraTreeRegressor','GradientBoostingRegressor','KNeighborsRegressor']\n",
    "    r_squared=[]\n",
    "    rmse=[]\n",
    "    mae=[]\n",
    "    \n",
    "    result=pd.DataFrame(columns=['R_Squared','RMSE','MAE'],index=algo_names)\n",
    "    \n",
    "    for item in algos:\n",
    "        item.fit(x_train,y_train)\n",
    "        item.predict(x_test)\n",
    "        r_squared.append(r2_score(y_test,item.predict(x_test)))\n",
    "        rmse.append((mean_squared_error(y_test,item.predict(x_test)))**.5)\n",
    "        mae.append(mean_absolute_error(y_test,item.predict(x_test)))\n",
    "        \n",
    "    result.R_Squared=r_squared\n",
    "    result.RMSE=rmse\n",
    "    result.MAE=mae\n",
    "        \n",
    "    return result.sort_values('R_Squared',ascending=False)"
   ]
  },
  {
   "cell_type": "code",
   "execution_count": 70,
   "id": "3af7f894",
   "metadata": {},
   "outputs": [
    {
     "data": {
      "text/html": [
       "<div>\n",
       "<style scoped>\n",
       "    .dataframe tbody tr th:only-of-type {\n",
       "        vertical-align: middle;\n",
       "    }\n",
       "\n",
       "    .dataframe tbody tr th {\n",
       "        vertical-align: top;\n",
       "    }\n",
       "\n",
       "    .dataframe thead th {\n",
       "        text-align: right;\n",
       "    }\n",
       "</style>\n",
       "<table border=\"1\" class=\"dataframe\">\n",
       "  <thead>\n",
       "    <tr style=\"text-align: right;\">\n",
       "      <th></th>\n",
       "      <th>R_Squared</th>\n",
       "      <th>RMSE</th>\n",
       "      <th>MAE</th>\n",
       "    </tr>\n",
       "  </thead>\n",
       "  <tbody>\n",
       "    <tr>\n",
       "      <th>GradientBoostingRegressor</th>\n",
       "      <td>0.378512</td>\n",
       "      <td>7.381793</td>\n",
       "      <td>5.791199</td>\n",
       "    </tr>\n",
       "    <tr>\n",
       "      <th>KNeighborsRegressor</th>\n",
       "      <td>0.264756</td>\n",
       "      <td>8.028999</td>\n",
       "      <td>6.254874</td>\n",
       "    </tr>\n",
       "    <tr>\n",
       "      <th>LinearRegression</th>\n",
       "      <td>0.179353</td>\n",
       "      <td>8.482500</td>\n",
       "      <td>6.643932</td>\n",
       "    </tr>\n",
       "    <tr>\n",
       "      <th>Ridge</th>\n",
       "      <td>0.179353</td>\n",
       "      <td>8.482500</td>\n",
       "      <td>6.643932</td>\n",
       "    </tr>\n",
       "    <tr>\n",
       "      <th>ElasticNet</th>\n",
       "      <td>0.179121</td>\n",
       "      <td>8.483700</td>\n",
       "      <td>6.643152</td>\n",
       "    </tr>\n",
       "    <tr>\n",
       "      <th>Lasso</th>\n",
       "      <td>0.178937</td>\n",
       "      <td>8.484649</td>\n",
       "      <td>6.643646</td>\n",
       "    </tr>\n",
       "    <tr>\n",
       "      <th>ExtraTreeRegressor</th>\n",
       "      <td>-0.000463</td>\n",
       "      <td>9.365826</td>\n",
       "      <td>7.198347</td>\n",
       "    </tr>\n",
       "  </tbody>\n",
       "</table>\n",
       "</div>"
      ],
      "text/plain": [
       "                           R_Squared      RMSE       MAE\n",
       "GradientBoostingRegressor   0.378512  7.381793  5.791199\n",
       "KNeighborsRegressor         0.264756  8.028999  6.254874\n",
       "LinearRegression            0.179353  8.482500  6.643932\n",
       "Ridge                       0.179353  8.482500  6.643932\n",
       "ElasticNet                  0.179121  8.483700  6.643152\n",
       "Lasso                       0.178937  8.484649  6.643646\n",
       "ExtraTreeRegressor         -0.000463  9.365826  7.198347"
      ]
     },
     "execution_count": 70,
     "metadata": {},
     "output_type": "execute_result"
    }
   ],
   "source": [
    "fnc_all_regression_models(x,y)"
   ]
  },
  {
   "cell_type": "markdown",
   "id": "b8aa6212",
   "metadata": {},
   "source": [
    "## Deep Learning"
   ]
  },
  {
   "cell_type": "code",
   "execution_count": 72,
   "id": "3568850a",
   "metadata": {},
   "outputs": [],
   "source": [
    "from tensorflow.keras.models import Sequential\n",
    "from tensorflow.keras.layers import Dense, Activation\n",
    "from tensorflow.keras.optimizers import Adam\n",
    "from sklearn.preprocessing import MinMaxScaler\n",
    "scaler = MinMaxScaler()\n",
    "\n",
    "from sklearn.model_selection import train_test_split\n",
    "from sklearn.metrics import r2_score"
   ]
  },
  {
   "cell_type": "code",
   "execution_count": 73,
   "id": "ccb66787",
   "metadata": {},
   "outputs": [],
   "source": [
    "x_train, x_test, y_train, y_test = train_test_split(x,y, test_size=.2, random_state=7)"
   ]
  },
  {
   "cell_type": "code",
   "execution_count": 74,
   "id": "6e148f74",
   "metadata": {},
   "outputs": [],
   "source": [
    "from tensorflow.keras.layers import Dense, Flatten, Dropout, LSTM, Embedding, Bidirectional, BatchNormalization\n",
    "model=Sequential()\n",
    "model.add(Dense(81, activation='relu'))\n",
    "model.add(Dense(40, activation='relu'))\n",
    "model.add(Dense(27, activation='relu'))\n",
    "model.add(Dropout(0.3))\n",
    "model.add(Dense(19, activation='relu'))\n",
    "model.add(Dense(5, activation='relu'))\n",
    "model.add(Dense(3, activation='relu'))\n",
    "model.add(Dense(1))\n",
    "model.compile(optimizer='Adam', loss='mse')"
   ]
  },
  {
   "cell_type": "code",
   "execution_count": 75,
   "id": "227d91f2",
   "metadata": {},
   "outputs": [
    {
     "name": "stdout",
     "output_type": "stream",
     "text": [
      "Epoch 1/30\n",
      "1140/1140 [==============================] - 3s 2ms/step - loss: 175767.7344 - val_loss: 149.0437\n",
      "Epoch 2/30\n",
      "1140/1140 [==============================] - 2s 2ms/step - loss: 460.3663 - val_loss: 158.8043\n",
      "Epoch 3/30\n",
      "1140/1140 [==============================] - 2s 2ms/step - loss: 3605.6523 - val_loss: 130.3105\n",
      "Epoch 4/30\n",
      "1140/1140 [==============================] - 2s 2ms/step - loss: 633.1661 - val_loss: 137.7286\n",
      "Epoch 5/30\n",
      "1140/1140 [==============================] - 2s 2ms/step - loss: 29045.5488 - val_loss: 167.7324\n",
      "Epoch 6/30\n",
      "1140/1140 [==============================] - 2s 2ms/step - loss: 36525.3516 - val_loss: 112.3084\n",
      "Epoch 7/30\n",
      "1140/1140 [==============================] - 2s 2ms/step - loss: 1064.7589 - val_loss: 131.4260\n",
      "Epoch 8/30\n",
      "1140/1140 [==============================] - 2s 2ms/step - loss: 94.9393 - val_loss: 113.8069\n",
      "Epoch 9/30\n",
      "1140/1140 [==============================] - 2s 2ms/step - loss: 92.8337 - val_loss: 143.6524\n",
      "Epoch 10/30\n",
      "1140/1140 [==============================] - 2s 2ms/step - loss: 90.9249 - val_loss: 124.1244\n",
      "Epoch 11/30\n",
      "1140/1140 [==============================] - 2s 2ms/step - loss: 87.8550 - val_loss: 131.8237\n",
      "Epoch 12/30\n",
      "1140/1140 [==============================] - 2s 2ms/step - loss: 86.3472 - val_loss: 119.5815\n",
      "Epoch 13/30\n",
      "1140/1140 [==============================] - 2s 2ms/step - loss: 84.2456 - val_loss: 101.3410\n",
      "Epoch 14/30\n",
      "1140/1140 [==============================] - 3s 2ms/step - loss: 81.1142 - val_loss: 117.4420\n",
      "Epoch 15/30\n",
      "1140/1140 [==============================] - 2s 2ms/step - loss: 79.6052 - val_loss: 116.2762\n",
      "Epoch 16/30\n",
      "1140/1140 [==============================] - 2s 2ms/step - loss: 81.0457 - val_loss: 118.8548\n",
      "Epoch 17/30\n",
      "1140/1140 [==============================] - 3s 2ms/step - loss: 78.7298 - val_loss: 108.2756\n",
      "Epoch 18/30\n",
      "1140/1140 [==============================] - 3s 2ms/step - loss: 76.7798 - val_loss: 93.7980\n",
      "Epoch 19/30\n",
      "1140/1140 [==============================] - 3s 3ms/step - loss: 75.7538 - val_loss: 104.0754\n",
      "Epoch 20/30\n",
      "1140/1140 [==============================] - 2s 2ms/step - loss: 74.8359 - val_loss: 88.7489\n",
      "Epoch 21/30\n",
      "1140/1140 [==============================] - 2s 2ms/step - loss: 255.1072 - val_loss: 82.7952\n",
      "Epoch 22/30\n",
      "1140/1140 [==============================] - 2s 2ms/step - loss: 106.4338 - val_loss: 83.9548\n",
      "Epoch 23/30\n",
      "1140/1140 [==============================] - 2s 2ms/step - loss: 3132.6626 - val_loss: 86.6810\n",
      "Epoch 24/30\n",
      "1140/1140 [==============================] - 2s 2ms/step - loss: 74.8481 - val_loss: 81.7853\n",
      "Epoch 25/30\n",
      "1140/1140 [==============================] - 2s 2ms/step - loss: 74.0723 - val_loss: 80.4231\n",
      "Epoch 26/30\n",
      "1140/1140 [==============================] - 2s 2ms/step - loss: 73.3121 - val_loss: 75.0792\n",
      "Epoch 27/30\n",
      "1140/1140 [==============================] - 2s 2ms/step - loss: 72.7833 - val_loss: 74.4195\n",
      "Epoch 28/30\n",
      "1140/1140 [==============================] - 2s 2ms/step - loss: 72.5358 - val_loss: 74.7426\n",
      "Epoch 29/30\n",
      "1140/1140 [==============================] - 2s 2ms/step - loss: 72.4829 - val_loss: 89.9042\n",
      "Epoch 30/30\n",
      "1140/1140 [==============================] - 2s 2ms/step - loss: 72.4658 - val_loss: 74.3395\n"
     ]
    },
    {
     "data": {
      "text/plain": [
       "<keras.callbacks.History at 0x1c37743f400>"
      ]
     },
     "execution_count": 75,
     "metadata": {},
     "output_type": "execute_result"
    }
   ],
   "source": [
    "model.fit(x=x_train,y=y_train,validation_data=(x_test,y_test),verbose=1,epochs=30 )"
   ]
  },
  {
   "cell_type": "code",
   "execution_count": 76,
   "id": "f72ed50f",
   "metadata": {},
   "outputs": [
    {
     "name": "stdout",
     "output_type": "stream",
     "text": [
      "285/285 [==============================] - 0s 996us/step\n"
     ]
    }
   ],
   "source": [
    "pred=model.predict(x_test)"
   ]
  },
  {
   "cell_type": "code",
   "execution_count": 77,
   "id": "9744c3a2",
   "metadata": {},
   "outputs": [
    {
     "data": {
      "text/plain": [
       "8.622033233921966"
      ]
     },
     "execution_count": 77,
     "metadata": {},
     "output_type": "execute_result"
    }
   ],
   "source": [
    "(mean_squared_error(y_test, pred))**.5"
   ]
  },
  {
   "cell_type": "code",
   "execution_count": 78,
   "id": "c69c818e",
   "metadata": {},
   "outputs": [
    {
     "data": {
      "text/plain": [
       "0.1495447555909537"
      ]
     },
     "execution_count": 78,
     "metadata": {},
     "output_type": "execute_result"
    }
   ],
   "source": [
    "r2_score(y_test, pred)"
   ]
  },
  {
   "cell_type": "markdown",
   "id": "538b22f5",
   "metadata": {},
   "source": [
    "## Modeli test edelim"
   ]
  },
  {
   "cell_type": "code",
   "execution_count": 89,
   "id": "f254c930",
   "metadata": {},
   "outputs": [],
   "source": [
    "from sklearn.preprocessing import MinMaxScaler\n",
    "\n",
    "# Min-Max ölçekleyiciyi oluşturun\n",
    "min_max_scaler = MinMaxScaler()\n",
    "\n",
    "# Ölçeklenmesini istediğiniz sütunları seçin (örneğin, 'Teslimat_personel_yası', 'Mesafe_km', 'Teslimat_personel_puanları')\n",
    "selected_columns = ['Teslimat_personel_yası', 'Mesafe_km', 'Teslimat_personel_puanları']\n",
    "\n",
    "# Verileri seçilen sütunlara göre alın\n",
    "X = df1[selected_columns]\n",
    "\n",
    "# Verileri uyumlayın (Min-Max ölçekleyiciyi eğitin)\n",
    "min_max_scaler.fit(X)\n",
    "\n",
    "# Verileri dönüştürün (ölçeklenmiş verileriniz olacak)\n",
    "X_scaled = min_max_scaler.transform(X)\n",
    "\n",
    "# X_scaled, Min-Max ölçeklenmiş verileri içeren bir NumPy dizisidir"
   ]
  },
  {
   "cell_type": "markdown",
   "id": "4686488a",
   "metadata": {},
   "source": [
    "Veri normalizasyonu veya ölçeklendirme, makine öğrenimi modellerinin daha iyi performans göstermesini sağlamak için önemli bir veri ön işleme adımıdır. Min-Max ölçeklemesi, veri değerlerini belirli bir aralığa (genellikle [0, 1] veya [-1, 1]) ölçeklendirir. Bu tür bir normalizasyonun neden gerektiğini anlamak için aşağıdaki nedenlere bir göz atalım:\n",
    "\n",
    "1. Farklı Ölçeklerde Değerler: Veri setinizdeki farklı özellikler farklı ölçeklere sahip olabilir. Örneğin, bir özellik 0 ile 100 arasında değerler alırken, diğer bir özellik -1000 ile 1000 arasında değerler alabilir. Bu farklı ölçekler, bazı özelliklerin modelinize daha fazla etki etmesine neden olabilir. Ölçeklendirme, tüm özelliklerin aynı aralıkta olmasını sağlar.\n",
    "\n",
    "2. Model İstikrarı: Ölçeklendirme, bir modelin daha istikrarlı ve daha hızlı eğitilmesine yardımcı olabilir. Büyük değerlerin küçük değerleri bastırmasını veya etkilemesini önler.\n",
    "\n",
    "3. Algoritmaların Performansı: Bazı makine öğrenimi algoritmaları, özelliklerin ölçekleriyle daha iyi çalışır. Örneğin, uzaklık tabanlı algoritmalar (örneğin, K-Means kümeleme) özelliklerin ölçeklerine duyarlıdır. Bu nedenle ölçeklendirme, bu tür algoritmaların daha iyi performans göstermesini sağlar.\n",
    "\n",
    "Min-Max ölçeklemesi, verileri belirli bir aralıkta ölçeklendirmek için kullanılan bir yöntemdir. Verileri [0, 1] aralığına ölçeklemek için aşağıdaki formül kullanılır:\n",
    "\n",
    "\\[X_norm = \\frac{X - X_min}{X_max - X_min}\\]\n",
    "\n",
    "Burada:\n",
    "- \\(X_norm\\), ölçeklenmiş değerleri temsil eder.\n",
    "- \\(X\\) özgün veri değerini temsil eder.\n",
    "- \\(X_min\\), veri setindeki en küçük değeri temsil eder.\n",
    "- \\(X_max\\), veri setindeki en büyük değeri temsil eder.\n",
    "\n",
    "Sonuç olarak, Min-Max ölçeklemesi, verilerinizi bir aralığa ölçeklemek ve modelinizin daha iyi performans göstermesini sağlamak için önemli bir araçtır."
   ]
  },
  {
   "cell_type": "code",
   "execution_count": 91,
   "id": "2ecd6a70",
   "metadata": {},
   "outputs": [
    {
     "name": "stdout",
     "output_type": "stream",
     "text": [
      "Teslimat Personeli Yaşı: 33\n",
      "Önceki Teslimatların Puanları: 4\n",
      "Toplam Mesafe (km): 22\n",
      "1/1 [==============================] - 0s 113ms/step\n",
      "Tahmini Teslimat Süresi (Dakika): [24.021698]\n"
     ]
    }
   ],
   "source": [
    "# Örnek girdileri alın\n",
    "a = int(input(\"Teslimat Personeli Yaşı: \"))\n",
    "b = float(input(\"Önceki Teslimatların Puanları: \"))\n",
    "c = int(input(\"Toplam Mesafe (km): \"))\n",
    "\n",
    "# Örnek girdileri bir NumPy dizisine dönüştürün\n",
    "ornek_girdi = np.array([[a, b, c]])\n",
    "\n",
    "# Örnek girdileri Min-Max ölçekleyiciye göre dönüştürün\n",
    "ornek_girdi_normal = min_max_scaler.transform(ornek_girdi)\n",
    "\n",
    "# Modeli kullanarak tahmin yapın\n",
    "tahmin_suresi = model.predict(ornek_girdi_normal)\n",
    "\n",
    "# Tahmin sonucunu ekrana yazdırın\n",
    "print(\"Tahmini Teslimat Süresi (Dakika):\", tahmin_suresi[0])\n"
   ]
  },
  {
   "cell_type": "markdown",
   "id": "f428712b",
   "metadata": {},
   "source": [
    "## Sonuç\n",
    "Bu projede, yiyecek teslimat süresini tahmin etmek için bir regresyon modeli geliştirdik. Modelimiz, Teslimat Personeli Yaşı, Önceki Teslimatların Puanları ve Toplam Mesafe gibi özelliklere dayalı olarak teslimat süresini tahmin etmekte başarılı oldu.\n",
    "\n",
    "Verileri öncelikle temizledik ve bir takım veri özelliklerini işledik. Ayrıca, konum bilgilerine göre yeni bir mesafe sutunu oluşturduk, kategorik değişkenleri one-hot encoding yöntemiyle sayısal verilere dönüştürdük. Verileri Min-Max ölçekleyici kullanarak ölçeklendirdik, böylece modelimiz daha iyi performans gösterebildi.\n",
    "\n",
    "Sonuçlarımızı değerlendirdiğimizde, modelin tahminlerinin gerçek dünya durumlarına uygulanabilir olduğunu gördük. Model, Teslimat Personeli Yaşı, Önceki Teslimatların Puanları ve Toplam Mesafe gibi faktörlere duyarlı bir şekilde teslimat süresini tahmin edebildi.\n",
    "\n",
    "Bu proje, yiyecek teslimat hizmetleri için teslimat süresini optimize etmeye yardımcı olabilecek önemli bir araç sunmaktadır. Gelecekte, daha fazla veri toplanarak ve model iyileştirilerek, teslimat sürelerini daha da kesin bir şekilde tahmin etmek mümkün olabilir."
   ]
  }
 ],
 "metadata": {
  "kernelspec": {
   "display_name": "Python 3 (ipykernel)",
   "language": "python",
   "name": "python3"
  },
  "language_info": {
   "codemirror_mode": {
    "name": "ipython",
    "version": 3
   },
   "file_extension": ".py",
   "mimetype": "text/x-python",
   "name": "python",
   "nbconvert_exporter": "python",
   "pygments_lexer": "ipython3",
   "version": "3.10.9"
  }
 },
 "nbformat": 4,
 "nbformat_minor": 5
}
