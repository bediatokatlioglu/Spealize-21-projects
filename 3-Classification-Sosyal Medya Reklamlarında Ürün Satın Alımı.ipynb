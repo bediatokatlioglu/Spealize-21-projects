{
 "cells": [
  {
   "cell_type": "markdown",
   "id": "3c84185b",
   "metadata": {},
   "source": [
    "# 3-Classification-Sosyal Medya Reklamlarında Ürün Satın Alımı"
   ]
  },
  {
   "cell_type": "markdown",
   "id": "fa564eb9",
   "metadata": {},
   "source": [
    "<img src=\"socialmedia.jpg\">"
   ]
  },
  {
   "cell_type": "code",
   "execution_count": 1,
   "id": "a21f45db",
   "metadata": {},
   "outputs": [],
   "source": [
    "import pandas as pd\n",
    "import matplotlib.pyplot as plt\n",
    "%matplotlib inline\n",
    "import seaborn as sns\n",
    "import numpy as np\n",
    "import warnings \n",
    "warnings.simplefilter(\"ignore\")"
   ]
  },
  {
   "cell_type": "markdown",
   "id": "469456cf",
   "metadata": {},
   "source": [
    "Sosyal medya reklamlarının sınıflandırılması, pazarlama alanında veri bilimi uygulamalarının önemli bir örneğidir. Bu tür bir projeyi başarıyla gerçekleştirmek için aşağıdaki adımları izleyebiliriz:\n",
    "\n",
    "1. **Veri Ön İşleme ve İnceleme:** Verilerinizi temizleyin ve düzenleyin. Eksik verileri doldurun, gereksiz sütunları kaldırın ve verileri modelinizin işleyebileceği bir formata dönüştürün.\n",
    "\n",
    "3. **Özellik Mühendisliği(Feature Engineering):** Verilerinizi daha anlamlı hale getirmek için özellik mühendisliği yapın. Özelliklerinizi seçin veya oluşturun ve hedef kitlenizi sınıflandırmak için en iyi tahminleyicileri belirleyin.\n",
    "\n",
    "4. **Veri Keşfi ve Görselleştirme:** Verilerinizi keşfedin ve görselleştirin. Hangi faktörlerin hedef kitlenizin davranışını etkilediğini daha iyi anlamak için grafikler ve görselleştirmeler kullanın.\n",
    "\n",
    "5. **Veri Bölme:** Verilerinizi eğitim ve test verisi olarak bölün. Eğitim verileriyle modelinizi eğitin ve test verileriyle performansını değerlendirin.\n",
    "\n",
    "6. **Model Seçimi:** Verilerinizin özelliklerine ve problem yapısına bağlı olarak uygun bir sınıflandırma modeli seçin. Örnek olarak, Karar Ağaçları, Destek Vektör Makineleri (SVM), Rastgele Ormanlar veya Derin Öğrenme modelleri kullanılabilir.\n",
    "\n",
    "7. **Model Eğitimi:** Seçtiğiniz modeli eğitin. Modelinizi eğitirken hiperparametre ayarlaması yapmayı unutmayın.\n",
    "\n",
    "8. **Model Değerlendirmesi:** Modelinizi test verileriyle değerlendirin. Sınıflandırma performansınızı ölçmek için hassasiyet, geri çağırma, F1 puanı ve AUC ROC gibi metrikleri kullanabilirsiniz.\n",
    "\n",
    "9. **Sonuçların İncelemesi ve Yorumlama:** Modelinizi ve sonuçları inceleyin. Hangi faktörlerin hedef kitlenizi etkilediğini daha iyi anlamak için modelin önemli özelliklerini analiz edin.\n",
    "\n",
    "10. **Sonuçların Uygulanması:** Elde ettiğiniz sonuçları kullanarak reklam kampanyalarınızı optimize edin. Hangi tür reklamların, hangi hedef kitleye daha iyi performans gösterdiğini belirleyin ve bu bilgileri gelecekteki kampanyalarınıza uygulayın.\n",
    "\n",
    "Bu adımları takip ederek, sosyal medya reklamlarının sınıflandırılması için bir veri bilimi projesini başarılı bir şekilde gerçekleştirebilirsiniz. Bu projenin başarısı, daha iyi hedefleme ve pazarlama stratejileri geliştirmenize yardımcı olabilir."
   ]
  },
  {
   "cell_type": "markdown",
   "id": "8e0f1ecb",
   "metadata": {},
   "source": [
    "## Veri Ön İşleme ve İnceleme:"
   ]
  },
  {
   "cell_type": "code",
   "execution_count": 2,
   "id": "2fe5a194",
   "metadata": {},
   "outputs": [],
   "source": [
    "df=pd.read_csv(\"social.csv\")"
   ]
  },
  {
   "cell_type": "code",
   "execution_count": 3,
   "id": "1e5754d0",
   "metadata": {},
   "outputs": [
    {
     "data": {
      "text/html": [
       "<div>\n",
       "<style scoped>\n",
       "    .dataframe tbody tr th:only-of-type {\n",
       "        vertical-align: middle;\n",
       "    }\n",
       "\n",
       "    .dataframe tbody tr th {\n",
       "        vertical-align: top;\n",
       "    }\n",
       "\n",
       "    .dataframe thead th {\n",
       "        text-align: right;\n",
       "    }\n",
       "</style>\n",
       "<table border=\"1\" class=\"dataframe\">\n",
       "  <thead>\n",
       "    <tr style=\"text-align: right;\">\n",
       "      <th></th>\n",
       "      <th>Age</th>\n",
       "      <th>EstimatedSalary</th>\n",
       "      <th>Purchased</th>\n",
       "    </tr>\n",
       "  </thead>\n",
       "  <tbody>\n",
       "    <tr>\n",
       "      <th>0</th>\n",
       "      <td>19</td>\n",
       "      <td>19000</td>\n",
       "      <td>0</td>\n",
       "    </tr>\n",
       "    <tr>\n",
       "      <th>1</th>\n",
       "      <td>35</td>\n",
       "      <td>20000</td>\n",
       "      <td>0</td>\n",
       "    </tr>\n",
       "    <tr>\n",
       "      <th>2</th>\n",
       "      <td>26</td>\n",
       "      <td>43000</td>\n",
       "      <td>0</td>\n",
       "    </tr>\n",
       "    <tr>\n",
       "      <th>3</th>\n",
       "      <td>27</td>\n",
       "      <td>57000</td>\n",
       "      <td>0</td>\n",
       "    </tr>\n",
       "    <tr>\n",
       "      <th>4</th>\n",
       "      <td>19</td>\n",
       "      <td>76000</td>\n",
       "      <td>0</td>\n",
       "    </tr>\n",
       "  </tbody>\n",
       "</table>\n",
       "</div>"
      ],
      "text/plain": [
       "   Age  EstimatedSalary  Purchased\n",
       "0   19            19000          0\n",
       "1   35            20000          0\n",
       "2   26            43000          0\n",
       "3   27            57000          0\n",
       "4   19            76000          0"
      ]
     },
     "execution_count": 3,
     "metadata": {},
     "output_type": "execute_result"
    }
   ],
   "source": [
    "df.head()"
   ]
  },
  {
   "cell_type": "markdown",
   "id": "b557be54",
   "metadata": {},
   "source": [
    "Bu veri seti, müşterilerin yaş, tahmini gelir ve bir ürünü satın alma durumuyla ilgili bilgileri içeriyor gibi görünüyor. Her bir satır, bir müşteriyi temsil eder ve bu müşterilerin belirli bir ürünü satın alıp almadığına dair bir etiket içerir. İşte veri setinin özelliklerinin açıklamaları:\n",
    "\n",
    "1. **Age (Yaş):** Müşterinin yaşını temsil eder. Örneğin, ilk satırda müşteri 19 yaşındadır.\n",
    "\n",
    "2. **EstimatedSalary (Tahmini Gelir):** Müşterinin tahmini gelirini temsil eder. Örneğin, ilk satırda müşterinin tahmini geliri 19.000 birimdir.\n",
    "\n",
    "3. **Purchased (Satın Alma Durumu):** Bu, müşterinin belirli bir ürünü satın alıp almadığını gösteren bir etiket veya sınıflandırma değeridir. \"0\" değeri, müşterinin ürünü satın almadığını, \"1\" değeri ise müşterinin ürünü satın aldığını gösterir.\n",
    "\n",
    "Bu tür bir veri seti, özellikle müşterilerin davranışlarını ve ürün satın alma alışkanlıklarını anlamak için kullanılabilir. Veriyi analiz ederek, belirli bir yaş ve tahmini gelir aralığına sahip müşterilerin ürünü satın alma olasılığını değerlendirebilir ve pazarlama stratejilerini buna göre ayarlayabilirsiniz."
   ]
  },
  {
   "cell_type": "code",
   "execution_count": 4,
   "id": "d0e0950e",
   "metadata": {},
   "outputs": [
    {
     "data": {
      "text/plain": [
       "(400, 3)"
      ]
     },
     "execution_count": 4,
     "metadata": {},
     "output_type": "execute_result"
    }
   ],
   "source": [
    "df.shape"
   ]
  },
  {
   "cell_type": "code",
   "execution_count": 5,
   "id": "8033531b",
   "metadata": {},
   "outputs": [
    {
     "data": {
      "text/html": [
       "<div>\n",
       "<style scoped>\n",
       "    .dataframe tbody tr th:only-of-type {\n",
       "        vertical-align: middle;\n",
       "    }\n",
       "\n",
       "    .dataframe tbody tr th {\n",
       "        vertical-align: top;\n",
       "    }\n",
       "\n",
       "    .dataframe thead th {\n",
       "        text-align: right;\n",
       "    }\n",
       "</style>\n",
       "<table border=\"1\" class=\"dataframe\">\n",
       "  <thead>\n",
       "    <tr style=\"text-align: right;\">\n",
       "      <th></th>\n",
       "      <th>Age</th>\n",
       "      <th>EstimatedSalary</th>\n",
       "      <th>Purchased</th>\n",
       "    </tr>\n",
       "  </thead>\n",
       "  <tbody>\n",
       "    <tr>\n",
       "      <th>count</th>\n",
       "      <td>400.000000</td>\n",
       "      <td>400.000000</td>\n",
       "      <td>400.000000</td>\n",
       "    </tr>\n",
       "    <tr>\n",
       "      <th>mean</th>\n",
       "      <td>37.655000</td>\n",
       "      <td>69742.500000</td>\n",
       "      <td>0.357500</td>\n",
       "    </tr>\n",
       "    <tr>\n",
       "      <th>std</th>\n",
       "      <td>10.482877</td>\n",
       "      <td>34096.960282</td>\n",
       "      <td>0.479864</td>\n",
       "    </tr>\n",
       "    <tr>\n",
       "      <th>min</th>\n",
       "      <td>18.000000</td>\n",
       "      <td>15000.000000</td>\n",
       "      <td>0.000000</td>\n",
       "    </tr>\n",
       "    <tr>\n",
       "      <th>25%</th>\n",
       "      <td>29.750000</td>\n",
       "      <td>43000.000000</td>\n",
       "      <td>0.000000</td>\n",
       "    </tr>\n",
       "    <tr>\n",
       "      <th>50%</th>\n",
       "      <td>37.000000</td>\n",
       "      <td>70000.000000</td>\n",
       "      <td>0.000000</td>\n",
       "    </tr>\n",
       "    <tr>\n",
       "      <th>75%</th>\n",
       "      <td>46.000000</td>\n",
       "      <td>88000.000000</td>\n",
       "      <td>1.000000</td>\n",
       "    </tr>\n",
       "    <tr>\n",
       "      <th>max</th>\n",
       "      <td>60.000000</td>\n",
       "      <td>150000.000000</td>\n",
       "      <td>1.000000</td>\n",
       "    </tr>\n",
       "  </tbody>\n",
       "</table>\n",
       "</div>"
      ],
      "text/plain": [
       "              Age  EstimatedSalary   Purchased\n",
       "count  400.000000       400.000000  400.000000\n",
       "mean    37.655000     69742.500000    0.357500\n",
       "std     10.482877     34096.960282    0.479864\n",
       "min     18.000000     15000.000000    0.000000\n",
       "25%     29.750000     43000.000000    0.000000\n",
       "50%     37.000000     70000.000000    0.000000\n",
       "75%     46.000000     88000.000000    1.000000\n",
       "max     60.000000    150000.000000    1.000000"
      ]
     },
     "execution_count": 5,
     "metadata": {},
     "output_type": "execute_result"
    }
   ],
   "source": [
    "df.describe()"
   ]
  },
  {
   "cell_type": "code",
   "execution_count": 6,
   "id": "d39d8398",
   "metadata": {},
   "outputs": [
    {
     "data": {
      "text/html": [
       "<div>\n",
       "<style scoped>\n",
       "    .dataframe tbody tr th:only-of-type {\n",
       "        vertical-align: middle;\n",
       "    }\n",
       "\n",
       "    .dataframe tbody tr th {\n",
       "        vertical-align: top;\n",
       "    }\n",
       "\n",
       "    .dataframe thead th {\n",
       "        text-align: right;\n",
       "    }\n",
       "</style>\n",
       "<table border=\"1\" class=\"dataframe\">\n",
       "  <thead>\n",
       "    <tr style=\"text-align: right;\">\n",
       "      <th></th>\n",
       "      <th>Age</th>\n",
       "      <th>EstimatedSalary</th>\n",
       "      <th>Purchased</th>\n",
       "    </tr>\n",
       "  </thead>\n",
       "  <tbody>\n",
       "    <tr>\n",
       "      <th>Age</th>\n",
       "      <td>1.000000</td>\n",
       "      <td>0.155238</td>\n",
       "      <td>0.622454</td>\n",
       "    </tr>\n",
       "    <tr>\n",
       "      <th>EstimatedSalary</th>\n",
       "      <td>0.155238</td>\n",
       "      <td>1.000000</td>\n",
       "      <td>0.362083</td>\n",
       "    </tr>\n",
       "    <tr>\n",
       "      <th>Purchased</th>\n",
       "      <td>0.622454</td>\n",
       "      <td>0.362083</td>\n",
       "      <td>1.000000</td>\n",
       "    </tr>\n",
       "  </tbody>\n",
       "</table>\n",
       "</div>"
      ],
      "text/plain": [
       "                      Age  EstimatedSalary  Purchased\n",
       "Age              1.000000         0.155238   0.622454\n",
       "EstimatedSalary  0.155238         1.000000   0.362083\n",
       "Purchased        0.622454         0.362083   1.000000"
      ]
     },
     "execution_count": 6,
     "metadata": {},
     "output_type": "execute_result"
    }
   ],
   "source": [
    "df.corr()"
   ]
  },
  {
   "cell_type": "code",
   "execution_count": 8,
   "id": "aa9634a7",
   "metadata": {},
   "outputs": [
    {
     "name": "stdout",
     "output_type": "stream",
     "text": [
      "<class 'pandas.core.frame.DataFrame'>\n",
      "RangeIndex: 400 entries, 0 to 399\n",
      "Data columns (total 3 columns):\n",
      " #   Column           Non-Null Count  Dtype\n",
      "---  ------           --------------  -----\n",
      " 0   Age              400 non-null    int64\n",
      " 1   EstimatedSalary  400 non-null    int64\n",
      " 2   Purchased        400 non-null    int64\n",
      "dtypes: int64(3)\n",
      "memory usage: 9.5 KB\n"
     ]
    }
   ],
   "source": [
    "df.info()"
   ]
  },
  {
   "cell_type": "markdown",
   "id": "c2954ce1",
   "metadata": {},
   "source": [
    "## Veri Görselleştirme:"
   ]
  },
  {
   "cell_type": "code",
   "execution_count": 10,
   "id": "088f4abf",
   "metadata": {},
   "outputs": [
    {
     "data": {
      "image/png": "[encoded data removed]",
      "text/plain": [
       "<Figure size 640x480 with 1 Axes>"
      ]
     },
     "metadata": {},
     "output_type": "display_data"
    }
   ],
   "source": [
    "# Yaş dağılımını gösteren histogram\n",
    "plt.hist(df['Age'], bins=10, color='skyblue', edgecolor='black')\n",
    "plt.xlabel('Yaş')\n",
    "plt.ylabel('Müşteri Sayısı')\n",
    "plt.title('Müşteri Yaş Dağılımı')\n",
    "plt.show()"
   ]
  },
  {
   "cell_type": "code",
   "execution_count": 11,
   "id": "a8ba1a5b",
   "metadata": {},
   "outputs": [
    {
     "data": {
      "image/png": "[encoded data removed]",
      "text/plain": [
       "<Figure size 640x480 with 1 Axes>"
      ]
     },
     "metadata": {},
     "output_type": "display_data"
    }
   ],
   "source": [
    "# Tahmini gelir ve satın alma ilişkisini gösteren bir çubuk grafik\n",
    "sns.barplot(x='Purchased', y='EstimatedSalary', data=df, palette='Blues')\n",
    "plt.xlabel('Satın Alma Durumu')\n",
    "plt.ylabel('Tahmini Gelir')\n",
    "plt.title('Tahmini Gelir ve Satın Alma İlişkisi')\n",
    "plt.show()"
   ]
  },
  {
   "cell_type": "markdown",
   "id": "af4519a2",
   "metadata": {},
   "source": [
    "# Modelleme:"
   ]
  },
  {
   "cell_type": "code",
   "execution_count": 12,
   "id": "a24ea646",
   "metadata": {},
   "outputs": [],
   "source": [
    "def fnc_all_classification_models(x,y):\n",
    "    from sklearn.naive_bayes import GaussianNB\n",
    "    from sklearn.naive_bayes import BernoulliNB\n",
    "    from sklearn.svm import SVC\n",
    "    from sklearn.neighbors import KNeighborsClassifier\n",
    "    from sklearn.tree import DecisionTreeClassifier\n",
    "    from sklearn.ensemble import RandomForestClassifier\n",
    "    from sklearn.linear_model import LogisticRegression\n",
    "    from xgboost import XGBClassifier \n",
    "    \n",
    "    from sklearn.metrics import accuracy_score,precision_score,recall_score,f1_score\n",
    "    from sklearn.metrics import confusion_matrix,classification_report\n",
    "    from sklearn.model_selection import train_test_split\n",
    "   \n",
    "    x_train,x_test,y_train,y_test=train_test_split(x,y,test_size=0.2,random_state=42)\n",
    "\n",
    "    g=GaussianNB()\n",
    "    b=BernoulliNB()\n",
    "    KN=KNeighborsClassifier()\n",
    "    SVC=SVC() \n",
    "    D=DecisionTreeClassifier()\n",
    "    R=RandomForestClassifier()\n",
    "    Log=LogisticRegression()\n",
    "    XGB=XGBClassifier()\n",
    "    \n",
    "    algos=[g,b,KN,SVC,D,R,Log,XGB]\n",
    "    algo_names=['GaussianNB','BernoulliNB','KNeighborsClassifier','SVC','DecisionTreeClassifier','RandomForestClassifier','LogisticRegression','XGBClassifier']\n",
    "   \n",
    "    accuracy_scored=[]\n",
    "\n",
    "    \n",
    "    for item in algos:\n",
    "        item.fit(x_train,y_train)\n",
    "        item.predict(x_test)\n",
    "        \n",
    "        accuracy_scored.append(accuracy_score(y_test,item.predict(x_test)))\n",
    "       \n",
    "    result=pd.DataFrame(columns=['accuracy_score'],index=algo_names)\n",
    "    result['accuracy_score']=accuracy_scored\n",
    "    return result.sort_values('accuracy_score',ascending=False)"
   ]
  },
  {
   "cell_type": "code",
   "execution_count": 15,
   "id": "d3f39b91",
   "metadata": {},
   "outputs": [],
   "source": [
    "x = df.drop(columns=['Purchased'])  # Bağımsız değişkenler\n",
    "y = df['Purchased']  # Hedef değişken"
   ]
  },
  {
   "cell_type": "code",
   "execution_count": 16,
   "id": "30653026",
   "metadata": {},
   "outputs": [
    {
     "data": {
      "text/html": [
       "<div>\n",
       "<style scoped>\n",
       "    .dataframe tbody tr th:only-of-type {\n",
       "        vertical-align: middle;\n",
       "    }\n",
       "\n",
       "    .dataframe tbody tr th {\n",
       "        vertical-align: top;\n",
       "    }\n",
       "\n",
       "    .dataframe thead th {\n",
       "        text-align: right;\n",
       "    }\n",
       "</style>\n",
       "<table border=\"1\" class=\"dataframe\">\n",
       "  <thead>\n",
       "    <tr style=\"text-align: right;\">\n",
       "      <th></th>\n",
       "      <th>accuracy_score</th>\n",
       "    </tr>\n",
       "  </thead>\n",
       "  <tbody>\n",
       "    <tr>\n",
       "      <th>GaussianNB</th>\n",
       "      <td>0.9250</td>\n",
       "    </tr>\n",
       "    <tr>\n",
       "      <th>XGBClassifier</th>\n",
       "      <td>0.9125</td>\n",
       "    </tr>\n",
       "    <tr>\n",
       "      <th>RandomForestClassifier</th>\n",
       "      <td>0.9000</td>\n",
       "    </tr>\n",
       "    <tr>\n",
       "      <th>DecisionTreeClassifier</th>\n",
       "      <td>0.8375</td>\n",
       "    </tr>\n",
       "    <tr>\n",
       "      <th>KNeighborsClassifier</th>\n",
       "      <td>0.8250</td>\n",
       "    </tr>\n",
       "    <tr>\n",
       "      <th>SVC</th>\n",
       "      <td>0.7375</td>\n",
       "    </tr>\n",
       "    <tr>\n",
       "      <th>BernoulliNB</th>\n",
       "      <td>0.6500</td>\n",
       "    </tr>\n",
       "    <tr>\n",
       "      <th>LogisticRegression</th>\n",
       "      <td>0.6500</td>\n",
       "    </tr>\n",
       "  </tbody>\n",
       "</table>\n",
       "</div>"
      ],
      "text/plain": [
       "                        accuracy_score\n",
       "GaussianNB                      0.9250\n",
       "XGBClassifier                   0.9125\n",
       "RandomForestClassifier          0.9000\n",
       "DecisionTreeClassifier          0.8375\n",
       "KNeighborsClassifier            0.8250\n",
       "SVC                             0.7375\n",
       "BernoulliNB                     0.6500\n",
       "LogisticRegression              0.6500"
      ]
     },
     "execution_count": 16,
     "metadata": {},
     "output_type": "execute_result"
    }
   ],
   "source": [
    "fnc_all_classification_models(x,y)"
   ]
  },
  {
   "cell_type": "code",
   "execution_count": null,
   "id": "eaf305df",
   "metadata": {},
   "outputs": [],
   "source": [
    "# Veri az olduğu için derin öğrenme yapmıyoruz"
   ]
  },
  {
   "cell_type": "markdown",
   "id": "5118b135",
   "metadata": {},
   "source": [
    "## Model Doğrulama:"
   ]
  },
  {
   "cell_type": "code",
   "execution_count": 28,
   "id": "4ae91479",
   "metadata": {},
   "outputs": [
    {
     "name": "stdout",
     "output_type": "stream",
     "text": [
      "GaussianNB Çapraz Doğrulama Sonuçları:\n",
      "Ortalama Doğruluk: 0.89\n",
      "Standart Sapma: 0.06\n",
      "\n",
      "\n",
      "RandomForestClassifier Çapraz Doğrulama Sonuçları:\n",
      "Ortalama Doğruluk: 0.86\n",
      "Standart Sapma: 0.06\n",
      "\n",
      "\n",
      "DecisionTreeClassifier Çapraz Doğrulama Sonuçları:\n",
      "Ortalama Doğruluk: 0.80\n",
      "Standart Sapma: 0.06\n",
      "\n",
      "\n",
      "KNeighborsClassifier Çapraz Doğrulama Sonuçları:\n",
      "Ortalama Doğruluk: 0.77\n",
      "Standart Sapma: 0.07\n",
      "\n",
      "\n",
      "SVC Çapraz Doğrulama Sonuçları:\n",
      "Ortalama Doğruluk: 0.77\n",
      "Standart Sapma: 0.08\n",
      "\n",
      "\n",
      "LogisticRegression Çapraz Doğrulama Sonuçları:\n",
      "Ortalama Doğruluk: 0.68\n",
      "Standart Sapma: 0.07\n",
      "\n",
      "\n",
      "En İyi Model: GaussianNB\n",
      "En İyi Modelin Ortalama Doğruluk Puanı: 0.89\n"
     ]
    }
   ],
   "source": [
    "from sklearn.model_selection import cross_val_score\n",
    "from sklearn.ensemble import RandomForestClassifier, GradientBoostingClassifier\n",
    "from sklearn.naive_bayes import GaussianNB\n",
    "from sklearn.neighbors import KNeighborsClassifier\n",
    "from sklearn.svm import SVC\n",
    "from sklearn.tree import DecisionTreeClassifier\n",
    "from sklearn.linear_model import LogisticRegression\n",
    "import pandas as pd\n",
    "\n",
    "# Modelleri ve isimlerini bir sözlükte saklayalım\n",
    "models = {\n",
    "    \"GaussianNB\": GaussianNB(),\n",
    "   \n",
    "    \"RandomForestClassifier\": RandomForestClassifier(),\n",
    "    \"DecisionTreeClassifier\": DecisionTreeClassifier(),\n",
    "    \"KNeighborsClassifier\": KNeighborsClassifier(),\n",
    "    \"SVC\": SVC(),\n",
    "    \n",
    "    \"LogisticRegression\": LogisticRegression()\n",
    "}\n",
    "\n",
    "# Her model için çapraz doğrulama sonuçlarını saklamak için bir sözlük oluşturalım\n",
    "cv_scores = {}\n",
    "\n",
    "# Tüm modelleri döngü içinde değerlendirelim\n",
    "for model_name, model in models.items():\n",
    "    scores = cross_val_score(model, X, y, cv=5)\n",
    "    cv_scores[model_name] = scores\n",
    "\n",
    "# Her bir model için çapraz doğrulama sonuçlarını görüntüleyelim\n",
    "for model_name, scores in cv_scores.items():\n",
    "    mean_accuracy = scores.mean()\n",
    "    std_accuracy = scores.std()\n",
    "    print(f\"{model_name} Çapraz Doğrulama Sonuçları:\")\n",
    "    print(f\"Ortalama Doğruluk: {mean_accuracy:.2f}\")\n",
    "    print(f\"Standart Sapma: {std_accuracy:.2f}\")\n",
    "    print(\"\\n\")\n",
    "\n",
    "# En iyi modeli seçmek için doğruluk puanlarını karşılaştırabilirsiniz\n",
    "best_model_name = max(cv_scores, key=lambda k: cv_scores[k].mean())\n",
    "best_model_scores = cv_scores[best_model_name]\n",
    "\n",
    "print(f\"En İyi Model: {best_model_name}\")\n",
    "print(f\"En İyi Modelin Ortalama Doğruluk Puanı: {best_model_scores.mean():.2f}\")"
   ]
  },
  {
   "cell_type": "markdown",
   "id": "1bcaa163",
   "metadata": {},
   "source": [
    "## Sonuç:"
   ]
  },
  {
   "cell_type": "markdown",
   "id": "f4104db0",
   "metadata": {},
   "source": [
    "Bu projeyi tamamladığımızda, farklı sınıflandırma modellerini kullanarak sosyal medya reklamlarını sınıflandırdık ve en iyi performansı gösteren modeli belirledik. Sonuçlar, reklam kampanyalarını daha iyi hedefleme ve pazarlama stratejilerini optimize etme potansiyeline sahip olduğumuzu gösteriyor. Ancak, daha fazla veri toplama, özellik mühendisliği ve model ayarlaması gibi ileri çalışmalarla bu projeyi daha da geliştirmek mümkün. Bu proje, pazarlama alanında veri biliminin gücünü gösteriyor ve daha iyi hedef kitle analizi yapmak için veri bilimini kullanmanın önemini vurguluyor."
   ]
  }
 ],
 "metadata": {
  "kernelspec": {
   "display_name": "Python 3 (ipykernel)",
   "language": "python",
   "name": "python3"
  },
  "language_info": {
   "codemirror_mode": {
    "name": "ipython",
    "version": 3
   },
   "file_extension": ".py",
   "mimetype": "text/x-python",
   "name": "python",
   "nbconvert_exporter": "python",
   "pygments_lexer": "ipython3",
   "version": "3.10.9"
  }
 },
 "nbformat": 4,
 "nbformat_minor": 5
}
