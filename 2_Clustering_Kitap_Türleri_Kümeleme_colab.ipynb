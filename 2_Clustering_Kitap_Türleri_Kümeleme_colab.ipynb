{
 "cells": [
  {
   "cell_type": "markdown",
   "id": "5fc1e8f7",
   "metadata": {
    "id": "5fc1e8f7"
   },
   "source": [
    "# 2-Clustering-Kitap Türleri Kümeleme"
   ]
  },
  {
   "cell_type": "markdown",
   "id": "274250d2",
   "metadata": {
    "id": "274250d2"
   },
   "source": [
    "<img src=\"book.jpg\">"
   ]
  },
  {
   "cell_type": "code",
   "execution_count": 1,
   "id": "2ddf1a2d",
   "metadata": {
    "id": "2ddf1a2d"
   },
   "outputs": [],
   "source": [
    "import pandas as pd\n",
    "import numpy as np\n",
    "import seaborn as sns\n",
    "import matplotlib.pyplot as plt\n",
    "import warnings\n",
    "warnings.filterwarnings(\"ignore\")\n",
    "pd.set_option(\"display.max_columns\",200)\n",
    "import sqlite3\n",
    "from sqlite3 import Error\n",
    "from sklearn.metrics import silhouette_score\n",
    "from sklearn.cluster import KMeans"
   ]
  },
  {
   "cell_type": "markdown",
   "id": "363d3111",
   "metadata": {
    "id": "363d3111"
   },
   "source": [
    "Elimizde mevcut veri olduğuna göre, kitap türlerini kümelemek için:\n",
    "\n",
    "1. **Veri İncelemesi:** Mevcut verinizi gözden geçirin ve içeriğini anlayın. Hangi sütunların bulunduğunu, her bir sütunun veri türünü ve kitapların türlerini nasıl temsil ettiğini belirleyin.\n",
    "\n",
    "2. **Veri Ön İşleme:** Veriyi temizleyin ve düzenleyin. Eksik verileri doldurun veya eksik veri içeren satırları kaldırın. Ayrıca, kitap türlerini sayısal bir formata dönüştürün veya one-hot encoding gibi kodlama yöntemleri kullanarak kategorik verileri sayısal hale getirin.\n",
    "\n",
    "3. **Özellik Matriksi Oluşturma:** Kitapları temsil eden özelliklerin bir matrisini oluşturun. Bu özellikler, kitapların türleri hakkında bilgi içermelidir. Örneğin, kitabın içeriğini analiz ederek çıkarılan anahtar kelimeler veya kitabın yazarı gibi özellikler olabilir.\n",
    "\n",
    "4. **Kümeleme Algoritması Seçimi:** Veriyi kümelemek için bir kümeleme algoritması seçin. K-Means, DBSCAN, Hierarchical Clustering, veya başka bir algoritma kullanabilirsiniz. Seçiminiz veri yapınıza ve gereksinimlerinize bağlı olacaktır.\n",
    "\n",
    "5. **Kümeleme İşlemi:** Seçtiğiniz kümeleme algoritmasını kullanarak verilerinizi kümeleyin. Bu adımda, her bir kitabın hangi küme içinde olduğunu belirlemiş olacaksınız.\n",
    "\n",
    "6. **Sonuçları İnceleme:** Kümeleme sonuçlarını görselleştirin ve analiz edin. Benzer kitap türlerinin aynı kümeye dahil edildiğini doğrulayın. Ayrıca, her kümenin kitap türleri açısından nasıl farklılık gösterdiğini de inceleyin.\n",
    "\n",
    "7. **Sonuçları Değerlendirme:** Kümeleme sonuçlarına dayalı olarak hangi kitap türlerinin benzer olduğunu ve hangilerinin farklı olduğunu değerlendirin. Bu bilgiyi kitap öneri sistemleri oluşturmak veya veri analizi yapmak için kullanabilirsiniz.\n",
    "\n",
    "8. **Modeli Ayarlama ve Validasyon:** Elde edilen sonuçları inceleyerek kümeleme modelinizi gerektiğinde ayarlayın. Ayrıca, modelinizi doğrulamak ve performansını değerlendirmek için uygun metrikler kullanın.\n",
    "\n",
    "Bu adımlar, elinizdeki verileri kullanarak kitap türlerini başarılı bir şekilde kümelemek için izlenebilecek genel bir yol haritasını temsil eder. Her aşama, verilerinize ve projenizin gereksinimlerine bağlı olarak özelleştirilebilir."
   ]
  },
  {
   "cell_type": "markdown",
   "id": "29768915",
   "metadata": {
    "id": "29768915"
   },
   "source": [
    "## 1. **Veri İncelemesi:**"
   ]
  },
  {
   "cell_type": "code",
   "execution_count": 2,
   "id": "cabdc702",
   "metadata": {
    "id": "cabdc702"
   },
   "outputs": [],
   "source": [
    "df=pd.read_csv(\"Book_Dataset_1.csv\")"
   ]
  },
  {
   "cell_type": "code",
   "execution_count": 3,
   "id": "4605854c",
   "metadata": {
    "colab": {
     "base_uri": "https://localhost:8080/",
     "height": 397
    },
    "id": "4605854c",
    "outputId": "ab602087-db59-49ec-d7e5-c367b4814a8c"
   },
   "outputs": [
    {
     "data": {
      "text/html": [
       "\n",
       "  <div id=\"df-7f3efc31-690d-492f-a5ad-c40a5822f0e3\" class=\"colab-df-container\">\n",
       "    <div>\n",
       "<style scoped>\n",
       "    .dataframe tbody tr th:only-of-type {\n",
       "        vertical-align: middle;\n",
       "    }\n",
       "\n",
       "    .dataframe tbody tr th {\n",
       "        vertical-align: top;\n",
       "    }\n",
       "\n",
       "    .dataframe thead th {\n",
       "        text-align: right;\n",
       "    }\n",
       "</style>\n",
       "<table border=\"1\" class=\"dataframe\">\n",
       "  <thead>\n",
       "    <tr style=\"text-align: right;\">\n",
       "      <th></th>\n",
       "      <th>Unnamed: 0</th>\n",
       "      <th>Title</th>\n",
       "      <th>Category</th>\n",
       "      <th>Price</th>\n",
       "      <th>Price_After_Tax</th>\n",
       "      <th>Tax_amount</th>\n",
       "      <th>Avilability</th>\n",
       "      <th>Number_of_reviews</th>\n",
       "      <th>Book_Description</th>\n",
       "      <th>Image_Link</th>\n",
       "      <th>Stars</th>\n",
       "    </tr>\n",
       "  </thead>\n",
       "  <tbody>\n",
       "    <tr>\n",
       "      <th>0</th>\n",
       "      <td>0</td>\n",
       "      <td>A Light in the Attic</td>\n",
       "      <td>Poetry</td>\n",
       "      <td>51.77</td>\n",
       "      <td>51.77</td>\n",
       "      <td>0.0</td>\n",
       "      <td>22</td>\n",
       "      <td>0</td>\n",
       "      <td>It's hard to imagine a world without A Light i...</td>\n",
       "      <td>http://books.toscrape.com/media/cache/fe/72/fe...</td>\n",
       "      <td>3</td>\n",
       "    </tr>\n",
       "    <tr>\n",
       "      <th>1</th>\n",
       "      <td>1</td>\n",
       "      <td>Tipping the Velvet</td>\n",
       "      <td>Historical Fiction</td>\n",
       "      <td>53.74</td>\n",
       "      <td>53.74</td>\n",
       "      <td>0.0</td>\n",
       "      <td>20</td>\n",
       "      <td>0</td>\n",
       "      <td>\"Erotic and absorbing...Written with starling ...</td>\n",
       "      <td>http://books.toscrape.com/media/cache/08/e9/08...</td>\n",
       "      <td>1</td>\n",
       "    </tr>\n",
       "    <tr>\n",
       "      <th>2</th>\n",
       "      <td>2</td>\n",
       "      <td>Soumission</td>\n",
       "      <td>Fiction</td>\n",
       "      <td>50.10</td>\n",
       "      <td>50.10</td>\n",
       "      <td>0.0</td>\n",
       "      <td>20</td>\n",
       "      <td>0</td>\n",
       "      <td>Dans une France assez proche de la nÃ´tre, un ...</td>\n",
       "      <td>http://books.toscrape.com/media/cache/ee/cf/ee...</td>\n",
       "      <td>1</td>\n",
       "    </tr>\n",
       "    <tr>\n",
       "      <th>3</th>\n",
       "      <td>3</td>\n",
       "      <td>Sharp Objects</td>\n",
       "      <td>Mystery</td>\n",
       "      <td>47.82</td>\n",
       "      <td>47.82</td>\n",
       "      <td>0.0</td>\n",
       "      <td>20</td>\n",
       "      <td>0</td>\n",
       "      <td>WICKED above her hipbone, GIRL across her hear...</td>\n",
       "      <td>http://books.toscrape.com/media/cache/c0/59/c0...</td>\n",
       "      <td>4</td>\n",
       "    </tr>\n",
       "    <tr>\n",
       "      <th>4</th>\n",
       "      <td>4</td>\n",
       "      <td>Sapiens: A Brief History of Humankind</td>\n",
       "      <td>History</td>\n",
       "      <td>54.23</td>\n",
       "      <td>54.23</td>\n",
       "      <td>0.0</td>\n",
       "      <td>20</td>\n",
       "      <td>0</td>\n",
       "      <td>From a renowned historian comes a groundbreaki...</td>\n",
       "      <td>http://books.toscrape.com/media/cache/ce/5f/ce...</td>\n",
       "      <td>5</td>\n",
       "    </tr>\n",
       "  </tbody>\n",
       "</table>\n",
       "</div>\n",
       "    <div class=\"colab-df-buttons\">\n",
       "\n",
       "  <div class=\"colab-df-container\">\n",
       "    <button class=\"colab-df-convert\" onclick=\"convertToInteractive('df-7f3efc31-690d-492f-a5ad-c40a5822f0e3')\"\n",
       "            title=\"Convert this dataframe to an interactive table.\"\n",
       "            style=\"display:none;\">\n",
       "\n",
       "  <svg xmlns=\"http://www.w3.org/2000/svg\" height=\"24px\" viewBox=\"0 -960 960 960\">\n",
       "    <path d=\"M120-120v-720h720v720H120Zm60-500h600v-160H180v160Zm220 220h160v-160H400v160Zm0 220h160v-160H400v160ZM180-400h160v-160H180v160Zm440 0h160v-160H620v160ZM180-180h160v-160H180v160Zm440 0h160v-160H620v160Z\"/>\n",
       "  </svg>\n",
       "    </button>\n",
       "\n",
       "  <style>\n",
       "    .colab-df-container {\n",
       "      display:flex;\n",
       "      gap: 12px;\n",
       "    }\n",
       "\n",
       "    .colab-df-convert {\n",
       "      background-color: #E8F0FE;\n",
       "      border: none;\n",
       "      border-radius: 50%;\n",
       "      cursor: pointer;\n",
       "      display: none;\n",
       "      fill: #1967D2;\n",
       "      height: 32px;\n",
       "      padding: 0 0 0 0;\n",
       "      width: 32px;\n",
       "    }\n",
       "\n",
       "    .colab-df-convert:hover {\n",
       "      background-color: #E2EBFA;\n",
       "      box-shadow: 0px 1px 2px rgba(60, 64, 67, 0.3), 0px 1px 3px 1px rgba(60, 64, 67, 0.15);\n",
       "      fill: #174EA6;\n",
       "    }\n",
       "\n",
       "    .colab-df-buttons div {\n",
       "      margin-bottom: 4px;\n",
       "    }\n",
       "\n",
       "    [theme=dark] .colab-df-convert {\n",
       "      background-color: #3B4455;\n",
       "      fill: #D2E3FC;\n",
       "    }\n",
       "\n",
       "    [theme=dark] .colab-df-convert:hover {\n",
       "      background-color: #434B5C;\n",
       "      box-shadow: 0px 1px 3px 1px rgba(0, 0, 0, 0.15);\n",
       "      filter: drop-shadow(0px 1px 2px rgba(0, 0, 0, 0.3));\n",
       "      fill: #FFFFFF;\n",
       "    }\n",
       "  </style>\n",
       "\n",
       "    <script>\n",
       "      const buttonEl =\n",
       "        document.querySelector('#df-7f3efc31-690d-492f-a5ad-c40a5822f0e3 button.colab-df-convert');\n",
       "      buttonEl.style.display =\n",
       "        google.colab.kernel.accessAllowed ? 'block' : 'none';\n",
       "\n",
       "      async function convertToInteractive(key) {\n",
       "        const element = document.querySelector('#df-7f3efc31-690d-492f-a5ad-c40a5822f0e3');\n",
       "        const dataTable =\n",
       "          await google.colab.kernel.invokeFunction('convertToInteractive',\n",
       "                                                    [key], {});\n",
       "        if (!dataTable) return;\n",
       "\n",
       "        const docLinkHtml = 'Like what you see? Visit the ' +\n",
       "          '<a target=\"_blank\" href=https://colab.research.google.com/notebooks/data_table.ipynb>data table notebook</a>'\n",
       "          + ' to learn more about interactive tables.';\n",
       "        element.innerHTML = '';\n",
       "        dataTable['output_type'] = 'display_data';\n",
       "        await google.colab.output.renderOutput(dataTable, element);\n",
       "        const docLink = document.createElement('div');\n",
       "        docLink.innerHTML = docLinkHtml;\n",
       "        element.appendChild(docLink);\n",
       "      }\n",
       "    </script>\n",
       "  </div>\n",
       "\n",
       "\n",
       "<div id=\"df-affcb506-4f45-481a-a289-fa7469cfa467\">\n",
       "  <button class=\"colab-df-quickchart\" onclick=\"quickchart('df-affcb506-4f45-481a-a289-fa7469cfa467')\"\n",
       "            title=\"Suggest charts.\"\n",
       "            style=\"display:none;\">\n",
       "\n",
       "<svg xmlns=\"http://www.w3.org/2000/svg\" height=\"24px\"viewBox=\"0 0 24 24\"\n",
       "     width=\"24px\">\n",
       "    <g>\n",
       "        <path d=\"M19 3H5c-1.1 0-2 .9-2 2v14c0 1.1.9 2 2 2h14c1.1 0 2-.9 2-2V5c0-1.1-.9-2-2-2zM9 17H7v-7h2v7zm4 0h-2V7h2v10zm4 0h-2v-4h2v4z\"/>\n",
       "    </g>\n",
       "</svg>\n",
       "  </button>\n",
       "\n",
       "<style>\n",
       "  .colab-df-quickchart {\n",
       "      --bg-color: #E8F0FE;\n",
       "      --fill-color: #1967D2;\n",
       "      --hover-bg-color: #E2EBFA;\n",
       "      --hover-fill-color: #174EA6;\n",
       "      --disabled-fill-color: #AAA;\n",
       "      --disabled-bg-color: #DDD;\n",
       "  }\n",
       "\n",
       "  [theme=dark] .colab-df-quickchart {\n",
       "      --bg-color: #3B4455;\n",
       "      --fill-color: #D2E3FC;\n",
       "      --hover-bg-color: #434B5C;\n",
       "      --hover-fill-color: #FFFFFF;\n",
       "      --disabled-bg-color: #3B4455;\n",
       "      --disabled-fill-color: #666;\n",
       "  }\n",
       "\n",
       "  .colab-df-quickchart {\n",
       "    background-color: var(--bg-color);\n",
       "    border: none;\n",
       "    border-radius: 50%;\n",
       "    cursor: pointer;\n",
       "    display: none;\n",
       "    fill: var(--fill-color);\n",
       "    height: 32px;\n",
       "    padding: 0;\n",
       "    width: 32px;\n",
       "  }\n",
       "\n",
       "  .colab-df-quickchart:hover {\n",
       "    background-color: var(--hover-bg-color);\n",
       "    box-shadow: 0 1px 2px rgba(60, 64, 67, 0.3), 0 1px 3px 1px rgba(60, 64, 67, 0.15);\n",
       "    fill: var(--button-hover-fill-color);\n",
       "  }\n",
       "\n",
       "  .colab-df-quickchart-complete:disabled,\n",
       "  .colab-df-quickchart-complete:disabled:hover {\n",
       "    background-color: var(--disabled-bg-color);\n",
       "    fill: var(--disabled-fill-color);\n",
       "    box-shadow: none;\n",
       "  }\n",
       "\n",
       "  .colab-df-spinner {\n",
       "    border: 2px solid var(--fill-color);\n",
       "    border-color: transparent;\n",
       "    border-bottom-color: var(--fill-color);\n",
       "    animation:\n",
       "      spin 1s steps(1) infinite;\n",
       "  }\n",
       "\n",
       "  @keyframes spin {\n",
       "    0% {\n",
       "      border-color: transparent;\n",
       "      border-bottom-color: var(--fill-color);\n",
       "      border-left-color: var(--fill-color);\n",
       "    }\n",
       "    20% {\n",
       "      border-color: transparent;\n",
       "      border-left-color: var(--fill-color);\n",
       "      border-top-color: var(--fill-color);\n",
       "    }\n",
       "    30% {\n",
       "      border-color: transparent;\n",
       "      border-left-color: var(--fill-color);\n",
       "      border-top-color: var(--fill-color);\n",
       "      border-right-color: var(--fill-color);\n",
       "    }\n",
       "    40% {\n",
       "      border-color: transparent;\n",
       "      border-right-color: var(--fill-color);\n",
       "      border-top-color: var(--fill-color);\n",
       "    }\n",
       "    60% {\n",
       "      border-color: transparent;\n",
       "      border-right-color: var(--fill-color);\n",
       "    }\n",
       "    80% {\n",
       "      border-color: transparent;\n",
       "      border-right-color: var(--fill-color);\n",
       "      border-bottom-color: var(--fill-color);\n",
       "    }\n",
       "    90% {\n",
       "      border-color: transparent;\n",
       "      border-bottom-color: var(--fill-color);\n",
       "    }\n",
       "  }\n",
       "</style>\n",
       "\n",
       "  <script>\n",
       "    async function quickchart(key) {\n",
       "      const quickchartButtonEl =\n",
       "        document.querySelector('#' + key + ' button');\n",
       "      quickchartButtonEl.disabled = true;  // To prevent multiple clicks.\n",
       "      quickchartButtonEl.classList.add('colab-df-spinner');\n",
       "      try {\n",
       "        const charts = await google.colab.kernel.invokeFunction(\n",
       "            'suggestCharts', [key], {});\n",
       "      } catch (error) {\n",
       "        console.error('Error during call to suggestCharts:', error);\n",
       "      }\n",
       "      quickchartButtonEl.classList.remove('colab-df-spinner');\n",
       "      quickchartButtonEl.classList.add('colab-df-quickchart-complete');\n",
       "    }\n",
       "    (() => {\n",
       "      let quickchartButtonEl =\n",
       "        document.querySelector('#df-affcb506-4f45-481a-a289-fa7469cfa467 button');\n",
       "      quickchartButtonEl.style.display =\n",
       "        google.colab.kernel.accessAllowed ? 'block' : 'none';\n",
       "    })();\n",
       "  </script>\n",
       "</div>\n",
       "    </div>\n",
       "  </div>\n"
      ],
      "text/plain": [
       "   Unnamed: 0                                  Title            Category  \\\n",
       "0           0                   A Light in the Attic              Poetry   \n",
       "1           1                     Tipping the Velvet  Historical Fiction   \n",
       "2           2                             Soumission             Fiction   \n",
       "3           3                          Sharp Objects             Mystery   \n",
       "4           4  Sapiens: A Brief History of Humankind             History   \n",
       "\n",
       "   Price  Price_After_Tax  Tax_amount  Avilability  Number_of_reviews  \\\n",
       "0  51.77            51.77         0.0           22                  0   \n",
       "1  53.74            53.74         0.0           20                  0   \n",
       "2  50.10            50.10         0.0           20                  0   \n",
       "3  47.82            47.82         0.0           20                  0   \n",
       "4  54.23            54.23         0.0           20                  0   \n",
       "\n",
       "                                    Book_Description  \\\n",
       "0  It's hard to imagine a world without A Light i...   \n",
       "1  \"Erotic and absorbing...Written with starling ...   \n",
       "2  Dans une France assez proche de la nÃ´tre, un ...   \n",
       "3  WICKED above her hipbone, GIRL across her hear...   \n",
       "4  From a renowned historian comes a groundbreaki...   \n",
       "\n",
       "                                          Image_Link  Stars  \n",
       "0  http://books.toscrape.com/media/cache/fe/72/fe...      3  \n",
       "1  http://books.toscrape.com/media/cache/08/e9/08...      1  \n",
       "2  http://books.toscrape.com/media/cache/ee/cf/ee...      1  \n",
       "3  http://books.toscrape.com/media/cache/c0/59/c0...      4  \n",
       "4  http://books.toscrape.com/media/cache/ce/5f/ce...      5  "
      ]
     },
     "execution_count": 3,
     "metadata": {},
     "output_type": "execute_result"
    }
   ],
   "source": [
    "df.head()"
   ]
  },
  {
   "cell_type": "markdown",
   "id": "8bdc3daf",
   "metadata": {
    "id": "8bdc3daf"
   },
   "source": [
    "**Title:** Kitabın başlığı.\n",
    "\n",
    "**Category:** Kitabın kategorisi.\n",
    "\n",
    "**Price:** Kitabın fiyatı.\n",
    "\n",
    "**Price_After_Tax:** Vergi sonrası fiyat.\n",
    "\n",
    "**Tax_amount:** Vergi miktarı.\n",
    "\n",
    "**Availability:** Kitabın bulunabilirlik durumu.\n",
    "\n",
    "**Number_of_reviews:** Kitaba yapılan yorumların sayısı.\n",
    "\n",
    "**Book_Description:** Kitap açıklaması.\n",
    "\n",
    "**Image_Link:** Kitabın resmi.\n",
    "\n",
    "**Stars:** Kitaba verilen yıldız derecelendirmesi.\n",
    "\n",
    "Bu veri çerçevesi üzerinde çeşitli analizler, görselleştirmeler veya kümeleme işlemleri yapabilirsiniz. Örneğin, kitapların kategorilerine göre gruplandırılması veya fiyat ve yıldız derecelendirmelerine göre analiz edilmesi gibi işlemler yapabilirsiniz. İhtiyacınıza ve projenize bağlı olarak daha spesifik analizler de gerçekleştirebilirsiniz."
   ]
  },
  {
   "cell_type": "code",
   "execution_count": 4,
   "id": "85831dd7",
   "metadata": {
    "colab": {
     "base_uri": "https://localhost:8080/",
     "height": 300
    },
    "id": "85831dd7",
    "outputId": "522481c3-3833-4b48-94c5-cd64b9d3088d"
   },
   "outputs": [
    {
     "data": {
      "text/html": [
       "\n",
       "  <div id=\"df-245131f0-75b3-4c43-aa71-725ca50b6dc2\" class=\"colab-df-container\">\n",
       "    <div>\n",
       "<style scoped>\n",
       "    .dataframe tbody tr th:only-of-type {\n",
       "        vertical-align: middle;\n",
       "    }\n",
       "\n",
       "    .dataframe tbody tr th {\n",
       "        vertical-align: top;\n",
       "    }\n",
       "\n",
       "    .dataframe thead th {\n",
       "        text-align: right;\n",
       "    }\n",
       "</style>\n",
       "<table border=\"1\" class=\"dataframe\">\n",
       "  <thead>\n",
       "    <tr style=\"text-align: right;\">\n",
       "      <th></th>\n",
       "      <th>Unnamed: 0</th>\n",
       "      <th>Price</th>\n",
       "      <th>Price_After_Tax</th>\n",
       "      <th>Tax_amount</th>\n",
       "      <th>Avilability</th>\n",
       "      <th>Number_of_reviews</th>\n",
       "      <th>Stars</th>\n",
       "    </tr>\n",
       "  </thead>\n",
       "  <tbody>\n",
       "    <tr>\n",
       "      <th>count</th>\n",
       "      <td>1000.000000</td>\n",
       "      <td>1000.00000</td>\n",
       "      <td>1000.00000</td>\n",
       "      <td>1000.0</td>\n",
       "      <td>1000.000000</td>\n",
       "      <td>1000.0</td>\n",
       "      <td>1000.000000</td>\n",
       "    </tr>\n",
       "    <tr>\n",
       "      <th>mean</th>\n",
       "      <td>499.500000</td>\n",
       "      <td>35.07035</td>\n",
       "      <td>35.07035</td>\n",
       "      <td>0.0</td>\n",
       "      <td>8.585000</td>\n",
       "      <td>0.0</td>\n",
       "      <td>2.923000</td>\n",
       "    </tr>\n",
       "    <tr>\n",
       "      <th>std</th>\n",
       "      <td>288.819436</td>\n",
       "      <td>14.44669</td>\n",
       "      <td>14.44669</td>\n",
       "      <td>0.0</td>\n",
       "      <td>5.654622</td>\n",
       "      <td>0.0</td>\n",
       "      <td>1.434967</td>\n",
       "    </tr>\n",
       "    <tr>\n",
       "      <th>min</th>\n",
       "      <td>0.000000</td>\n",
       "      <td>10.00000</td>\n",
       "      <td>10.00000</td>\n",
       "      <td>0.0</td>\n",
       "      <td>1.000000</td>\n",
       "      <td>0.0</td>\n",
       "      <td>1.000000</td>\n",
       "    </tr>\n",
       "    <tr>\n",
       "      <th>25%</th>\n",
       "      <td>249.750000</td>\n",
       "      <td>22.10750</td>\n",
       "      <td>22.10750</td>\n",
       "      <td>0.0</td>\n",
       "      <td>3.000000</td>\n",
       "      <td>0.0</td>\n",
       "      <td>2.000000</td>\n",
       "    </tr>\n",
       "    <tr>\n",
       "      <th>50%</th>\n",
       "      <td>499.500000</td>\n",
       "      <td>35.98000</td>\n",
       "      <td>35.98000</td>\n",
       "      <td>0.0</td>\n",
       "      <td>7.000000</td>\n",
       "      <td>0.0</td>\n",
       "      <td>3.000000</td>\n",
       "    </tr>\n",
       "    <tr>\n",
       "      <th>75%</th>\n",
       "      <td>749.250000</td>\n",
       "      <td>47.45750</td>\n",
       "      <td>47.45750</td>\n",
       "      <td>0.0</td>\n",
       "      <td>14.000000</td>\n",
       "      <td>0.0</td>\n",
       "      <td>4.000000</td>\n",
       "    </tr>\n",
       "    <tr>\n",
       "      <th>max</th>\n",
       "      <td>999.000000</td>\n",
       "      <td>59.99000</td>\n",
       "      <td>59.99000</td>\n",
       "      <td>0.0</td>\n",
       "      <td>22.000000</td>\n",
       "      <td>0.0</td>\n",
       "      <td>5.000000</td>\n",
       "    </tr>\n",
       "  </tbody>\n",
       "</table>\n",
       "</div>\n",
       "    <div class=\"colab-df-buttons\">\n",
       "\n",
       "  <div class=\"colab-df-container\">\n",
       "    <button class=\"colab-df-convert\" onclick=\"convertToInteractive('df-245131f0-75b3-4c43-aa71-725ca50b6dc2')\"\n",
       "            title=\"Convert this dataframe to an interactive table.\"\n",
       "            style=\"display:none;\">\n",
       "\n",
       "  <svg xmlns=\"http://www.w3.org/2000/svg\" height=\"24px\" viewBox=\"0 -960 960 960\">\n",
       "    <path d=\"M120-120v-720h720v720H120Zm60-500h600v-160H180v160Zm220 220h160v-160H400v160Zm0 220h160v-160H400v160ZM180-400h160v-160H180v160Zm440 0h160v-160H620v160ZM180-180h160v-160H180v160Zm440 0h160v-160H620v160Z\"/>\n",
       "  </svg>\n",
       "    </button>\n",
       "\n",
       "  <style>\n",
       "    .colab-df-container {\n",
       "      display:flex;\n",
       "      gap: 12px;\n",
       "    }\n",
       "\n",
       "    .colab-df-convert {\n",
       "      background-color: #E8F0FE;\n",
       "      border: none;\n",
       "      border-radius: 50%;\n",
       "      cursor: pointer;\n",
       "      display: none;\n",
       "      fill: #1967D2;\n",
       "      height: 32px;\n",
       "      padding: 0 0 0 0;\n",
       "      width: 32px;\n",
       "    }\n",
       "\n",
       "    .colab-df-convert:hover {\n",
       "      background-color: #E2EBFA;\n",
       "      box-shadow: 0px 1px 2px rgba(60, 64, 67, 0.3), 0px 1px 3px 1px rgba(60, 64, 67, 0.15);\n",
       "      fill: #174EA6;\n",
       "    }\n",
       "\n",
       "    .colab-df-buttons div {\n",
       "      margin-bottom: 4px;\n",
       "    }\n",
       "\n",
       "    [theme=dark] .colab-df-convert {\n",
       "      background-color: #3B4455;\n",
       "      fill: #D2E3FC;\n",
       "    }\n",
       "\n",
       "    [theme=dark] .colab-df-convert:hover {\n",
       "      background-color: #434B5C;\n",
       "      box-shadow: 0px 1px 3px 1px rgba(0, 0, 0, 0.15);\n",
       "      filter: drop-shadow(0px 1px 2px rgba(0, 0, 0, 0.3));\n",
       "      fill: #FFFFFF;\n",
       "    }\n",
       "  </style>\n",
       "\n",
       "    <script>\n",
       "      const buttonEl =\n",
       "        document.querySelector('#df-245131f0-75b3-4c43-aa71-725ca50b6dc2 button.colab-df-convert');\n",
       "      buttonEl.style.display =\n",
       "        google.colab.kernel.accessAllowed ? 'block' : 'none';\n",
       "\n",
       "      async function convertToInteractive(key) {\n",
       "        const element = document.querySelector('#df-245131f0-75b3-4c43-aa71-725ca50b6dc2');\n",
       "        const dataTable =\n",
       "          await google.colab.kernel.invokeFunction('convertToInteractive',\n",
       "                                                    [key], {});\n",
       "        if (!dataTable) return;\n",
       "\n",
       "        const docLinkHtml = 'Like what you see? Visit the ' +\n",
       "          '<a target=\"_blank\" href=https://colab.research.google.com/notebooks/data_table.ipynb>data table notebook</a>'\n",
       "          + ' to learn more about interactive tables.';\n",
       "        element.innerHTML = '';\n",
       "        dataTable['output_type'] = 'display_data';\n",
       "        await google.colab.output.renderOutput(dataTable, element);\n",
       "        const docLink = document.createElement('div');\n",
       "        docLink.innerHTML = docLinkHtml;\n",
       "        element.appendChild(docLink);\n",
       "      }\n",
       "    </script>\n",
       "  </div>\n",
       "\n",
       "\n",
       "<div id=\"df-787d992d-ec31-42b1-b26f-e95ad243613a\">\n",
       "  <button class=\"colab-df-quickchart\" onclick=\"quickchart('df-787d992d-ec31-42b1-b26f-e95ad243613a')\"\n",
       "            title=\"Suggest charts.\"\n",
       "            style=\"display:none;\">\n",
       "\n",
       "<svg xmlns=\"http://www.w3.org/2000/svg\" height=\"24px\"viewBox=\"0 0 24 24\"\n",
       "     width=\"24px\">\n",
       "    <g>\n",
       "        <path d=\"M19 3H5c-1.1 0-2 .9-2 2v14c0 1.1.9 2 2 2h14c1.1 0 2-.9 2-2V5c0-1.1-.9-2-2-2zM9 17H7v-7h2v7zm4 0h-2V7h2v10zm4 0h-2v-4h2v4z\"/>\n",
       "    </g>\n",
       "</svg>\n",
       "  </button>\n",
       "\n",
       "<style>\n",
       "  .colab-df-quickchart {\n",
       "      --bg-color: #E8F0FE;\n",
       "      --fill-color: #1967D2;\n",
       "      --hover-bg-color: #E2EBFA;\n",
       "      --hover-fill-color: #174EA6;\n",
       "      --disabled-fill-color: #AAA;\n",
       "      --disabled-bg-color: #DDD;\n",
       "  }\n",
       "\n",
       "  [theme=dark] .colab-df-quickchart {\n",
       "      --bg-color: #3B4455;\n",
       "      --fill-color: #D2E3FC;\n",
       "      --hover-bg-color: #434B5C;\n",
       "      --hover-fill-color: #FFFFFF;\n",
       "      --disabled-bg-color: #3B4455;\n",
       "      --disabled-fill-color: #666;\n",
       "  }\n",
       "\n",
       "  .colab-df-quickchart {\n",
       "    background-color: var(--bg-color);\n",
       "    border: none;\n",
       "    border-radius: 50%;\n",
       "    cursor: pointer;\n",
       "    display: none;\n",
       "    fill: var(--fill-color);\n",
       "    height: 32px;\n",
       "    padding: 0;\n",
       "    width: 32px;\n",
       "  }\n",
       "\n",
       "  .colab-df-quickchart:hover {\n",
       "    background-color: var(--hover-bg-color);\n",
       "    box-shadow: 0 1px 2px rgba(60, 64, 67, 0.3), 0 1px 3px 1px rgba(60, 64, 67, 0.15);\n",
       "    fill: var(--button-hover-fill-color);\n",
       "  }\n",
       "\n",
       "  .colab-df-quickchart-complete:disabled,\n",
       "  .colab-df-quickchart-complete:disabled:hover {\n",
       "    background-color: var(--disabled-bg-color);\n",
       "    fill: var(--disabled-fill-color);\n",
       "    box-shadow: none;\n",
       "  }\n",
       "\n",
       "  .colab-df-spinner {\n",
       "    border: 2px solid var(--fill-color);\n",
       "    border-color: transparent;\n",
       "    border-bottom-color: var(--fill-color);\n",
       "    animation:\n",
       "      spin 1s steps(1) infinite;\n",
       "  }\n",
       "\n",
       "  @keyframes spin {\n",
       "    0% {\n",
       "      border-color: transparent;\n",
       "      border-bottom-color: var(--fill-color);\n",
       "      border-left-color: var(--fill-color);\n",
       "    }\n",
       "    20% {\n",
       "      border-color: transparent;\n",
       "      border-left-color: var(--fill-color);\n",
       "      border-top-color: var(--fill-color);\n",
       "    }\n",
       "    30% {\n",
       "      border-color: transparent;\n",
       "      border-left-color: var(--fill-color);\n",
       "      border-top-color: var(--fill-color);\n",
       "      border-right-color: var(--fill-color);\n",
       "    }\n",
       "    40% {\n",
       "      border-color: transparent;\n",
       "      border-right-color: var(--fill-color);\n",
       "      border-top-color: var(--fill-color);\n",
       "    }\n",
       "    60% {\n",
       "      border-color: transparent;\n",
       "      border-right-color: var(--fill-color);\n",
       "    }\n",
       "    80% {\n",
       "      border-color: transparent;\n",
       "      border-right-color: var(--fill-color);\n",
       "      border-bottom-color: var(--fill-color);\n",
       "    }\n",
       "    90% {\n",
       "      border-color: transparent;\n",
       "      border-bottom-color: var(--fill-color);\n",
       "    }\n",
       "  }\n",
       "</style>\n",
       "\n",
       "  <script>\n",
       "    async function quickchart(key) {\n",
       "      const quickchartButtonEl =\n",
       "        document.querySelector('#' + key + ' button');\n",
       "      quickchartButtonEl.disabled = true;  // To prevent multiple clicks.\n",
       "      quickchartButtonEl.classList.add('colab-df-spinner');\n",
       "      try {\n",
       "        const charts = await google.colab.kernel.invokeFunction(\n",
       "            'suggestCharts', [key], {});\n",
       "      } catch (error) {\n",
       "        console.error('Error during call to suggestCharts:', error);\n",
       "      }\n",
       "      quickchartButtonEl.classList.remove('colab-df-spinner');\n",
       "      quickchartButtonEl.classList.add('colab-df-quickchart-complete');\n",
       "    }\n",
       "    (() => {\n",
       "      let quickchartButtonEl =\n",
       "        document.querySelector('#df-787d992d-ec31-42b1-b26f-e95ad243613a button');\n",
       "      quickchartButtonEl.style.display =\n",
       "        google.colab.kernel.accessAllowed ? 'block' : 'none';\n",
       "    })();\n",
       "  </script>\n",
       "</div>\n",
       "    </div>\n",
       "  </div>\n"
      ],
      "text/plain": [
       "        Unnamed: 0       Price  Price_After_Tax  Tax_amount  Avilability  \\\n",
       "count  1000.000000  1000.00000       1000.00000      1000.0  1000.000000   \n",
       "mean    499.500000    35.07035         35.07035         0.0     8.585000   \n",
       "std     288.819436    14.44669         14.44669         0.0     5.654622   \n",
       "min       0.000000    10.00000         10.00000         0.0     1.000000   \n",
       "25%     249.750000    22.10750         22.10750         0.0     3.000000   \n",
       "50%     499.500000    35.98000         35.98000         0.0     7.000000   \n",
       "75%     749.250000    47.45750         47.45750         0.0    14.000000   \n",
       "max     999.000000    59.99000         59.99000         0.0    22.000000   \n",
       "\n",
       "       Number_of_reviews        Stars  \n",
       "count             1000.0  1000.000000  \n",
       "mean                 0.0     2.923000  \n",
       "std                  0.0     1.434967  \n",
       "min                  0.0     1.000000  \n",
       "25%                  0.0     2.000000  \n",
       "50%                  0.0     3.000000  \n",
       "75%                  0.0     4.000000  \n",
       "max                  0.0     5.000000  "
      ]
     },
     "execution_count": 4,
     "metadata": {},
     "output_type": "execute_result"
    }
   ],
   "source": [
    "df.describe()"
   ]
  },
  {
   "cell_type": "code",
   "execution_count": 5,
   "id": "6b8cadb8",
   "metadata": {
    "colab": {
     "base_uri": "https://localhost:8080/",
     "height": 269
    },
    "id": "6b8cadb8",
    "outputId": "9b57e0c8-48ca-402f-fb01-4d5dbac5260c"
   },
   "outputs": [
    {
     "data": {
      "text/html": [
       "\n",
       "  <div id=\"df-60c9fcb9-2e08-4b10-bf83-5a94c79050ca\" class=\"colab-df-container\">\n",
       "    <div>\n",
       "<style scoped>\n",
       "    .dataframe tbody tr th:only-of-type {\n",
       "        vertical-align: middle;\n",
       "    }\n",
       "\n",
       "    .dataframe tbody tr th {\n",
       "        vertical-align: top;\n",
       "    }\n",
       "\n",
       "    .dataframe thead th {\n",
       "        text-align: right;\n",
       "    }\n",
       "</style>\n",
       "<table border=\"1\" class=\"dataframe\">\n",
       "  <thead>\n",
       "    <tr style=\"text-align: right;\">\n",
       "      <th></th>\n",
       "      <th>Unnamed: 0</th>\n",
       "      <th>Price</th>\n",
       "      <th>Price_After_Tax</th>\n",
       "      <th>Tax_amount</th>\n",
       "      <th>Avilability</th>\n",
       "      <th>Number_of_reviews</th>\n",
       "      <th>Stars</th>\n",
       "    </tr>\n",
       "  </thead>\n",
       "  <tbody>\n",
       "    <tr>\n",
       "      <th>Unnamed: 0</th>\n",
       "      <td>1.000000</td>\n",
       "      <td>0.016563</td>\n",
       "      <td>0.016563</td>\n",
       "      <td>NaN</td>\n",
       "      <td>-0.978961</td>\n",
       "      <td>NaN</td>\n",
       "      <td>-0.014017</td>\n",
       "    </tr>\n",
       "    <tr>\n",
       "      <th>Price</th>\n",
       "      <td>0.016563</td>\n",
       "      <td>1.000000</td>\n",
       "      <td>1.000000</td>\n",
       "      <td>NaN</td>\n",
       "      <td>-0.010914</td>\n",
       "      <td>NaN</td>\n",
       "      <td>0.028166</td>\n",
       "    </tr>\n",
       "    <tr>\n",
       "      <th>Price_After_Tax</th>\n",
       "      <td>0.016563</td>\n",
       "      <td>1.000000</td>\n",
       "      <td>1.000000</td>\n",
       "      <td>NaN</td>\n",
       "      <td>-0.010914</td>\n",
       "      <td>NaN</td>\n",
       "      <td>0.028166</td>\n",
       "    </tr>\n",
       "    <tr>\n",
       "      <th>Tax_amount</th>\n",
       "      <td>NaN</td>\n",
       "      <td>NaN</td>\n",
       "      <td>NaN</td>\n",
       "      <td>NaN</td>\n",
       "      <td>NaN</td>\n",
       "      <td>NaN</td>\n",
       "      <td>NaN</td>\n",
       "    </tr>\n",
       "    <tr>\n",
       "      <th>Avilability</th>\n",
       "      <td>-0.978961</td>\n",
       "      <td>-0.010914</td>\n",
       "      <td>-0.010914</td>\n",
       "      <td>NaN</td>\n",
       "      <td>1.000000</td>\n",
       "      <td>NaN</td>\n",
       "      <td>0.016166</td>\n",
       "    </tr>\n",
       "    <tr>\n",
       "      <th>Number_of_reviews</th>\n",
       "      <td>NaN</td>\n",
       "      <td>NaN</td>\n",
       "      <td>NaN</td>\n",
       "      <td>NaN</td>\n",
       "      <td>NaN</td>\n",
       "      <td>NaN</td>\n",
       "      <td>NaN</td>\n",
       "    </tr>\n",
       "    <tr>\n",
       "      <th>Stars</th>\n",
       "      <td>-0.014017</td>\n",
       "      <td>0.028166</td>\n",
       "      <td>0.028166</td>\n",
       "      <td>NaN</td>\n",
       "      <td>0.016166</td>\n",
       "      <td>NaN</td>\n",
       "      <td>1.000000</td>\n",
       "    </tr>\n",
       "  </tbody>\n",
       "</table>\n",
       "</div>\n",
       "    <div class=\"colab-df-buttons\">\n",
       "\n",
       "  <div class=\"colab-df-container\">\n",
       "    <button class=\"colab-df-convert\" onclick=\"convertToInteractive('df-60c9fcb9-2e08-4b10-bf83-5a94c79050ca')\"\n",
       "            title=\"Convert this dataframe to an interactive table.\"\n",
       "            style=\"display:none;\">\n",
       "\n",
       "  <svg xmlns=\"http://www.w3.org/2000/svg\" height=\"24px\" viewBox=\"0 -960 960 960\">\n",
       "    <path d=\"M120-120v-720h720v720H120Zm60-500h600v-160H180v160Zm220 220h160v-160H400v160Zm0 220h160v-160H400v160ZM180-400h160v-160H180v160Zm440 0h160v-160H620v160ZM180-180h160v-160H180v160Zm440 0h160v-160H620v160Z\"/>\n",
       "  </svg>\n",
       "    </button>\n",
       "\n",
       "  <style>\n",
       "    .colab-df-container {\n",
       "      display:flex;\n",
       "      gap: 12px;\n",
       "    }\n",
       "\n",
       "    .colab-df-convert {\n",
       "      background-color: #E8F0FE;\n",
       "      border: none;\n",
       "      border-radius: 50%;\n",
       "      cursor: pointer;\n",
       "      display: none;\n",
       "      fill: #1967D2;\n",
       "      height: 32px;\n",
       "      padding: 0 0 0 0;\n",
       "      width: 32px;\n",
       "    }\n",
       "\n",
       "    .colab-df-convert:hover {\n",
       "      background-color: #E2EBFA;\n",
       "      box-shadow: 0px 1px 2px rgba(60, 64, 67, 0.3), 0px 1px 3px 1px rgba(60, 64, 67, 0.15);\n",
       "      fill: #174EA6;\n",
       "    }\n",
       "\n",
       "    .colab-df-buttons div {\n",
       "      margin-bottom: 4px;\n",
       "    }\n",
       "\n",
       "    [theme=dark] .colab-df-convert {\n",
       "      background-color: #3B4455;\n",
       "      fill: #D2E3FC;\n",
       "    }\n",
       "\n",
       "    [theme=dark] .colab-df-convert:hover {\n",
       "      background-color: #434B5C;\n",
       "      box-shadow: 0px 1px 3px 1px rgba(0, 0, 0, 0.15);\n",
       "      filter: drop-shadow(0px 1px 2px rgba(0, 0, 0, 0.3));\n",
       "      fill: #FFFFFF;\n",
       "    }\n",
       "  </style>\n",
       "\n",
       "    <script>\n",
       "      const buttonEl =\n",
       "        document.querySelector('#df-60c9fcb9-2e08-4b10-bf83-5a94c79050ca button.colab-df-convert');\n",
       "      buttonEl.style.display =\n",
       "        google.colab.kernel.accessAllowed ? 'block' : 'none';\n",
       "\n",
       "      async function convertToInteractive(key) {\n",
       "        const element = document.querySelector('#df-60c9fcb9-2e08-4b10-bf83-5a94c79050ca');\n",
       "        const dataTable =\n",
       "          await google.colab.kernel.invokeFunction('convertToInteractive',\n",
       "                                                    [key], {});\n",
       "        if (!dataTable) return;\n",
       "\n",
       "        const docLinkHtml = 'Like what you see? Visit the ' +\n",
       "          '<a target=\"_blank\" href=https://colab.research.google.com/notebooks/data_table.ipynb>data table notebook</a>'\n",
       "          + ' to learn more about interactive tables.';\n",
       "        element.innerHTML = '';\n",
       "        dataTable['output_type'] = 'display_data';\n",
       "        await google.colab.output.renderOutput(dataTable, element);\n",
       "        const docLink = document.createElement('div');\n",
       "        docLink.innerHTML = docLinkHtml;\n",
       "        element.appendChild(docLink);\n",
       "      }\n",
       "    </script>\n",
       "  </div>\n",
       "\n",
       "\n",
       "<div id=\"df-237b76f0-915f-477d-a670-9f0e73ee005a\">\n",
       "  <button class=\"colab-df-quickchart\" onclick=\"quickchart('df-237b76f0-915f-477d-a670-9f0e73ee005a')\"\n",
       "            title=\"Suggest charts.\"\n",
       "            style=\"display:none;\">\n",
       "\n",
       "<svg xmlns=\"http://www.w3.org/2000/svg\" height=\"24px\"viewBox=\"0 0 24 24\"\n",
       "     width=\"24px\">\n",
       "    <g>\n",
       "        <path d=\"M19 3H5c-1.1 0-2 .9-2 2v14c0 1.1.9 2 2 2h14c1.1 0 2-.9 2-2V5c0-1.1-.9-2-2-2zM9 17H7v-7h2v7zm4 0h-2V7h2v10zm4 0h-2v-4h2v4z\"/>\n",
       "    </g>\n",
       "</svg>\n",
       "  </button>\n",
       "\n",
       "<style>\n",
       "  .colab-df-quickchart {\n",
       "      --bg-color: #E8F0FE;\n",
       "      --fill-color: #1967D2;\n",
       "      --hover-bg-color: #E2EBFA;\n",
       "      --hover-fill-color: #174EA6;\n",
       "      --disabled-fill-color: #AAA;\n",
       "      --disabled-bg-color: #DDD;\n",
       "  }\n",
       "\n",
       "  [theme=dark] .colab-df-quickchart {\n",
       "      --bg-color: #3B4455;\n",
       "      --fill-color: #D2E3FC;\n",
       "      --hover-bg-color: #434B5C;\n",
       "      --hover-fill-color: #FFFFFF;\n",
       "      --disabled-bg-color: #3B4455;\n",
       "      --disabled-fill-color: #666;\n",
       "  }\n",
       "\n",
       "  .colab-df-quickchart {\n",
       "    background-color: var(--bg-color);\n",
       "    border: none;\n",
       "    border-radius: 50%;\n",
       "    cursor: pointer;\n",
       "    display: none;\n",
       "    fill: var(--fill-color);\n",
       "    height: 32px;\n",
       "    padding: 0;\n",
       "    width: 32px;\n",
       "  }\n",
       "\n",
       "  .colab-df-quickchart:hover {\n",
       "    background-color: var(--hover-bg-color);\n",
       "    box-shadow: 0 1px 2px rgba(60, 64, 67, 0.3), 0 1px 3px 1px rgba(60, 64, 67, 0.15);\n",
       "    fill: var(--button-hover-fill-color);\n",
       "  }\n",
       "\n",
       "  .colab-df-quickchart-complete:disabled,\n",
       "  .colab-df-quickchart-complete:disabled:hover {\n",
       "    background-color: var(--disabled-bg-color);\n",
       "    fill: var(--disabled-fill-color);\n",
       "    box-shadow: none;\n",
       "  }\n",
       "\n",
       "  .colab-df-spinner {\n",
       "    border: 2px solid var(--fill-color);\n",
       "    border-color: transparent;\n",
       "    border-bottom-color: var(--fill-color);\n",
       "    animation:\n",
       "      spin 1s steps(1) infinite;\n",
       "  }\n",
       "\n",
       "  @keyframes spin {\n",
       "    0% {\n",
       "      border-color: transparent;\n",
       "      border-bottom-color: var(--fill-color);\n",
       "      border-left-color: var(--fill-color);\n",
       "    }\n",
       "    20% {\n",
       "      border-color: transparent;\n",
       "      border-left-color: var(--fill-color);\n",
       "      border-top-color: var(--fill-color);\n",
       "    }\n",
       "    30% {\n",
       "      border-color: transparent;\n",
       "      border-left-color: var(--fill-color);\n",
       "      border-top-color: var(--fill-color);\n",
       "      border-right-color: var(--fill-color);\n",
       "    }\n",
       "    40% {\n",
       "      border-color: transparent;\n",
       "      border-right-color: var(--fill-color);\n",
       "      border-top-color: var(--fill-color);\n",
       "    }\n",
       "    60% {\n",
       "      border-color: transparent;\n",
       "      border-right-color: var(--fill-color);\n",
       "    }\n",
       "    80% {\n",
       "      border-color: transparent;\n",
       "      border-right-color: var(--fill-color);\n",
       "      border-bottom-color: var(--fill-color);\n",
       "    }\n",
       "    90% {\n",
       "      border-color: transparent;\n",
       "      border-bottom-color: var(--fill-color);\n",
       "    }\n",
       "  }\n",
       "</style>\n",
       "\n",
       "  <script>\n",
       "    async function quickchart(key) {\n",
       "      const quickchartButtonEl =\n",
       "        document.querySelector('#' + key + ' button');\n",
       "      quickchartButtonEl.disabled = true;  // To prevent multiple clicks.\n",
       "      quickchartButtonEl.classList.add('colab-df-spinner');\n",
       "      try {\n",
       "        const charts = await google.colab.kernel.invokeFunction(\n",
       "            'suggestCharts', [key], {});\n",
       "      } catch (error) {\n",
       "        console.error('Error during call to suggestCharts:', error);\n",
       "      }\n",
       "      quickchartButtonEl.classList.remove('colab-df-spinner');\n",
       "      quickchartButtonEl.classList.add('colab-df-quickchart-complete');\n",
       "    }\n",
       "    (() => {\n",
       "      let quickchartButtonEl =\n",
       "        document.querySelector('#df-237b76f0-915f-477d-a670-9f0e73ee005a button');\n",
       "      quickchartButtonEl.style.display =\n",
       "        google.colab.kernel.accessAllowed ? 'block' : 'none';\n",
       "    })();\n",
       "  </script>\n",
       "</div>\n",
       "    </div>\n",
       "  </div>\n"
      ],
      "text/plain": [
       "                   Unnamed: 0     Price  Price_After_Tax  Tax_amount  \\\n",
       "Unnamed: 0           1.000000  0.016563         0.016563         NaN   \n",
       "Price                0.016563  1.000000         1.000000         NaN   \n",
       "Price_After_Tax      0.016563  1.000000         1.000000         NaN   \n",
       "Tax_amount                NaN       NaN              NaN         NaN   \n",
       "Avilability         -0.978961 -0.010914        -0.010914         NaN   \n",
       "Number_of_reviews         NaN       NaN              NaN         NaN   \n",
       "Stars               -0.014017  0.028166         0.028166         NaN   \n",
       "\n",
       "                   Avilability  Number_of_reviews     Stars  \n",
       "Unnamed: 0           -0.978961                NaN -0.014017  \n",
       "Price                -0.010914                NaN  0.028166  \n",
       "Price_After_Tax      -0.010914                NaN  0.028166  \n",
       "Tax_amount                 NaN                NaN       NaN  \n",
       "Avilability           1.000000                NaN  0.016166  \n",
       "Number_of_reviews          NaN                NaN       NaN  \n",
       "Stars                 0.016166                NaN  1.000000  "
      ]
     },
     "execution_count": 5,
     "metadata": {},
     "output_type": "execute_result"
    }
   ],
   "source": [
    "df.corr()"
   ]
  },
  {
   "cell_type": "code",
   "execution_count": 6,
   "id": "6f359bad",
   "metadata": {
    "colab": {
     "base_uri": "https://localhost:8080/"
    },
    "id": "6f359bad",
    "outputId": "5ce2204a-1881-4e64-b718-da6b3325df64"
   },
   "outputs": [
    {
     "data": {
      "text/plain": [
       "(1000, 11)"
      ]
     },
     "execution_count": 6,
     "metadata": {},
     "output_type": "execute_result"
    }
   ],
   "source": [
    "df.shape"
   ]
  },
  {
   "cell_type": "markdown",
   "id": "fac04778",
   "metadata": {
    "id": "fac04778"
   },
   "source": [
    "## 2. **Veri Ön İşleme:**"
   ]
  },
  {
   "cell_type": "code",
   "execution_count": 7,
   "id": "591ae673",
   "metadata": {
    "colab": {
     "base_uri": "https://localhost:8080/"
    },
    "id": "591ae673",
    "outputId": "05ab8df5-f08d-486b-8cd4-22044842af97"
   },
   "outputs": [
    {
     "data": {
      "text/plain": [
       "Unnamed: 0           0\n",
       "Title                0\n",
       "Category             0\n",
       "Price                0\n",
       "Price_After_Tax      0\n",
       "Tax_amount           0\n",
       "Avilability          0\n",
       "Number_of_reviews    0\n",
       "Book_Description     0\n",
       "Image_Link           0\n",
       "Stars                0\n",
       "dtype: int64"
      ]
     },
     "execution_count": 7,
     "metadata": {},
     "output_type": "execute_result"
    }
   ],
   "source": [
    "df.isnull().sum()"
   ]
  },
  {
   "cell_type": "code",
   "execution_count": 8,
   "id": "08afb824",
   "metadata": {
    "id": "08afb824"
   },
   "outputs": [],
   "source": [
    "df=df.dropna(axis=1, how=\"all\")"
   ]
  },
  {
   "cell_type": "code",
   "execution_count": 9,
   "id": "457ca07a",
   "metadata": {
    "colab": {
     "base_uri": "https://localhost:8080/"
    },
    "id": "457ca07a",
    "outputId": "ca9f65eb-e704-4274-d858-eebebf00b601"
   },
   "outputs": [
    {
     "name": "stdout",
     "output_type": "stream",
     "text": [
      "<class 'pandas.core.frame.DataFrame'>\n",
      "RangeIndex: 1000 entries, 0 to 999\n",
      "Data columns (total 11 columns):\n",
      " #   Column             Non-Null Count  Dtype  \n",
      "---  ------             --------------  -----  \n",
      " 0   Unnamed: 0         1000 non-null   int64  \n",
      " 1   Title              1000 non-null   object \n",
      " 2   Category           1000 non-null   object \n",
      " 3   Price              1000 non-null   float64\n",
      " 4   Price_After_Tax    1000 non-null   float64\n",
      " 5   Tax_amount         1000 non-null   float64\n",
      " 6   Avilability        1000 non-null   int64  \n",
      " 7   Number_of_reviews  1000 non-null   int64  \n",
      " 8   Book_Description   1000 non-null   object \n",
      " 9   Image_Link         1000 non-null   object \n",
      " 10  Stars              1000 non-null   int64  \n",
      "dtypes: float64(3), int64(4), object(4)\n",
      "memory usage: 86.1+ KB\n"
     ]
    }
   ],
   "source": [
    "df.info()"
   ]
  },
  {
   "cell_type": "code",
   "execution_count": 12,
   "id": "c6c5465d",
   "metadata": {
    "id": "c6c5465d"
   },
   "outputs": [],
   "source": [
    "df['Fiyat'] = df['Fiyat'].round().astype(int)\n",
    "df['Vergi Sonrası Fiyat'] = df['Vergi Sonrası Fiyat'].round().astype(int)\n",
    "df['Vergi Miktarı'] = df['Vergi Miktarı'].round().astype(int)"
   ]
  },
  {
   "cell_type": "markdown",
   "id": "96b00766",
   "metadata": {
    "id": "96b00766"
   },
   "source": [
    "Bu kod, sütunlardaki sayıları yuvarlar ve ardından int veri türüne çevirir, böylece ondalık kısmı korur. Ondalık sayılar yuvarlanarak tam sayıya dönüştürülür."
   ]
  },
  {
   "cell_type": "code",
   "execution_count": 13,
   "id": "fbc9b3b9",
   "metadata": {
    "id": "fbc9b3b9"
   },
   "outputs": [],
   "source": [
    "# İhtiyac olmayanları çıkaralım\n",
    "df.drop([\"Unnamed: 0\"], axis=1, inplace=True)"
   ]
  },
  {
   "cell_type": "code",
   "execution_count": 14,
   "id": "41fb0622",
   "metadata": {
    "id": "41fb0622"
   },
   "outputs": [],
   "source": [
    "df.drop([\"Kitap Link\", \"Kitap Açıklaması\"], axis=1, inplace=True)"
   ]
  },
  {
   "cell_type": "code",
   "execution_count": 11,
   "id": "9597bbf9",
   "metadata": {
    "id": "9597bbf9"
   },
   "outputs": [],
   "source": [
    "dic = {\n",
    "    'Title': 'Kitap Adı',\n",
    "    'Category': 'Kategori',\n",
    "    'Price': 'Fiyat',\n",
    "    'Price_After_Tax': 'Vergi Sonrası Fiyat',\n",
    "    'Tax_amount': 'Vergi Miktarı',\n",
    "    'Availability': 'Bulunabilirlik',\n",
    "    'Number_of_reviews': 'Yapılan İncelemelerin Sayısı',\n",
    "    'Book_Description': 'Kitap Açıklaması',\n",
    "    'Image_Link': 'Kitap Link',\n",
    "    'Stars': 'Yıldız Derecesi'\n",
    "}\n",
    "df.rename(columns=dic, inplace=True)"
   ]
  },
  {
   "cell_type": "code",
   "execution_count": 15,
   "id": "010ea330",
   "metadata": {
    "colab": {
     "base_uri": "https://localhost:8080/",
     "height": 143
    },
    "id": "010ea330",
    "outputId": "716d97d5-07de-4e0e-b17e-32d88e28053f"
   },
   "outputs": [
    {
     "data": {
      "text/html": [
       "\n",
       "  <div id=\"df-90fa747b-fafe-468c-8a07-9b98720a00ef\" class=\"colab-df-container\">\n",
       "    <div>\n",
       "<style scoped>\n",
       "    .dataframe tbody tr th:only-of-type {\n",
       "        vertical-align: middle;\n",
       "    }\n",
       "\n",
       "    .dataframe tbody tr th {\n",
       "        vertical-align: top;\n",
       "    }\n",
       "\n",
       "    .dataframe thead th {\n",
       "        text-align: right;\n",
       "    }\n",
       "</style>\n",
       "<table border=\"1\" class=\"dataframe\">\n",
       "  <thead>\n",
       "    <tr style=\"text-align: right;\">\n",
       "      <th></th>\n",
       "      <th>Kitap Adı</th>\n",
       "      <th>Kategori</th>\n",
       "      <th>Fiyat</th>\n",
       "      <th>Vergi Sonrası Fiyat</th>\n",
       "      <th>Vergi Miktarı</th>\n",
       "      <th>Avilability</th>\n",
       "      <th>Yapılan İncelemelerin Sayısı</th>\n",
       "      <th>Yıldız Derecesi</th>\n",
       "    </tr>\n",
       "  </thead>\n",
       "  <tbody>\n",
       "    <tr>\n",
       "      <th>666</th>\n",
       "      <td>Needful Things</td>\n",
       "      <td>Horror</td>\n",
       "      <td>48</td>\n",
       "      <td>48</td>\n",
       "      <td>0</td>\n",
       "      <td>4</td>\n",
       "      <td>0</td>\n",
       "      <td>4</td>\n",
       "    </tr>\n",
       "    <tr>\n",
       "      <th>605</th>\n",
       "      <td>Tell Me Three Things</td>\n",
       "      <td>Young Adult</td>\n",
       "      <td>42</td>\n",
       "      <td>42</td>\n",
       "      <td>0</td>\n",
       "      <td>5</td>\n",
       "      <td>0</td>\n",
       "      <td>1</td>\n",
       "    </tr>\n",
       "    <tr>\n",
       "      <th>813</th>\n",
       "      <td>Life After Life</td>\n",
       "      <td>Default</td>\n",
       "      <td>26</td>\n",
       "      <td>26</td>\n",
       "      <td>0</td>\n",
       "      <td>3</td>\n",
       "      <td>0</td>\n",
       "      <td>2</td>\n",
       "    </tr>\n",
       "  </tbody>\n",
       "</table>\n",
       "</div>\n",
       "    <div class=\"colab-df-buttons\">\n",
       "\n",
       "  <div class=\"colab-df-container\">\n",
       "    <button class=\"colab-df-convert\" onclick=\"convertToInteractive('df-90fa747b-fafe-468c-8a07-9b98720a00ef')\"\n",
       "            title=\"Convert this dataframe to an interactive table.\"\n",
       "            style=\"display:none;\">\n",
       "\n",
       "  <svg xmlns=\"http://www.w3.org/2000/svg\" height=\"24px\" viewBox=\"0 -960 960 960\">\n",
       "    <path d=\"M120-120v-720h720v720H120Zm60-500h600v-160H180v160Zm220 220h160v-160H400v160Zm0 220h160v-160H400v160ZM180-400h160v-160H180v160Zm440 0h160v-160H620v160ZM180-180h160v-160H180v160Zm440 0h160v-160H620v160Z\"/>\n",
       "  </svg>\n",
       "    </button>\n",
       "\n",
       "  <style>\n",
       "    .colab-df-container {\n",
       "      display:flex;\n",
       "      gap: 12px;\n",
       "    }\n",
       "\n",
       "    .colab-df-convert {\n",
       "      background-color: #E8F0FE;\n",
       "      border: none;\n",
       "      border-radius: 50%;\n",
       "      cursor: pointer;\n",
       "      display: none;\n",
       "      fill: #1967D2;\n",
       "      height: 32px;\n",
       "      padding: 0 0 0 0;\n",
       "      width: 32px;\n",
       "    }\n",
       "\n",
       "    .colab-df-convert:hover {\n",
       "      background-color: #E2EBFA;\n",
       "      box-shadow: 0px 1px 2px rgba(60, 64, 67, 0.3), 0px 1px 3px 1px rgba(60, 64, 67, 0.15);\n",
       "      fill: #174EA6;\n",
       "    }\n",
       "\n",
       "    .colab-df-buttons div {\n",
       "      margin-bottom: 4px;\n",
       "    }\n",
       "\n",
       "    [theme=dark] .colab-df-convert {\n",
       "      background-color: #3B4455;\n",
       "      fill: #D2E3FC;\n",
       "    }\n",
       "\n",
       "    [theme=dark] .colab-df-convert:hover {\n",
       "      background-color: #434B5C;\n",
       "      box-shadow: 0px 1px 3px 1px rgba(0, 0, 0, 0.15);\n",
       "      filter: drop-shadow(0px 1px 2px rgba(0, 0, 0, 0.3));\n",
       "      fill: #FFFFFF;\n",
       "    }\n",
       "  </style>\n",
       "\n",
       "    <script>\n",
       "      const buttonEl =\n",
       "        document.querySelector('#df-90fa747b-fafe-468c-8a07-9b98720a00ef button.colab-df-convert');\n",
       "      buttonEl.style.display =\n",
       "        google.colab.kernel.accessAllowed ? 'block' : 'none';\n",
       "\n",
       "      async function convertToInteractive(key) {\n",
       "        const element = document.querySelector('#df-90fa747b-fafe-468c-8a07-9b98720a00ef');\n",
       "        const dataTable =\n",
       "          await google.colab.kernel.invokeFunction('convertToInteractive',\n",
       "                                                    [key], {});\n",
       "        if (!dataTable) return;\n",
       "\n",
       "        const docLinkHtml = 'Like what you see? Visit the ' +\n",
       "          '<a target=\"_blank\" href=https://colab.research.google.com/notebooks/data_table.ipynb>data table notebook</a>'\n",
       "          + ' to learn more about interactive tables.';\n",
       "        element.innerHTML = '';\n",
       "        dataTable['output_type'] = 'display_data';\n",
       "        await google.colab.output.renderOutput(dataTable, element);\n",
       "        const docLink = document.createElement('div');\n",
       "        docLink.innerHTML = docLinkHtml;\n",
       "        element.appendChild(docLink);\n",
       "      }\n",
       "    </script>\n",
       "  </div>\n",
       "\n",
       "\n",
       "<div id=\"df-76fdcdee-5383-41e2-be7d-8668cccf77f7\">\n",
       "  <button class=\"colab-df-quickchart\" onclick=\"quickchart('df-76fdcdee-5383-41e2-be7d-8668cccf77f7')\"\n",
       "            title=\"Suggest charts.\"\n",
       "            style=\"display:none;\">\n",
       "\n",
       "<svg xmlns=\"http://www.w3.org/2000/svg\" height=\"24px\"viewBox=\"0 0 24 24\"\n",
       "     width=\"24px\">\n",
       "    <g>\n",
       "        <path d=\"M19 3H5c-1.1 0-2 .9-2 2v14c0 1.1.9 2 2 2h14c1.1 0 2-.9 2-2V5c0-1.1-.9-2-2-2zM9 17H7v-7h2v7zm4 0h-2V7h2v10zm4 0h-2v-4h2v4z\"/>\n",
       "    </g>\n",
       "</svg>\n",
       "  </button>\n",
       "\n",
       "<style>\n",
       "  .colab-df-quickchart {\n",
       "      --bg-color: #E8F0FE;\n",
       "      --fill-color: #1967D2;\n",
       "      --hover-bg-color: #E2EBFA;\n",
       "      --hover-fill-color: #174EA6;\n",
       "      --disabled-fill-color: #AAA;\n",
       "      --disabled-bg-color: #DDD;\n",
       "  }\n",
       "\n",
       "  [theme=dark] .colab-df-quickchart {\n",
       "      --bg-color: #3B4455;\n",
       "      --fill-color: #D2E3FC;\n",
       "      --hover-bg-color: #434B5C;\n",
       "      --hover-fill-color: #FFFFFF;\n",
       "      --disabled-bg-color: #3B4455;\n",
       "      --disabled-fill-color: #666;\n",
       "  }\n",
       "\n",
       "  .colab-df-quickchart {\n",
       "    background-color: var(--bg-color);\n",
       "    border: none;\n",
       "    border-radius: 50%;\n",
       "    cursor: pointer;\n",
       "    display: none;\n",
       "    fill: var(--fill-color);\n",
       "    height: 32px;\n",
       "    padding: 0;\n",
       "    width: 32px;\n",
       "  }\n",
       "\n",
       "  .colab-df-quickchart:hover {\n",
       "    background-color: var(--hover-bg-color);\n",
       "    box-shadow: 0 1px 2px rgba(60, 64, 67, 0.3), 0 1px 3px 1px rgba(60, 64, 67, 0.15);\n",
       "    fill: var(--button-hover-fill-color);\n",
       "  }\n",
       "\n",
       "  .colab-df-quickchart-complete:disabled,\n",
       "  .colab-df-quickchart-complete:disabled:hover {\n",
       "    background-color: var(--disabled-bg-color);\n",
       "    fill: var(--disabled-fill-color);\n",
       "    box-shadow: none;\n",
       "  }\n",
       "\n",
       "  .colab-df-spinner {\n",
       "    border: 2px solid var(--fill-color);\n",
       "    border-color: transparent;\n",
       "    border-bottom-color: var(--fill-color);\n",
       "    animation:\n",
       "      spin 1s steps(1) infinite;\n",
       "  }\n",
       "\n",
       "  @keyframes spin {\n",
       "    0% {\n",
       "      border-color: transparent;\n",
       "      border-bottom-color: var(--fill-color);\n",
       "      border-left-color: var(--fill-color);\n",
       "    }\n",
       "    20% {\n",
       "      border-color: transparent;\n",
       "      border-left-color: var(--fill-color);\n",
       "      border-top-color: var(--fill-color);\n",
       "    }\n",
       "    30% {\n",
       "      border-color: transparent;\n",
       "      border-left-color: var(--fill-color);\n",
       "      border-top-color: var(--fill-color);\n",
       "      border-right-color: var(--fill-color);\n",
       "    }\n",
       "    40% {\n",
       "      border-color: transparent;\n",
       "      border-right-color: var(--fill-color);\n",
       "      border-top-color: var(--fill-color);\n",
       "    }\n",
       "    60% {\n",
       "      border-color: transparent;\n",
       "      border-right-color: var(--fill-color);\n",
       "    }\n",
       "    80% {\n",
       "      border-color: transparent;\n",
       "      border-right-color: var(--fill-color);\n",
       "      border-bottom-color: var(--fill-color);\n",
       "    }\n",
       "    90% {\n",
       "      border-color: transparent;\n",
       "      border-bottom-color: var(--fill-color);\n",
       "    }\n",
       "  }\n",
       "</style>\n",
       "\n",
       "  <script>\n",
       "    async function quickchart(key) {\n",
       "      const quickchartButtonEl =\n",
       "        document.querySelector('#' + key + ' button');\n",
       "      quickchartButtonEl.disabled = true;  // To prevent multiple clicks.\n",
       "      quickchartButtonEl.classList.add('colab-df-spinner');\n",
       "      try {\n",
       "        const charts = await google.colab.kernel.invokeFunction(\n",
       "            'suggestCharts', [key], {});\n",
       "      } catch (error) {\n",
       "        console.error('Error during call to suggestCharts:', error);\n",
       "      }\n",
       "      quickchartButtonEl.classList.remove('colab-df-spinner');\n",
       "      quickchartButtonEl.classList.add('colab-df-quickchart-complete');\n",
       "    }\n",
       "    (() => {\n",
       "      let quickchartButtonEl =\n",
       "        document.querySelector('#df-76fdcdee-5383-41e2-be7d-8668cccf77f7 button');\n",
       "      quickchartButtonEl.style.display =\n",
       "        google.colab.kernel.accessAllowed ? 'block' : 'none';\n",
       "    })();\n",
       "  </script>\n",
       "</div>\n",
       "    </div>\n",
       "  </div>\n"
      ],
      "text/plain": [
       "                Kitap Adı     Kategori  Fiyat  Vergi Sonrası Fiyat  \\\n",
       "666        Needful Things       Horror     48                   48   \n",
       "605  Tell Me Three Things  Young Adult     42                   42   \n",
       "813       Life After Life      Default     26                   26   \n",
       "\n",
       "     Vergi Miktarı  Avilability  Yapılan İncelemelerin Sayısı  Yıldız Derecesi  \n",
       "666              0            4                             0                4  \n",
       "605              0            5                             0                1  \n",
       "813              0            3                             0                2  "
      ]
     },
     "execution_count": 15,
     "metadata": {},
     "output_type": "execute_result"
    }
   ],
   "source": [
    "df.sample(3)"
   ]
  },
  {
   "cell_type": "code",
   "execution_count": 16,
   "id": "d4524bd3",
   "metadata": {
    "colab": {
     "base_uri": "https://localhost:8080/",
     "height": 680
    },
    "id": "d4524bd3",
    "outputId": "ae8805a0-d248-48c9-cd94-afcbfe777e9d"
   },
   "outputs": [
    {
     "data": {
      "image/png": "[encoded data removed]",
      "text/plain": [
       "<Figure size 2000x800 with 1 Axes>"
      ]
     },
     "metadata": {},
     "output_type": "display_data"
    }
   ],
   "source": [
    "import matplotlib.pyplot as plt\n",
    "import seaborn as sns\n",
    "\n",
    "plt.figure(figsize=(20, 8))\n",
    "plt.title(\"Kategoriye Göre Kitap Fiyatları\")\n",
    "\n",
    "sns.barplot(x=df['Kategori'], y=df['Fiyat'])\n",
    "\n",
    "plt.xticks(rotation=45)\n",
    "plt.xlabel('Kategori')\n",
    "plt.ylabel('Fiyat')\n",
    "\n",
    "plt.show()"
   ]
  },
  {
   "cell_type": "code",
   "execution_count": 17,
   "id": "db6d79a4",
   "metadata": {
    "colab": {
     "base_uri": "https://localhost:8080/",
     "height": 807
    },
    "id": "db6d79a4",
    "outputId": "d7043ef8-d94a-4f26-d618-620056d83731"
   },
   "outputs": [
    {
     "data": {
      "image/png": "[encoded data removed]",
      "text/plain": [
       "<Figure size 2700x1400 with 1 Axes>"
      ]
     },
     "metadata": {},
     "output_type": "display_data"
    }
   ],
   "source": [
    "plt.figure(figsize=(27, 14))\n",
    "plt.title(\"Yıldız Derecesi ve Konuya Göre Box Plot\")\n",
    "\n",
    "# Farklı renklerde box plot oluşturma\n",
    "sns.boxplot(data=df, x='Kategori', y='Yıldız Derecesi', palette='coolwarm')\n",
    "\n",
    "plt.xticks(rotation=45)\n",
    "plt.xlabel('Kategori')\n",
    "plt.ylabel('Yıldız Derecesi')\n",
    "plt.show()"
   ]
  },
  {
   "cell_type": "code",
   "execution_count": 18,
   "id": "d1f38852",
   "metadata": {
    "colab": {
     "base_uri": "https://localhost:8080/"
    },
    "id": "d1f38852",
    "outputId": "0f42f609-d9f4-49be-f690-2262ac41cc90"
   },
   "outputs": [
    {
     "data": {
      "text/plain": [
       "Yıldız Derecesi                 1.000000\n",
       "Fiyat                           0.028336\n",
       "Vergi Sonrası Fiyat             0.028336\n",
       "Avilability                     0.016166\n",
       "Vergi Miktarı                        NaN\n",
       "Yapılan İncelemelerin Sayısı         NaN\n",
       "Name: Yıldız Derecesi, dtype: float64"
      ]
     },
     "execution_count": 18,
     "metadata": {},
     "output_type": "execute_result"
    }
   ],
   "source": [
    "df.corr()['Yıldız Derecesi'].sort_values(ascending=False)"
   ]
  },
  {
   "cell_type": "code",
   "execution_count": 19,
   "id": "86a43dcd",
   "metadata": {
    "id": "86a43dcd"
   },
   "outputs": [],
   "source": [
    "df['Yapılan İncelemelerin Sayısı'].fillna(0, inplace=True)"
   ]
  },
  {
   "cell_type": "code",
   "execution_count": 20,
   "id": "41166b17",
   "metadata": {
    "id": "41166b17"
   },
   "outputs": [],
   "source": [
    "df['Vergi Miktarı'].fillna(0, inplace=True)"
   ]
  },
  {
   "cell_type": "markdown",
   "id": "a5e9fcd9",
   "metadata": {
    "id": "a5e9fcd9"
   },
   "source": [
    "## Modelleme"
   ]
  },
  {
   "cell_type": "code",
   "execution_count": 21,
   "id": "fe2673d7",
   "metadata": {
    "id": "fe2673d7"
   },
   "outputs": [],
   "source": [
    "x=df[[\"Yıldız Derecesi\",\"Fiyat\",\"Vergi Sonrası Fiyat\",\"Avilability\"]]"
   ]
  },
  {
   "cell_type": "code",
   "execution_count": 39,
   "id": "7cebf18f",
   "metadata": {
    "id": "7cebf18f"
   },
   "outputs": [],
   "source": [
    "model=KMeans(4)"
   ]
  },
  {
   "cell_type": "code",
   "execution_count": 40,
   "id": "708809dc",
   "metadata": {
    "id": "708809dc"
   },
   "outputs": [],
   "source": [
    "model=model.fit(x)"
   ]
  },
  {
   "cell_type": "code",
   "execution_count": 41,
   "id": "f870e3a8",
   "metadata": {
    "id": "f870e3a8"
   },
   "outputs": [],
   "source": [
    "pred=model.predict(x)"
   ]
  },
  {
   "cell_type": "code",
   "execution_count": 42,
   "id": "ae3f77d2",
   "metadata": {
    "colab": {
     "base_uri": "https://localhost:8080/"
    },
    "id": "ae3f77d2",
    "outputId": "c7fe69c5-3f77-4880-dc12-8fb5ba53b6d6"
   },
   "outputs": [
    {
     "data": {
      "text/plain": [
       "array([1, 1, 1, 1, 1, 2, 2, 0, 2, 1, 0, 0, 0, 1, 3, 1, 2, 3, 1, 3, 0, 3,\n",
       "       2, 2, 3, 1, 0, 1, 3, 3, 0, 2, 2, 3, 0, 2, 0, 0, 1, 2, 1, 2, 1, 2,\n",
       "       3, 2, 1, 0, 3, 0, 2, 0, 2, 0, 0, 0, 1, 1, 1, 3, 3, 1, 3, 2, 0, 0,\n",
       "       3, 1, 1, 1, 3, 0, 2, 3, 3, 3, 2, 1, 0, 1, 0, 0, 0, 3, 0, 0, 1, 3,\n",
       "       0, 0, 2, 1, 0, 3, 3, 0, 3, 1, 3, 0, 1, 2, 1, 3, 2, 0, 2, 0, 0, 1,\n",
       "       3, 1, 3, 3, 0, 2, 2, 1, 3, 2, 2, 3, 1, 0, 1, 2, 1, 1, 0, 3, 0, 3,\n",
       "       3, 1, 1, 1, 2, 3, 0, 0, 2, 2, 1, 3, 0, 3, 3, 3, 3, 3, 1, 3, 0, 3,\n",
       "       3, 3, 1, 0, 2, 3, 2, 3, 2, 0, 2, 1, 0, 2, 0, 2, 2, 0, 3, 3, 0, 3,\n",
       "       0, 3, 3, 2, 2, 0, 0, 0, 1, 0, 1, 3, 0, 1, 2, 0, 2, 1, 3, 1, 3, 3,\n",
       "       3, 3, 0, 0, 1, 3, 2, 2, 0, 3, 0, 0, 3, 0, 3, 1, 0, 2, 3, 3, 0, 1,\n",
       "       3, 0, 1, 0, 3, 3, 3, 0, 2, 2, 3, 1, 2, 2, 2, 1, 3, 3, 3, 1, 0, 2,\n",
       "       0, 3, 2, 0, 1, 3, 1, 2, 0, 2, 1, 3, 3, 0, 3, 0, 0, 3, 3, 0, 2, 3,\n",
       "       3, 1, 3, 1, 1, 3, 1, 2, 2, 1, 0, 1, 0, 0, 0, 3, 3, 2, 3, 2, 3, 3,\n",
       "       1, 1, 1, 0, 2, 3, 2, 0, 0, 2, 2, 0, 0, 3, 2, 1, 0, 2, 3, 1, 0, 3,\n",
       "       2, 1, 0, 1, 1, 1, 3, 3, 0, 3, 1, 2, 0, 3, 1, 0, 3, 3, 0, 1, 2, 3,\n",
       "       3, 1, 2, 2, 1, 0, 1, 1, 2, 1, 2, 0, 1, 1, 0, 1, 3, 3, 0, 1, 0, 0,\n",
       "       3, 3, 0, 2, 0, 3, 2, 3, 2, 2, 1, 3, 0, 1, 1, 0, 1, 0, 1, 3, 3, 2,\n",
       "       0, 1, 1, 3, 0, 1, 0, 3, 0, 1, 1, 3, 1, 1, 3, 3, 1, 2, 0, 1, 0, 1,\n",
       "       1, 0, 0, 1, 0, 0, 2, 0, 3, 3, 0, 1, 1, 1, 0, 0, 0, 0, 0, 0, 0, 1,\n",
       "       2, 1, 1, 1, 1, 0, 2, 3, 0, 0, 1, 2, 1, 1, 1, 2, 0, 3, 0, 2, 3, 2,\n",
       "       3, 1, 1, 1, 3, 2, 0, 3, 3, 3, 3, 2, 3, 1, 3, 3, 2, 3, 1, 3, 0, 2,\n",
       "       1, 2, 1, 3, 1, 2, 2, 0, 2, 3, 3, 3, 0, 1, 3, 2, 3, 0, 1, 1, 3, 2,\n",
       "       3, 0, 0, 1, 1, 0, 1, 3, 0, 2, 2, 3, 3, 2, 3, 3, 3, 0, 3, 1, 0, 3,\n",
       "       3, 0, 3, 1, 2, 2, 0, 0, 0, 3, 1, 1, 2, 2, 1, 0, 3, 1, 2, 0, 1, 3,\n",
       "       1, 3, 2, 3, 0, 3, 3, 0, 0, 0, 1, 2, 1, 2, 3, 1, 3, 1, 3, 1, 2, 1,\n",
       "       2, 3, 3, 0, 2, 0, 3, 0, 0, 0, 1, 1, 2, 0, 3, 1, 0, 3, 1, 3, 0, 3,\n",
       "       1, 0, 3, 3, 1, 3, 0, 1, 2, 3, 1, 3, 1, 0, 3, 0, 2, 1, 0, 2, 3, 2,\n",
       "       1, 0, 3, 3, 1, 3, 2, 0, 3, 0, 3, 3, 2, 2, 0, 0, 2, 0, 2, 2, 2, 2,\n",
       "       0, 1, 2, 0, 1, 3, 3, 2, 0, 2, 0, 2, 3, 3, 3, 1, 1, 2, 0, 0, 2, 1,\n",
       "       0, 1, 1, 2, 3, 0, 0, 1, 2, 1, 1, 2, 3, 2, 0, 0, 2, 1, 2, 1, 3, 0,\n",
       "       1, 1, 0, 0, 0, 0, 1, 0, 3, 2, 2, 0, 2, 2, 1, 0, 2, 2, 2, 1, 3, 0,\n",
       "       1, 0, 1, 2, 2, 1, 1, 1, 2, 1, 3, 0, 2, 3, 0, 2, 2, 2, 2, 0, 1, 0,\n",
       "       1, 2, 2, 3, 3, 1, 2, 0, 1, 0, 3, 0, 0, 1, 1, 2, 2, 1, 1, 2, 3, 0,\n",
       "       3, 3, 3, 0, 2, 3, 3, 2, 3, 1, 3, 0, 1, 3, 2, 1, 2, 2, 1, 1, 0, 1,\n",
       "       3, 0, 1, 2, 1, 3, 2, 0, 1, 3, 1, 2, 2, 0, 2, 3, 2, 0, 1, 1, 3, 1,\n",
       "       2, 2, 2, 2, 3, 1, 1, 1, 2, 3, 1, 2, 0, 3, 2, 0, 1, 3, 3, 0, 2, 0,\n",
       "       3, 3, 3, 1, 0, 2, 2, 2, 3, 0, 3, 2, 2, 1, 1, 1, 3, 0, 0, 2, 1, 2,\n",
       "       2, 3, 3, 2, 1, 1, 3, 3, 0, 1, 3, 2, 1, 0, 2, 2, 3, 1, 3, 1, 3, 0,\n",
       "       3, 2, 3, 3, 3, 3, 1, 0, 0, 3, 2, 3, 0, 1, 1, 1, 0, 3, 0, 1, 2, 1,\n",
       "       0, 3, 1, 2, 3, 2, 3, 1, 0, 2, 2, 3, 1, 2, 0, 2, 3, 2, 3, 2, 0, 1,\n",
       "       3, 3, 2, 0, 2, 1, 2, 1, 0, 2, 1, 0, 2, 0, 0, 0, 2, 2, 1, 1, 0, 1,\n",
       "       0, 3, 3, 1, 3, 0, 1, 2, 1, 3, 1, 0, 3, 3, 3, 0, 3, 2, 3, 1, 2, 2,\n",
       "       1, 3, 1, 2, 3, 1, 3, 0, 3, 2, 0, 0, 0, 0, 0, 0, 1, 2, 3, 0, 2, 3,\n",
       "       0, 3, 1, 2, 3, 3, 2, 2, 3, 2, 2, 2, 2, 1, 2, 1, 3, 3, 1, 3, 3, 2,\n",
       "       2, 2, 2, 1, 1, 3, 3, 3, 3, 3, 1, 3, 3, 2, 3, 2, 1, 3, 2, 2, 3, 3,\n",
       "       2, 3, 0, 3, 3, 1, 1, 0, 1, 2], dtype=int32)"
      ]
     },
     "execution_count": 42,
     "metadata": {},
     "output_type": "execute_result"
    }
   ],
   "source": [
    "pred"
   ]
  },
  {
   "cell_type": "code",
   "execution_count": 43,
   "id": "9dcc8f44",
   "metadata": {
    "colab": {
     "base_uri": "https://localhost:8080/"
    },
    "id": "9dcc8f44",
    "outputId": "94b0edc4-2a81-4677-d726-4b1cdc99b948"
   },
   "outputs": [
    {
     "data": {
      "text/plain": [
       "0.40661038247359627"
      ]
     },
     "execution_count": 43,
     "metadata": {},
     "output_type": "execute_result"
    }
   ],
   "source": [
    "silhouette_score(x,pred)"
   ]
  },
  {
   "cell_type": "markdown",
   "id": "rhbGs3l_uwXF",
   "metadata": {
    "id": "rhbGs3l_uwXF"
   },
   "source": [
    "Sizin verdiğiniz değer olan 0.4066, Silhouette Score'un 0 ile 1 arasında olduğunu ve veri noktalarının iyi bir şekilde kümelenmiş olduğunu gösteriyor. Ancak, bu değer tam olarak ne anlama geldiğini değerlendirmek için, kümeleme modelinizin diğer metriklerle birlikte değerlendirilmesi gerekebilir. Silhouette Score, yalnızca bir bakış açısı sunar ve diğer metriklerle birlikte kullanılmalıdır."
   ]
  },
  {
   "cell_type": "code",
   "execution_count": 44,
   "id": "bfe691d3",
   "metadata": {
    "id": "bfe691d3"
   },
   "outputs": [],
   "source": [
    "x[\"cluster\"]=pred"
   ]
  },
  {
   "cell_type": "markdown",
   "id": "cIL3jRsSu-Yr",
   "metadata": {
    "id": "cIL3jRsSu-Yr"
   },
   "source": [
    "x[\"cluster\"] = pred ifadesi, veri çerçevesi x içinde bir \"cluster\" (küme) sütunu oluşturarak bu sütuna tahmin edilen küme etiketlerini atayan bir işlemi ifade eder.\n",
    "\n",
    "Bu ifade aşağıdaki şekilde açıklanabilir:\n",
    "\n",
    "x: Bir veri çerçevesi veya veri tablosunu temsil eden değişkenin adıdır.\n",
    "\"cluster\": Oluşturulacak sütunun adıdır. Bu ifade, bir \"cluster\" sütunu oluşturmayı amaçlar.\n",
    "pred: Önceden hesaplanmış veya tahmin edilen küme etiketlerini içeren bir dizi veya veri serisidir."
   ]
  },
  {
   "cell_type": "code",
   "execution_count": 45,
   "id": "441fbee3",
   "metadata": {
    "id": "441fbee3"
   },
   "outputs": [],
   "source": [
    "allscore=[]\n",
    "allcluster=[]\n",
    "distances=[]\n",
    "def clust(kactane):\n",
    "    for i in range(1,kactane):\n",
    "        i=i+1\n",
    "        model=KMeans(i)\n",
    "        model=model.fit(x)\n",
    "        tahmin=model.predict(x)\n",
    "        score=silhouette_score(x,tahmin)\n",
    "        distance=model.inertia_\n",
    "        print('Cluster ',i,\" score: \", score)\n",
    "        allscore.append(score)\n",
    "        allcluster.append(i)\n",
    "        distances.append(distance)"
   ]
  },
  {
   "cell_type": "markdown",
   "id": "amOP-_s_u_iY",
   "metadata": {
    "id": "amOP-_s_u_iY"
   },
   "source": [
    "Bu Python işlevi, belirli bir küme sayısı için K-Means kümeleme modelini oluşturur ve Silhouette Score'unu hesaplar. Ayrıca, her küme sayısı için hesaplanan Silhouette Score, küme sayısı ve modelin inertiası (uzaklıkların kare toplamı) gibi değerleri bir dizi içine kaydeder. İşte bu işlemin nasıl çalıştığına dair açıklamalar:\n",
    "\n",
    "1. `allscore`, `allcluster` ve `distances` adında boş listeler oluşturulur. Bu listeler, her küme sayısı için hesaplanan değerleri saklamak için kullanılacaktır.\n",
    "\n",
    "2. `clust` adında bir işlev tanımlanır ve bu işlev `kactane` adında bir parametre alır. Bu parametre, kaç farklı küme sayısını denemek istediğinizi belirler.\n",
    "\n",
    "3. `for` döngüsü içinde, belirtilen küme sayısı için bir K-Means modeli oluşturulur ve eğitilir. Ardından, bu modele verileri tahmin ettirir.\n",
    "\n",
    "4. `silhouette_score` işlevi, tahmin edilen küme etiketleri ve verileri kullanarak Silhouette Score'u hesaplar. Bu skor, her bir küme sayısı için hesaplanır ve `score` adında bir değişkende saklanır.\n",
    "\n",
    "5. Ayrıca, her küme sayısı için modelin inertia değeri (`model.inertia_`) hesaplanır ve `distance` adında bir değişkende saklanır. Inertia, her bir veri noktasının küme merkezine olan uzaklıklarının karelerinin toplamını temsil eder.\n",
    "\n",
    "6. Hesaplanan skor, küme sayısı ve inertia değeri, `allscore`, `allcluster` ve `distances` listelerine eklenir.\n",
    "\n",
    "7. Son olarak, döngü tamamlandığında, her bir küme sayısı için hesaplanan Silhouette Score'ları, küme sayılarını ve uzaklık değerlerini ekrana basar.\n",
    "\n",
    "Bu işlev, farklı küme sayıları için K-Means modelini değerlendirmenize ve en iyi küme sayısını belirlemenize yardımcı olur. Bu şekilde, veri kümeniz için en uygun küme sayısını seçebilirsiniz."
   ]
  },
  {
   "cell_type": "code",
   "execution_count": 46,
   "id": "aa8dc6e8",
   "metadata": {
    "colab": {
     "base_uri": "https://localhost:8080/"
    },
    "id": "aa8dc6e8",
    "outputId": "473c58c4-5f2b-4e08-8928-da32e556aa26"
   },
   "outputs": [
    {
     "name": "stdout",
     "output_type": "stream",
     "text": [
      "Cluster  2  score:  0.5604267364890007\n",
      "Cluster  3  score:  0.46691295590263937\n",
      "Cluster  4  score:  0.4093848400426071\n",
      "Cluster  5  score:  0.35217595261866474\n",
      "Cluster  6  score:  0.3629804282185723\n",
      "Cluster  7  score:  0.36571876244123325\n",
      "Cluster  8  score:  0.39676189351242086\n",
      "Cluster  9  score:  0.4091758963982397\n",
      "Cluster  10  score:  0.4063204129363948\n"
     ]
    }
   ],
   "source": [
    "clust(10)"
   ]
  },
  {
   "cell_type": "markdown",
   "id": "CZQqcJD9vQTv",
   "metadata": {
    "id": "CZQqcJD9vQTv"
   },
   "source": [
    "Elde ettiğiniz Silhouette Score sonuçları, farklı küme sayıları için K-Means kümeleme modelinizin performansını değerlendirmek için kullanışlıdır. Silhouette Score, her bir küme sayısı için veri noktalarının kümelenme kalitesini ölçer. İşte sonuçların yorumu:\n",
    "\n",
    "- Cluster 2: 0.5604 - Bu küme sayısı için yüksek bir Silhouette Score, veri noktalarının iyi bir şekilde kümelenmiş olduğunu gösterir.\n",
    "\n",
    "- Cluster 3: 0.4669 - Üç küme için Silhouette Score, yine iyi bir kümelenme kalitesini gösterir, ancak 2 küme durumuna göre biraz daha düşüktür.\n",
    "\n",
    "- Cluster 4: 0.4094 - Dört küme için Silhouette Score, veri noktalarının kümelenme kalitesinin düşmeye başladığını gösterir.\n",
    "\n",
    "- Cluster 5, 6, 7: Silhouette Score değerleri giderek düşer. Bu, bu küme sayılarının daha zayıf kümelenme sonuçlarına sahip olduğunu gösterir.\n",
    "\n",
    "- Cluster 8-10: Bu küme sayıları için Silhouette Score değerleri biraz daha yükselir, ancak yine de en yüksek skora ulaşmazlar.\n",
    "\n",
    "Genel olarak, bu sonuçlar, küme sayısının 2 veya 3 olması durumunda en yüksek Silhouette Score'a sahip olduğunu gösteriyor. Bu nedenle, verilerinizi 2 veya 3 kümeye ayırmak, veri noktalarını en iyi şekilde kümelenmiş şekilde temsil edebilir. Ancak, hangi küme sayısının en iyi olduğunu seçmek, verilerinizin özgünlüğüne ve analiz amacınıza bağlı olabilir. Daha fazla ayrıntılı bir analiz ve iş gereksinimlerine dayalı olarak küme sayısını seçmek önemlidir."
   ]
  },
  {
   "cell_type": "markdown",
   "id": "772a9b7f",
   "metadata": {
    "id": "772a9b7f"
   },
   "source": [
    "## Yellow Brick Method"
   ]
  },
  {
   "cell_type": "code",
   "execution_count": 47,
   "id": "500c530e",
   "metadata": {
    "id": "500c530e"
   },
   "outputs": [],
   "source": [
    "from yellowbrick.cluster import KElbowVisualizer"
   ]
  },
  {
   "cell_type": "code",
   "execution_count": 48,
   "id": "ff85ee7b",
   "metadata": {
    "id": "ff85ee7b"
   },
   "outputs": [],
   "source": [
    "model=KMeans()"
   ]
  },
  {
   "cell_type": "code",
   "execution_count": 49,
   "id": "3d450d26",
   "metadata": {
    "id": "3d450d26"
   },
   "outputs": [],
   "source": [
    "visualizer=KElbowVisualizer(model,k=(2,10))"
   ]
  },
  {
   "cell_type": "code",
   "execution_count": 50,
   "id": "504cb358",
   "metadata": {
    "colab": {
     "base_uri": "https://localhost:8080/",
     "height": 584
    },
    "id": "504cb358",
    "outputId": "7703bd84-039d-45fc-96c9-a5b9a8eee265"
   },
   "outputs": [
    {
     "data": {
      "text/html": [
       "<style>#sk-container-id-1 {color: black;background-color: white;}#sk-container-id-1 pre{padding: 0;}#sk-container-id-1 div.sk-toggleable {background-color: white;}#sk-container-id-1 label.sk-toggleable__label {cursor: pointer;display: block;width: 100%;margin-bottom: 0;padding: 0.3em;box-sizing: border-box;text-align: center;}#sk-container-id-1 label.sk-toggleable__label-arrow:before {content: \"▸\";float: left;margin-right: 0.25em;color: #696969;}#sk-container-id-1 label.sk-toggleable__label-arrow:hover:before {color: black;}#sk-container-id-1 div.sk-estimator:hover label.sk-toggleable__label-arrow:before {color: black;}#sk-container-id-1 div.sk-toggleable__content {max-height: 0;max-width: 0;overflow: hidden;text-align: left;background-color: #f0f8ff;}#sk-container-id-1 div.sk-toggleable__content pre {margin: 0.2em;color: black;border-radius: 0.25em;background-color: #f0f8ff;}#sk-container-id-1 input.sk-toggleable__control:checked~div.sk-toggleable__content {max-height: 200px;max-width: 100%;overflow: auto;}#sk-container-id-1 input.sk-toggleable__control:checked~label.sk-toggleable__label-arrow:before {content: \"▾\";}#sk-container-id-1 div.sk-estimator input.sk-toggleable__control:checked~label.sk-toggleable__label {background-color: #d4ebff;}#sk-container-id-1 div.sk-label input.sk-toggleable__control:checked~label.sk-toggleable__label {background-color: #d4ebff;}#sk-container-id-1 input.sk-hidden--visually {border: 0;clip: rect(1px 1px 1px 1px);clip: rect(1px, 1px, 1px, 1px);height: 1px;margin: -1px;overflow: hidden;padding: 0;position: absolute;width: 1px;}#sk-container-id-1 div.sk-estimator {font-family: monospace;background-color: #f0f8ff;border: 1px dotted black;border-radius: 0.25em;box-sizing: border-box;margin-bottom: 0.5em;}#sk-container-id-1 div.sk-estimator:hover {background-color: #d4ebff;}#sk-container-id-1 div.sk-parallel-item::after {content: \"\";width: 100%;border-bottom: 1px solid gray;flex-grow: 1;}#sk-container-id-1 div.sk-label:hover label.sk-toggleable__label {background-color: #d4ebff;}#sk-container-id-1 div.sk-serial::before {content: \"\";position: absolute;border-left: 1px solid gray;box-sizing: border-box;top: 0;bottom: 0;left: 50%;z-index: 0;}#sk-container-id-1 div.sk-serial {display: flex;flex-direction: column;align-items: center;background-color: white;padding-right: 0.2em;padding-left: 0.2em;position: relative;}#sk-container-id-1 div.sk-item {position: relative;z-index: 1;}#sk-container-id-1 div.sk-parallel {display: flex;align-items: stretch;justify-content: center;background-color: white;position: relative;}#sk-container-id-1 div.sk-item::before, #sk-container-id-1 div.sk-parallel-item::before {content: \"\";position: absolute;border-left: 1px solid gray;box-sizing: border-box;top: 0;bottom: 0;left: 50%;z-index: -1;}#sk-container-id-1 div.sk-parallel-item {display: flex;flex-direction: column;z-index: 1;position: relative;background-color: white;}#sk-container-id-1 div.sk-parallel-item:first-child::after {align-self: flex-end;width: 50%;}#sk-container-id-1 div.sk-parallel-item:last-child::after {align-self: flex-start;width: 50%;}#sk-container-id-1 div.sk-parallel-item:only-child::after {width: 0;}#sk-container-id-1 div.sk-dashed-wrapped {border: 1px dashed gray;margin: 0 0.4em 0.5em 0.4em;box-sizing: border-box;padding-bottom: 0.4em;background-color: white;}#sk-container-id-1 div.sk-label label {font-family: monospace;font-weight: bold;display: inline-block;line-height: 1.2em;}#sk-container-id-1 div.sk-label-container {text-align: center;}#sk-container-id-1 div.sk-container {/* jupyter's `normalize.less` sets `[hidden] { display: none; }` but bootstrap.min.css set `[hidden] { display: none !important; }` so we also need the `!important` here to be able to override the default hidden behavior on the sphinx rendered scikit-learn.org. See: https://github.com/scikit-learn/scikit-learn/issues/21755 */display: inline-block !important;position: relative;}#sk-container-id-1 div.sk-text-repr-fallback {display: none;}</style><div id=\"sk-container-id-1\" class=\"sk-top-container\"><div class=\"sk-text-repr-fallback\"><pre>KElbowVisualizer(ax=&lt;Axes: &gt;, estimator=KMeans(n_clusters=9), k=(2, 10))</pre><b>In a Jupyter environment, please rerun this cell to show the HTML representation or trust the notebook. <br />On GitHub, the HTML representation is unable to render, please try loading this page with nbviewer.org.</b></div><div class=\"sk-container\" hidden><div class=\"sk-item sk-dashed-wrapped\"><div class=\"sk-label-container\"><div class=\"sk-label sk-toggleable\"><input class=\"sk-toggleable__control sk-hidden--visually\" id=\"sk-estimator-id-1\" type=\"checkbox\" ><label for=\"sk-estimator-id-1\" class=\"sk-toggleable__label sk-toggleable__label-arrow\">KElbowVisualizer</label><div class=\"sk-toggleable__content\"><pre>KElbowVisualizer(ax=&lt;Axes: &gt;, estimator=KMeans(n_clusters=9), k=(2, 10))</pre></div></div></div><div class=\"sk-parallel\"><div class=\"sk-parallel-item\"><div class=\"sk-item\"><div class=\"sk-label-container\"><div class=\"sk-label sk-toggleable\"><input class=\"sk-toggleable__control sk-hidden--visually\" id=\"sk-estimator-id-2\" type=\"checkbox\" ><label for=\"sk-estimator-id-2\" class=\"sk-toggleable__label sk-toggleable__label-arrow\">estimator: KMeans</label><div class=\"sk-toggleable__content\"><pre>KMeans(n_clusters=9)</pre></div></div></div><div class=\"sk-serial\"><div class=\"sk-item\"><div class=\"sk-estimator sk-toggleable\"><input class=\"sk-toggleable__control sk-hidden--visually\" id=\"sk-estimator-id-3\" type=\"checkbox\" ><label for=\"sk-estimator-id-3\" class=\"sk-toggleable__label sk-toggleable__label-arrow\">KMeans</label><div class=\"sk-toggleable__content\"><pre>KMeans(n_clusters=9)</pre></div></div></div></div></div></div></div></div></div></div>"
      ],
      "text/plain": [
       "KElbowVisualizer(ax=<Axes: >, estimator=KMeans(n_clusters=9), k=(2, 10))"
      ]
     },
     "execution_count": 50,
     "metadata": {},
     "output_type": "execute_result"
    },
    {
     "data": {
      "image/png": "[encoded data removed]",
      "text/plain": [
       "<Figure size 800x550 with 2 Axes>"
      ]
     },
     "metadata": {},
     "output_type": "display_data"
    }
   ],
   "source": [
    "visualizer.fit(x)"
   ]
  },
  {
   "cell_type": "code",
   "execution_count": 51,
   "id": "19b9288d",
   "metadata": {
    "colab": {
     "base_uri": "https://localhost:8080/"
    },
    "id": "19b9288d",
    "outputId": "dc0ae9c8-ee56-41b3-8c39-d08308fc5147"
   },
   "outputs": [
    {
     "data": {
      "text/plain": [
       "<Axes: title={'center': 'Distortion Score Elbow for KMeans Clustering'}, xlabel='k', ylabel='distortion score'>"
      ]
     },
     "execution_count": 51,
     "metadata": {},
     "output_type": "execute_result"
    }
   ],
   "source": [
    "visualizer.show()"
   ]
  },
  {
   "cell_type": "markdown",
   "id": "046983ee",
   "metadata": {
    "id": "046983ee"
   },
   "source": [
    "## Sonuç Olarak:"
   ]
  },
  {
   "cell_type": "markdown",
   "id": "-XYeX1vkvfxO",
   "metadata": {
    "id": "-XYeX1vkvfxO"
   },
   "source": [
    "Bu çalışma, kitapların kategorilerine göre kümelemesini yaparak farklı kitap türlerini tanımlamıştır. Silhouette Score analizi sonuçlarına göre, verilerin 2 veya 3 farklı küme içinde en iyi şekilde kümelenmiş olduğunu gözlemledik. Bu, kitapların benzerliklerini ve farklılıklarını daha iyi anlamamıza yardımcı olacaktır. Projenin sonucunda, kitap kategorilerine dayalı olarak farklı pazarlama stratejileri veya okuyucu segmentasyonu gibi uygulamalar için kullanışlı bilgiler elde edilmiştir."
   ]
  },
  {
   "cell_type": "markdown",
   "id": "0a77ff23",
   "metadata": {
    "id": "0a77ff23"
   },
   "source": [
    "## ***********************************************"
   ]
  },
  {
   "cell_type": "markdown",
   "id": "28d06c27",
   "metadata": {
    "id": "28d06c27"
   },
   "source": [
    "# Kategoriyi get dummies yaparak modele verirsek"
   ]
  },
  {
   "cell_type": "code",
   "execution_count": 52,
   "id": "058f2eb1",
   "metadata": {
    "id": "058f2eb1"
   },
   "outputs": [],
   "source": [
    "import pandas as pd\n",
    "from sklearn.cluster import KMeans\n",
    "import matplotlib.pyplot as plt\n",
    "from sklearn.metrics import silhouette_score"
   ]
  },
  {
   "cell_type": "code",
   "execution_count": 53,
   "id": "e9eddcd4",
   "metadata": {
    "id": "e9eddcd4"
   },
   "outputs": [],
   "source": [
    "dfd = pd.get_dummies(df, columns=['Kategori'], prefix=['Kategori'])"
   ]
  },
  {
   "cell_type": "code",
   "execution_count": 61,
   "id": "ea4cce93",
   "metadata": {
    "colab": {
     "base_uri": "https://localhost:8080/"
    },
    "id": "ea4cce93",
    "outputId": "b55ee46a-fa39-457e-fe62-ca4627727973"
   },
   "outputs": [
    {
     "name": "stdout",
     "output_type": "stream",
     "text": [
      "<class 'pandas.core.frame.DataFrame'>\n",
      "RangeIndex: 1000 entries, 0 to 999\n",
      "Data columns (total 54 columns):\n",
      " #   Column                        Non-Null Count  Dtype\n",
      "---  ------                        --------------  -----\n",
      " 0   Fiyat                         1000 non-null   int64\n",
      " 1   Avilability                   1000 non-null   int64\n",
      " 2   Yapılan İncelemelerin Sayısı  1000 non-null   int64\n",
      " 3   Yıldız Derecesi               1000 non-null   int64\n",
      " 4   Kategori_Academic             1000 non-null   uint8\n",
      " 5   Kategori_Add a comment        1000 non-null   uint8\n",
      " 6   Kategori_Adult Fiction        1000 non-null   uint8\n",
      " 7   Kategori_Art                  1000 non-null   uint8\n",
      " 8   Kategori_Autobiography        1000 non-null   uint8\n",
      " 9   Kategori_Biography            1000 non-null   uint8\n",
      " 10  Kategori_Business             1000 non-null   uint8\n",
      " 11  Kategori_Childrens            1000 non-null   uint8\n",
      " 12  Kategori_Christian            1000 non-null   uint8\n",
      " 13  Kategori_Christian Fiction    1000 non-null   uint8\n",
      " 14  Kategori_Classics             1000 non-null   uint8\n",
      " 15  Kategori_Contemporary         1000 non-null   uint8\n",
      " 16  Kategori_Crime                1000 non-null   uint8\n",
      " 17  Kategori_Cultural             1000 non-null   uint8\n",
      " 18  Kategori_Default              1000 non-null   uint8\n",
      " 19  Kategori_Erotica              1000 non-null   uint8\n",
      " 20  Kategori_Fantasy              1000 non-null   uint8\n",
      " 21  Kategori_Fiction              1000 non-null   uint8\n",
      " 22  Kategori_Food and Drink       1000 non-null   uint8\n",
      " 23  Kategori_Health               1000 non-null   uint8\n",
      " 24  Kategori_Historical           1000 non-null   uint8\n",
      " 25  Kategori_Historical Fiction   1000 non-null   uint8\n",
      " 26  Kategori_History              1000 non-null   uint8\n",
      " 27  Kategori_Horror               1000 non-null   uint8\n",
      " 28  Kategori_Humor                1000 non-null   uint8\n",
      " 29  Kategori_Music                1000 non-null   uint8\n",
      " 30  Kategori_Mystery              1000 non-null   uint8\n",
      " 31  Kategori_New Adult            1000 non-null   uint8\n",
      " 32  Kategori_Nonfiction           1000 non-null   uint8\n",
      " 33  Kategori_Novels               1000 non-null   uint8\n",
      " 34  Kategori_Paranormal           1000 non-null   uint8\n",
      " 35  Kategori_Parenting            1000 non-null   uint8\n",
      " 36  Kategori_Philosophy           1000 non-null   uint8\n",
      " 37  Kategori_Poetry               1000 non-null   uint8\n",
      " 38  Kategori_Politics             1000 non-null   uint8\n",
      " 39  Kategori_Psychology           1000 non-null   uint8\n",
      " 40  Kategori_Religion             1000 non-null   uint8\n",
      " 41  Kategori_Romance              1000 non-null   uint8\n",
      " 42  Kategori_Science              1000 non-null   uint8\n",
      " 43  Kategori_Science Fiction      1000 non-null   uint8\n",
      " 44  Kategori_Self Help            1000 non-null   uint8\n",
      " 45  Kategori_Sequential Art       1000 non-null   uint8\n",
      " 46  Kategori_Short Stories        1000 non-null   uint8\n",
      " 47  Kategori_Spirituality         1000 non-null   uint8\n",
      " 48  Kategori_Sports and Games     1000 non-null   uint8\n",
      " 49  Kategori_Suspense             1000 non-null   uint8\n",
      " 50  Kategori_Thriller             1000 non-null   uint8\n",
      " 51  Kategori_Travel               1000 non-null   uint8\n",
      " 52  Kategori_Womens Fiction       1000 non-null   uint8\n",
      " 53  Kategori_Young Adult          1000 non-null   uint8\n",
      "dtypes: int64(4), uint8(50)\n",
      "memory usage: 80.2 KB\n"
     ]
    }
   ],
   "source": [
    "dfd.info()"
   ]
  },
  {
   "cell_type": "code",
   "execution_count": 60,
   "id": "6c077907",
   "metadata": {
    "id": "6c077907"
   },
   "outputs": [],
   "source": [
    "dfd.drop([\"Vergi Sonrası Fiyat\", \"Kitap Adı\", \"Vergi Miktarı\"], axis=1, inplace=True)"
   ]
  },
  {
   "cell_type": "code",
   "execution_count": 57,
   "id": "8819c4ee",
   "metadata": {
    "id": "8819c4ee"
   },
   "outputs": [],
   "source": [
    "import pandas as pd\n",
    "from sklearn.cluster import KMeans"
   ]
  },
  {
   "cell_type": "code",
   "execution_count": 64,
   "id": "d5b6e771",
   "metadata": {
    "id": "d5b6e771"
   },
   "outputs": [],
   "source": [
    "x = dfd[['Kategori_Academic', 'Kategori_Add a comment', 'Kategori_Adult Fiction', 'Kategori_Art',\n",
    "        'Kategori_Autobiography', 'Kategori_Biography', 'Kategori_Business', 'Kategori_Childrens',\n",
    "        'Kategori_Christian', 'Kategori_Christian Fiction', 'Kategori_Classics', 'Kategori_Contemporary',\n",
    "        'Kategori_Crime', 'Kategori_Cultural', 'Kategori_Default', 'Kategori_Erotica', 'Kategori_Fantasy',\n",
    "        'Kategori_Fiction', 'Kategori_Food and Drink', 'Kategori_Health', 'Kategori_Historical',\n",
    "        'Kategori_Historical Fiction', 'Kategori_History', 'Kategori_Horror', 'Kategori_Humor',\n",
    "        'Kategori_Music', 'Kategori_Mystery', 'Kategori_New Adult', 'Kategori_Nonfiction',\n",
    "        'Kategori_Novels', 'Kategori_Paranormal', 'Kategori_Parenting', 'Kategori_Philosophy',\n",
    "        'Kategori_Poetry', 'Kategori_Politics', 'Kategori_Psychology', 'Kategori_Religion',\n",
    "        'Kategori_Romance', 'Kategori_Science', 'Kategori_Science Fiction', 'Kategori_Self Help',\n",
    "        'Kategori_Sequential Art', 'Kategori_Short Stories', 'Kategori_Spirituality',\n",
    "        'Kategori_Sports and Games', 'Kategori_Suspense', 'Kategori_Thriller', 'Kategori_Travel',\n",
    "        'Kategori_Womens Fiction', 'Kategori_Young Adult']]"
   ]
  },
  {
   "cell_type": "code",
   "execution_count": 65,
   "id": "gS2qZBTqJgqC",
   "metadata": {
    "id": "gS2qZBTqJgqC"
   },
   "outputs": [],
   "source": [
    "model=KMeans(4)"
   ]
  },
  {
   "cell_type": "code",
   "execution_count": 66,
   "id": "0edXHtDiK0g2",
   "metadata": {
    "id": "0edXHtDiK0g2"
   },
   "outputs": [],
   "source": [
    "model=model.fit(x)"
   ]
  },
  {
   "cell_type": "code",
   "execution_count": 67,
   "id": "9BsUmEcbK7EI",
   "metadata": {
    "id": "9BsUmEcbK7EI"
   },
   "outputs": [],
   "source": [
    "pred=model.predict(x)"
   ]
  },
  {
   "cell_type": "code",
   "execution_count": 68,
   "id": "Ah8WO6-vK8ah",
   "metadata": {
    "colab": {
     "base_uri": "https://localhost:8080/"
    },
    "id": "Ah8WO6-vK8ah",
    "outputId": "563a8b32-2d8d-41a9-8833-cb355afda277"
   },
   "outputs": [
    {
     "data": {
      "text/plain": [
       "array([1, 1, 3, 1, 1, 1, 1, 2, 2, 1, 2, 1, 1, 1, 1, 1, 1, 1, 1, 1, 1, 1,\n",
       "       1, 1, 1, 1, 2, 2, 1, 1, 1, 1, 1, 1, 1, 2, 2, 1, 1, 1, 1, 1, 3, 1,\n",
       "       1, 1, 3, 1, 1, 1, 1, 1, 1, 1, 3, 0, 1, 1, 1, 1, 1, 3, 1, 0, 1, 2,\n",
       "       1, 1, 1, 1, 0, 1, 1, 1, 2, 1, 1, 1, 1, 1, 1, 1, 1, 1, 1, 1, 1, 1,\n",
       "       0, 1, 1, 1, 1, 1, 1, 1, 1, 0, 1, 1, 1, 1, 1, 1, 1, 1, 1, 1, 1, 1,\n",
       "       1, 1, 1, 1, 1, 1, 1, 2, 1, 1, 1, 2, 2, 1, 1, 1, 1, 1, 1, 1, 3, 2,\n",
       "       1, 1, 2, 1, 1, 3, 1, 1, 1, 2, 3, 2, 1, 1, 1, 1, 1, 1, 1, 1, 1, 2,\n",
       "       1, 1, 2, 1, 2, 1, 2, 1, 2, 1, 1, 1, 1, 1, 1, 1, 0, 2, 1, 2, 1, 2,\n",
       "       1, 1, 1, 1, 0, 2, 1, 1, 1, 2, 1, 1, 2, 1, 1, 1, 2, 3, 1, 2, 2, 2,\n",
       "       1, 1, 1, 1, 1, 1, 1, 1, 2, 1, 1, 2, 2, 2, 1, 2, 1, 1, 1, 1, 1, 1,\n",
       "       1, 1, 1, 1, 2, 1, 2, 1, 1, 1, 1, 2, 0, 1, 3, 3, 1, 2, 0, 2, 2, 1,\n",
       "       1, 1, 1, 1, 1, 0, 1, 1, 1, 3, 0, 1, 1, 1, 1, 1, 1, 3, 1, 1, 3, 2,\n",
       "       1, 1, 1, 3, 1, 1, 1, 1, 1, 1, 1, 1, 1, 1, 1, 1, 3, 3, 1, 3, 0, 1,\n",
       "       1, 2, 1, 1, 1, 2, 1, 2, 1, 1, 1, 3, 1, 2, 1, 1, 2, 1, 1, 1, 1, 2,\n",
       "       3, 1, 3, 1, 1, 1, 1, 1, 3, 2, 1, 3, 0, 2, 1, 2, 2, 2, 0, 1, 2, 2,\n",
       "       1, 1, 1, 1, 1, 3, 1, 1, 0, 2, 1, 1, 1, 1, 1, 0, 0, 3, 1, 0, 1, 2,\n",
       "       1, 0, 1, 1, 1, 1, 1, 3, 0, 1, 0, 1, 1, 3, 1, 0, 1, 1, 2, 1, 1, 1,\n",
       "       0, 1, 1, 1, 1, 2, 1, 1, 1, 1, 2, 1, 1, 1, 1, 1, 2, 1, 1, 3, 1, 1,\n",
       "       1, 1, 1, 1, 3, 1, 1, 1, 3, 1, 1, 1, 1, 1, 3, 1, 1, 1, 2, 1, 1, 3,\n",
       "       1, 1, 0, 0, 2, 2, 3, 2, 1, 2, 1, 1, 1, 1, 1, 1, 2, 2, 1, 1, 1, 1,\n",
       "       1, 1, 1, 0, 0, 1, 1, 1, 1, 2, 1, 1, 2, 3, 1, 1, 1, 1, 1, 1, 1, 1,\n",
       "       1, 1, 1, 1, 3, 1, 1, 1, 1, 2, 1, 1, 2, 2, 1, 3, 1, 1, 2, 1, 2, 1,\n",
       "       2, 1, 1, 1, 1, 1, 1, 1, 1, 2, 1, 1, 1, 1, 2, 1, 1, 1, 2, 2, 0, 1,\n",
       "       0, 1, 3, 1, 1, 2, 0, 2, 1, 3, 1, 1, 1, 1, 1, 1, 1, 3, 1, 2, 1, 1,\n",
       "       0, 1, 1, 0, 1, 1, 1, 1, 1, 1, 1, 1, 1, 1, 1, 1, 1, 2, 1, 2, 1, 1,\n",
       "       2, 0, 1, 2, 1, 0, 0, 1, 2, 1, 1, 1, 2, 0, 2, 0, 3, 1, 1, 1, 1, 1,\n",
       "       0, 1, 3, 1, 1, 1, 1, 1, 1, 1, 1, 1, 2, 1, 1, 1, 0, 1, 1, 1, 1, 3,\n",
       "       1, 1, 3, 2, 1, 3, 2, 1, 1, 2, 1, 1, 1, 3, 2, 2, 1, 1, 1, 1, 1, 1,\n",
       "       1, 3, 1, 1, 1, 2, 2, 2, 1, 1, 2, 0, 0, 2, 1, 3, 1, 1, 1, 1, 2, 1,\n",
       "       1, 1, 2, 1, 0, 1, 0, 2, 2, 1, 1, 1, 1, 2, 1, 1, 1, 1, 1, 1, 1, 1,\n",
       "       1, 1, 2, 1, 1, 1, 1, 2, 1, 1, 1, 2, 1, 1, 1, 1, 1, 1, 1, 1, 1, 1,\n",
       "       2, 1, 1, 1, 3, 1, 1, 1, 1, 1, 2, 1, 2, 2, 2, 1, 1, 1, 1, 1, 1, 1,\n",
       "       1, 1, 1, 2, 1, 1, 3, 1, 1, 1, 1, 1, 0, 1, 1, 1, 1, 1, 1, 1, 1, 1,\n",
       "       0, 1, 0, 1, 1, 2, 1, 3, 1, 1, 1, 2, 2, 1, 1, 1, 1, 3, 3, 0, 1, 1,\n",
       "       2, 2, 1, 2, 0, 1, 0, 1, 1, 1, 2, 1, 3, 1, 1, 0, 0, 1, 0, 2, 1, 0,\n",
       "       2, 1, 3, 1, 1, 1, 1, 1, 1, 2, 0, 1, 1, 0, 1, 1, 0, 1, 1, 1, 1, 1,\n",
       "       2, 1, 1, 2, 1, 1, 2, 2, 1, 1, 1, 1, 2, 1, 1, 1, 0, 1, 3, 1, 1, 2,\n",
       "       1, 1, 1, 2, 1, 1, 3, 1, 2, 1, 3, 1, 1, 1, 1, 1, 1, 1, 1, 1, 1, 1,\n",
       "       1, 1, 2, 1, 1, 1, 1, 0, 1, 2, 1, 1, 2, 1, 2, 1, 1, 2, 2, 1, 2, 3,\n",
       "       1, 0, 1, 1, 1, 1, 2, 1, 1, 1, 1, 1, 1, 3, 1, 1, 1, 2, 1, 1, 1, 1,\n",
       "       1, 1, 1, 2, 1, 1, 1, 0, 1, 0, 1, 3, 1, 1, 1, 1, 1, 1, 1, 1, 1, 1,\n",
       "       1, 1, 1, 3, 1, 1, 1, 1, 1, 1, 1, 2, 1, 1, 1, 3, 1, 1, 1, 1, 0, 0,\n",
       "       1, 1, 2, 1, 1, 0, 1, 0, 1, 1, 1, 1, 1, 1, 1, 0, 1, 3, 1, 2, 1, 1,\n",
       "       1, 2, 1, 1, 1, 1, 1, 1, 1, 2, 1, 1, 1, 1, 2, 1, 1, 1, 1, 1, 1, 1,\n",
       "       1, 1, 0, 1, 3, 2, 1, 1, 1, 1, 1, 1, 2, 1, 1, 1, 1, 1, 1, 1, 1, 3,\n",
       "       1, 1, 1, 1, 1, 1, 1, 1, 1, 1], dtype=int32)"
      ]
     },
     "execution_count": 68,
     "metadata": {},
     "output_type": "execute_result"
    }
   ],
   "source": [
    "pred"
   ]
  },
  {
   "cell_type": "code",
   "execution_count": 69,
   "id": "sFmla6crK90G",
   "metadata": {
    "colab": {
     "base_uri": "https://localhost:8080/"
    },
    "id": "sFmla6crK90G",
    "outputId": "632e57a0-1980-4f6b-b04e-2f370ff4cc28"
   },
   "outputs": [
    {
     "data": {
      "text/plain": [
       "0.326279720279715"
      ]
     },
     "execution_count": 69,
     "metadata": {},
     "output_type": "execute_result"
    }
   ],
   "source": [
    "silhouette_score(x,pred)"
   ]
  },
  {
   "cell_type": "code",
   "execution_count": 70,
   "id": "ir92FVe8K_2Q",
   "metadata": {
    "id": "ir92FVe8K_2Q"
   },
   "outputs": [],
   "source": [
    "x[\"cluster\"]=pred"
   ]
  },
  {
   "cell_type": "code",
   "execution_count": 71,
   "id": "fKRxJuq4LBc6",
   "metadata": {
    "id": "fKRxJuq4LBc6"
   },
   "outputs": [],
   "source": [
    "allscore=[]\n",
    "allcluster=[]\n",
    "distances=[]\n",
    "def clust(kactane):\n",
    "    for i in range(1,kactane):\n",
    "        i=i+1\n",
    "        model=KMeans(i)\n",
    "        model=model.fit(x)\n",
    "        tahmin=model.predict(x)\n",
    "        score=silhouette_score(x,tahmin)\n",
    "        distance=model.inertia_\n",
    "        print('Cluster ',i,\" score: \", score)\n",
    "        allscore.append(score)\n",
    "        allcluster.append(i)\n",
    "        distances.append(distance)"
   ]
  },
  {
   "cell_type": "code",
   "execution_count": 72,
   "id": "ITDVwQuWLDUI",
   "metadata": {
    "colab": {
     "base_uri": "https://localhost:8080/"
    },
    "id": "ITDVwQuWLDUI",
    "outputId": "55b0c0ff-811c-4044-b8b8-5b1f4dd16ab5"
   },
   "outputs": [
    {
     "name": "stdout",
     "output_type": "stream",
     "text": [
      "Cluster  2  score:  0.3831953113761065\n",
      "Cluster  3  score:  0.39231727045296844\n",
      "Cluster  4  score:  0.44990969510671575\n",
      "Cluster  5  score:  0.4241487603305749\n",
      "Cluster  6  score:  0.4929433962264112\n",
      "Cluster  7  score:  0.543647058823526\n",
      "Cluster  8  score:  0.5886915887850438\n",
      "Cluster  9  score:  0.6222391857506336\n",
      "Cluster  10  score:  0.6486010928961725\n"
     ]
    }
   ],
   "source": [
    "clust(10)"
   ]
  },
  {
   "cell_type": "code",
   "execution_count": null,
   "id": "Q7WOmBsOLFRd",
   "metadata": {
    "id": "Q7WOmBsOLFRd"
   },
   "outputs": [],
   "source": []
  }
 ],
 "metadata": {
  "colab": {
   "provenance": []
  },
  "kernelspec": {
   "display_name": "Python 3 (ipykernel)",
   "language": "python",
   "name": "python3"
  },
  "language_info": {
   "codemirror_mode": {
    "name": "ipython",
    "version": 3
   },
   "file_extension": ".py",
   "mimetype": "text/x-python",
   "name": "python",
   "nbconvert_exporter": "python",
   "pygments_lexer": "ipython3",
   "version": "3.10.9"
  }
 },
 "nbformat": 4,
 "nbformat_minor": 5
}
