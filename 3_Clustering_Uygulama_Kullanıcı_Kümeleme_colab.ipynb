{
  "cells": [
    {
      "cell_type": "markdown",
      "id": "11606e07",
      "metadata": {
        "id": "11606e07"
      },
      "source": [
        "# 3-Clustering-Uygulama Kullanıcı Kümeleme"
      ]
    },
    {
      "cell_type": "markdown",
      "id": "cfa62d15",
      "metadata": {
        "id": "cfa62d15"
      },
      "source": [
        "<img src=\"appusers.jpg\">"
      ]
    },
    {
      "cell_type": "code",
      "execution_count": 1,
      "id": "e57c43c4",
      "metadata": {
        "id": "e57c43c4"
      },
      "outputs": [],
      "source": [
        "import pandas as pd\n",
        "import numpy as np\n",
        "import seaborn as sns\n",
        "import matplotlib.pyplot as plt\n",
        "import warnings\n",
        "warnings.filterwarnings(\"ignore\")\n",
        "pd.set_option(\"display.max_columns\",200)\n",
        "import sqlite3\n",
        "from sqlite3 import Error\n",
        "from sklearn.metrics import silhouette_score\n",
        "from sklearn.cluster import KMeans"
      ]
    },
    {
      "cell_type": "markdown",
      "id": "23ff6dd2",
      "metadata": {
        "id": "23ff6dd2"
      },
      "source": [
        "Uygulama kullanıcı segmentasyonu projesine başlamak için aşağıdaki adımları takip edebilirsiniz:\n",
        "\n",
        "1. **Veri Setini Anlama:**\n",
        "   İlk adım, elinizdeki veri setini anlamaktır. Veri seti hangi sütunlardan oluşuyor, hangi verileri içeriyor, eksik veriler var mı gibi soruları yanıtlamak önemlidir.\n",
        "\n",
        "2. **Veri Temizliği ve Hazırlığı:**\n",
        "   Veri setinizin temiz ve kullanılabilir olduğundan emin olun. Eksik verileri doldurun veya uygun bir şekilde ele alın. Verileri özellik mühendisliği ile işleyebilir ve daha anlamlı özellikler çıkarabilirsiniz. Özellikle kullanıcıların etkileşimlerini temsil eden özellikleri belirlemek önemlidir.\n",
        "\n",
        "3. **Kullanıcı Segmentasyon Yöntemini Seçin:**\n",
        "   Kullanıcıları nasıl gruplayacağınıza karar vermelisiniz. Bu, uygulamayla nasıl etkileşim kurduklarına bağlı olarak kullanıcıları belirli kriterlere göre gruplamak anlamına gelir. Örnek olarak, kullanıcıların günlük etkileşim sıklığına, uygulamayı ne kadar süre kullandıklarına veya belirli özellikleri kullanıp kullanmadıklarına göre gruplamayı düşünebilirsiniz.\n",
        "\n",
        "4. **Kullanıcı Segmentasyonu:**\n",
        "   Seçtiğiniz yönteme göre kullanıcıları gruplayın. Bu adımda, istatistiksel analiz veya makine öğrenimi gibi teknikleri kullanabilirsiniz. Segmentler oluşturduktan sonra, her segmenti daha ayrıntılı inceleyebilirsiniz.\n",
        "\n",
        "5. **Segmentlerin Analizi:**\n",
        "   Her segmenti daha ayrıntılı olarak inceleyin. Her bir segmentin uygulamanızı nasıl kullandığını ve farklılıklarını anlamak için analizler yapın.\n",
        "\n",
        "6. **Sonuçları İzleme ve Uygulama:**\n",
        "   Segmentasyon sonuçlarınızı izlemeye devam edin ve gerektiğinde güncelleyin. Bu bilgileri uygulamanızın geliştirilmesi, pazarlama stratejilerinin belirlenmesi veya kullanıcı deneyiminin iyileştirilmesi için kullanabilirsiniz.\n",
        "\n",
        "7. **Raporlama ve İletişim:**\n",
        "   Projenizin sonuçlarını yöneticilere veya ilgili paydaşlara sunmak için bir rapor hazırlayın. Rapor, segmentasyon sonuçlarınızı ve bu sonuçların uygulamanız üzerindeki etkilerini anlatmalıdır.\n",
        "\n",
        "8. **İyileştirmeler ve Sürekli İzleme:**\n",
        "   Uygulama kullanıcı segmentasyonu süreci kesintisiz bir süreçtir. Kullanıcı davranışları değiştikçe veya yeni özellikler ekledikçe segmentasyonunuzu güncellemek önemlidir.\n",
        "\n",
        "Bu adımları takip ederek, uygulama kullanıcılarınızı etkili bir şekilde segmente edebilir ve bu bilgileri uygulamanızın geliştirilmesi için kullanabilirsiniz. Ayrıca, segmentasyonunuzu sürekli olarak gözden geçirerek kullanıcı deneyimini iyileştirmek için yeni fırsatlar keşfedebilirsiniz."
      ]
    },
    {
      "cell_type": "markdown",
      "id": "a2a80aec",
      "metadata": {
        "id": "a2a80aec"
      },
      "source": [
        "## 1.**Veri Setini Anlama:**"
      ]
    },
    {
      "cell_type": "code",
      "execution_count": 2,
      "id": "b585618b",
      "metadata": {
        "id": "b585618b"
      },
      "outputs": [],
      "source": [
        "df=pd.read_csv(\"userbehaviour.csv\")"
      ]
    },
    {
      "cell_type": "code",
      "execution_count": 3,
      "id": "7d9f595c",
      "metadata": {
        "colab": {
          "base_uri": "https://localhost:8080/",
          "height": 206
        },
        "id": "7d9f595c",
        "outputId": "c76cd543-8348-4c3c-e662-f3cc864913ef"
      },
      "outputs": [
        {
          "output_type": "execute_result",
          "data": {
            "text/plain": [
              "   userid  Average Screen Time  Average Spent on App (INR)  Left Review  \\\n",
              "0    1001                 17.0                       634.0            1   \n",
              "1    1002                  0.0                        54.0            0   \n",
              "2    1003                 37.0                       207.0            0   \n",
              "3    1004                 32.0                       445.0            1   \n",
              "4    1005                 45.0                       427.0            1   \n",
              "\n",
              "   Ratings  New Password Request  Last Visited Minutes       Status  \n",
              "0        9                     7                  2990    Installed  \n",
              "1        4                     8                 24008  Uninstalled  \n",
              "2        8                     5                   971    Installed  \n",
              "3        6                     2                   799    Installed  \n",
              "4        5                     6                  3668    Installed  "
            ],
            "text/html": [
              "\n",
              "  <div id=\"df-f877ffd3-1c70-4134-a944-6f2ef69e7505\" class=\"colab-df-container\">\n",
              "    <div>\n",
              "<style scoped>\n",
              "    .dataframe tbody tr th:only-of-type {\n",
              "        vertical-align: middle;\n",
              "    }\n",
              "\n",
              "    .dataframe tbody tr th {\n",
              "        vertical-align: top;\n",
              "    }\n",
              "\n",
              "    .dataframe thead th {\n",
              "        text-align: right;\n",
              "    }\n",
              "</style>\n",
              "<table border=\"1\" class=\"dataframe\">\n",
              "  <thead>\n",
              "    <tr style=\"text-align: right;\">\n",
              "      <th></th>\n",
              "      <th>userid</th>\n",
              "      <th>Average Screen Time</th>\n",
              "      <th>Average Spent on App (INR)</th>\n",
              "      <th>Left Review</th>\n",
              "      <th>Ratings</th>\n",
              "      <th>New Password Request</th>\n",
              "      <th>Last Visited Minutes</th>\n",
              "      <th>Status</th>\n",
              "    </tr>\n",
              "  </thead>\n",
              "  <tbody>\n",
              "    <tr>\n",
              "      <th>0</th>\n",
              "      <td>1001</td>\n",
              "      <td>17.0</td>\n",
              "      <td>634.0</td>\n",
              "      <td>1</td>\n",
              "      <td>9</td>\n",
              "      <td>7</td>\n",
              "      <td>2990</td>\n",
              "      <td>Installed</td>\n",
              "    </tr>\n",
              "    <tr>\n",
              "      <th>1</th>\n",
              "      <td>1002</td>\n",
              "      <td>0.0</td>\n",
              "      <td>54.0</td>\n",
              "      <td>0</td>\n",
              "      <td>4</td>\n",
              "      <td>8</td>\n",
              "      <td>24008</td>\n",
              "      <td>Uninstalled</td>\n",
              "    </tr>\n",
              "    <tr>\n",
              "      <th>2</th>\n",
              "      <td>1003</td>\n",
              "      <td>37.0</td>\n",
              "      <td>207.0</td>\n",
              "      <td>0</td>\n",
              "      <td>8</td>\n",
              "      <td>5</td>\n",
              "      <td>971</td>\n",
              "      <td>Installed</td>\n",
              "    </tr>\n",
              "    <tr>\n",
              "      <th>3</th>\n",
              "      <td>1004</td>\n",
              "      <td>32.0</td>\n",
              "      <td>445.0</td>\n",
              "      <td>1</td>\n",
              "      <td>6</td>\n",
              "      <td>2</td>\n",
              "      <td>799</td>\n",
              "      <td>Installed</td>\n",
              "    </tr>\n",
              "    <tr>\n",
              "      <th>4</th>\n",
              "      <td>1005</td>\n",
              "      <td>45.0</td>\n",
              "      <td>427.0</td>\n",
              "      <td>1</td>\n",
              "      <td>5</td>\n",
              "      <td>6</td>\n",
              "      <td>3668</td>\n",
              "      <td>Installed</td>\n",
              "    </tr>\n",
              "  </tbody>\n",
              "</table>\n",
              "</div>\n",
              "    <div class=\"colab-df-buttons\">\n",
              "\n",
              "  <div class=\"colab-df-container\">\n",
              "    <button class=\"colab-df-convert\" onclick=\"convertToInteractive('df-f877ffd3-1c70-4134-a944-6f2ef69e7505')\"\n",
              "            title=\"Convert this dataframe to an interactive table.\"\n",
              "            style=\"display:none;\">\n",
              "\n",
              "  <svg xmlns=\"http://www.w3.org/2000/svg\" height=\"24px\" viewBox=\"0 -960 960 960\">\n",
              "    <path d=\"M120-120v-720h720v720H120Zm60-500h600v-160H180v160Zm220 220h160v-160H400v160Zm0 220h160v-160H400v160ZM180-400h160v-160H180v160Zm440 0h160v-160H620v160ZM180-180h160v-160H180v160Zm440 0h160v-160H620v160Z\"/>\n",
              "  </svg>\n",
              "    </button>\n",
              "\n",
              "  <style>\n",
              "    .colab-df-container {\n",
              "      display:flex;\n",
              "      gap: 12px;\n",
              "    }\n",
              "\n",
              "    .colab-df-convert {\n",
              "      background-color: #E8F0FE;\n",
              "      border: none;\n",
              "      border-radius: 50%;\n",
              "      cursor: pointer;\n",
              "      display: none;\n",
              "      fill: #1967D2;\n",
              "      height: 32px;\n",
              "      padding: 0 0 0 0;\n",
              "      width: 32px;\n",
              "    }\n",
              "\n",
              "    .colab-df-convert:hover {\n",
              "      background-color: #E2EBFA;\n",
              "      box-shadow: 0px 1px 2px rgba(60, 64, 67, 0.3), 0px 1px 3px 1px rgba(60, 64, 67, 0.15);\n",
              "      fill: #174EA6;\n",
              "    }\n",
              "\n",
              "    .colab-df-buttons div {\n",
              "      margin-bottom: 4px;\n",
              "    }\n",
              "\n",
              "    [theme=dark] .colab-df-convert {\n",
              "      background-color: #3B4455;\n",
              "      fill: #D2E3FC;\n",
              "    }\n",
              "\n",
              "    [theme=dark] .colab-df-convert:hover {\n",
              "      background-color: #434B5C;\n",
              "      box-shadow: 0px 1px 3px 1px rgba(0, 0, 0, 0.15);\n",
              "      filter: drop-shadow(0px 1px 2px rgba(0, 0, 0, 0.3));\n",
              "      fill: #FFFFFF;\n",
              "    }\n",
              "  </style>\n",
              "\n",
              "    <script>\n",
              "      const buttonEl =\n",
              "        document.querySelector('#df-f877ffd3-1c70-4134-a944-6f2ef69e7505 button.colab-df-convert');\n",
              "      buttonEl.style.display =\n",
              "        google.colab.kernel.accessAllowed ? 'block' : 'none';\n",
              "\n",
              "      async function convertToInteractive(key) {\n",
              "        const element = document.querySelector('#df-f877ffd3-1c70-4134-a944-6f2ef69e7505');\n",
              "        const dataTable =\n",
              "          await google.colab.kernel.invokeFunction('convertToInteractive',\n",
              "                                                    [key], {});\n",
              "        if (!dataTable) return;\n",
              "\n",
              "        const docLinkHtml = 'Like what you see? Visit the ' +\n",
              "          '<a target=\"_blank\" href=https://colab.research.google.com/notebooks/data_table.ipynb>data table notebook</a>'\n",
              "          + ' to learn more about interactive tables.';\n",
              "        element.innerHTML = '';\n",
              "        dataTable['output_type'] = 'display_data';\n",
              "        await google.colab.output.renderOutput(dataTable, element);\n",
              "        const docLink = document.createElement('div');\n",
              "        docLink.innerHTML = docLinkHtml;\n",
              "        element.appendChild(docLink);\n",
              "      }\n",
              "    </script>\n",
              "  </div>\n",
              "\n",
              "\n",
              "<div id=\"df-435a505e-5da0-4ada-88c6-80e9c450e009\">\n",
              "  <button class=\"colab-df-quickchart\" onclick=\"quickchart('df-435a505e-5da0-4ada-88c6-80e9c450e009')\"\n",
              "            title=\"Suggest charts.\"\n",
              "            style=\"display:none;\">\n",
              "\n",
              "<svg xmlns=\"http://www.w3.org/2000/svg\" height=\"24px\"viewBox=\"0 0 24 24\"\n",
              "     width=\"24px\">\n",
              "    <g>\n",
              "        <path d=\"M19 3H5c-1.1 0-2 .9-2 2v14c0 1.1.9 2 2 2h14c1.1 0 2-.9 2-2V5c0-1.1-.9-2-2-2zM9 17H7v-7h2v7zm4 0h-2V7h2v10zm4 0h-2v-4h2v4z\"/>\n",
              "    </g>\n",
              "</svg>\n",
              "  </button>\n",
              "\n",
              "<style>\n",
              "  .colab-df-quickchart {\n",
              "      --bg-color: #E8F0FE;\n",
              "      --fill-color: #1967D2;\n",
              "      --hover-bg-color: #E2EBFA;\n",
              "      --hover-fill-color: #174EA6;\n",
              "      --disabled-fill-color: #AAA;\n",
              "      --disabled-bg-color: #DDD;\n",
              "  }\n",
              "\n",
              "  [theme=dark] .colab-df-quickchart {\n",
              "      --bg-color: #3B4455;\n",
              "      --fill-color: #D2E3FC;\n",
              "      --hover-bg-color: #434B5C;\n",
              "      --hover-fill-color: #FFFFFF;\n",
              "      --disabled-bg-color: #3B4455;\n",
              "      --disabled-fill-color: #666;\n",
              "  }\n",
              "\n",
              "  .colab-df-quickchart {\n",
              "    background-color: var(--bg-color);\n",
              "    border: none;\n",
              "    border-radius: 50%;\n",
              "    cursor: pointer;\n",
              "    display: none;\n",
              "    fill: var(--fill-color);\n",
              "    height: 32px;\n",
              "    padding: 0;\n",
              "    width: 32px;\n",
              "  }\n",
              "\n",
              "  .colab-df-quickchart:hover {\n",
              "    background-color: var(--hover-bg-color);\n",
              "    box-shadow: 0 1px 2px rgba(60, 64, 67, 0.3), 0 1px 3px 1px rgba(60, 64, 67, 0.15);\n",
              "    fill: var(--button-hover-fill-color);\n",
              "  }\n",
              "\n",
              "  .colab-df-quickchart-complete:disabled,\n",
              "  .colab-df-quickchart-complete:disabled:hover {\n",
              "    background-color: var(--disabled-bg-color);\n",
              "    fill: var(--disabled-fill-color);\n",
              "    box-shadow: none;\n",
              "  }\n",
              "\n",
              "  .colab-df-spinner {\n",
              "    border: 2px solid var(--fill-color);\n",
              "    border-color: transparent;\n",
              "    border-bottom-color: var(--fill-color);\n",
              "    animation:\n",
              "      spin 1s steps(1) infinite;\n",
              "  }\n",
              "\n",
              "  @keyframes spin {\n",
              "    0% {\n",
              "      border-color: transparent;\n",
              "      border-bottom-color: var(--fill-color);\n",
              "      border-left-color: var(--fill-color);\n",
              "    }\n",
              "    20% {\n",
              "      border-color: transparent;\n",
              "      border-left-color: var(--fill-color);\n",
              "      border-top-color: var(--fill-color);\n",
              "    }\n",
              "    30% {\n",
              "      border-color: transparent;\n",
              "      border-left-color: var(--fill-color);\n",
              "      border-top-color: var(--fill-color);\n",
              "      border-right-color: var(--fill-color);\n",
              "    }\n",
              "    40% {\n",
              "      border-color: transparent;\n",
              "      border-right-color: var(--fill-color);\n",
              "      border-top-color: var(--fill-color);\n",
              "    }\n",
              "    60% {\n",
              "      border-color: transparent;\n",
              "      border-right-color: var(--fill-color);\n",
              "    }\n",
              "    80% {\n",
              "      border-color: transparent;\n",
              "      border-right-color: var(--fill-color);\n",
              "      border-bottom-color: var(--fill-color);\n",
              "    }\n",
              "    90% {\n",
              "      border-color: transparent;\n",
              "      border-bottom-color: var(--fill-color);\n",
              "    }\n",
              "  }\n",
              "</style>\n",
              "\n",
              "  <script>\n",
              "    async function quickchart(key) {\n",
              "      const quickchartButtonEl =\n",
              "        document.querySelector('#' + key + ' button');\n",
              "      quickchartButtonEl.disabled = true;  // To prevent multiple clicks.\n",
              "      quickchartButtonEl.classList.add('colab-df-spinner');\n",
              "      try {\n",
              "        const charts = await google.colab.kernel.invokeFunction(\n",
              "            'suggestCharts', [key], {});\n",
              "      } catch (error) {\n",
              "        console.error('Error during call to suggestCharts:', error);\n",
              "      }\n",
              "      quickchartButtonEl.classList.remove('colab-df-spinner');\n",
              "      quickchartButtonEl.classList.add('colab-df-quickchart-complete');\n",
              "    }\n",
              "    (() => {\n",
              "      let quickchartButtonEl =\n",
              "        document.querySelector('#df-435a505e-5da0-4ada-88c6-80e9c450e009 button');\n",
              "      quickchartButtonEl.style.display =\n",
              "        google.colab.kernel.accessAllowed ? 'block' : 'none';\n",
              "    })();\n",
              "  </script>\n",
              "</div>\n",
              "    </div>\n",
              "  </div>\n"
            ]
          },
          "metadata": {},
          "execution_count": 3
        }
      ],
      "source": [
        "df.head()"
      ]
    },
    {
      "cell_type": "markdown",
      "id": "bfa531ba",
      "metadata": {
        "id": "bfa531ba"
      },
      "source": [
        "1. **userid**: Kullanıcı kimliği.\n",
        "2. **Average Screen Time**: Ortalama ekran süresi.\n",
        "3. **Average Spent on App (INR)**: Uygulamada harcanan ortalama para (INR birimiyle).\n",
        "4. **Left Review**: Kullanıcının inceleme bırakıp bırakmadığını gösteren bir sütun (1 veya 0 değerleri ile kodlanmış).\n",
        "5. **Ratings**: Kullanıcı tarafından verilen derecelendirme (muhtemelen 1 ila 10 arasında bir sayı).\n",
        "6. **New Password Request**: Yeni şifre talebinin sayısı.\n",
        "7. **Last Visited Minutes**: Kullanıcının son ziyaret ettiği dakika sayısı.\n",
        "8. **Status**: Kullanıcının uygulama durumu (örneğin, \"Installed\" veya \"Uninstalled\")."
      ]
    },
    {
      "cell_type": "code",
      "execution_count": 4,
      "id": "6914d1f8",
      "metadata": {
        "colab": {
          "base_uri": "https://localhost:8080/",
          "height": 300
        },
        "id": "6914d1f8",
        "outputId": "f8850da1-f6ca-4d5c-dad0-975748d3d76c"
      },
      "outputs": [
        {
          "output_type": "execute_result",
          "data": {
            "text/plain": [
              "            userid  Average Screen Time  Average Spent on App (INR)  \\\n",
              "count   999.000000           999.000000                  999.000000   \n",
              "mean   1500.000000            24.390390                  424.415415   \n",
              "std     288.530761            14.235415                  312.365695   \n",
              "min    1001.000000             0.000000                    0.000000   \n",
              "25%    1250.500000            12.000000                   96.000000   \n",
              "50%    1500.000000            24.000000                  394.000000   \n",
              "75%    1749.500000            36.000000                  717.500000   \n",
              "max    1999.000000            50.000000                  998.000000   \n",
              "\n",
              "       Left Review     Ratings  New Password Request  Last Visited Minutes  \n",
              "count   999.000000  999.000000            999.000000            999.000000  \n",
              "mean      0.497497    6.513514              4.941942           5110.898899  \n",
              "std       0.500244    2.701511              2.784626           8592.036516  \n",
              "min       0.000000    0.000000              1.000000            201.000000  \n",
              "25%       0.000000    5.000000              3.000000           1495.500000  \n",
              "50%       0.000000    7.000000              5.000000           2865.000000  \n",
              "75%       1.000000    9.000000              7.000000           4198.000000  \n",
              "max       1.000000   10.000000             15.000000          49715.000000  "
            ],
            "text/html": [
              "\n",
              "  <div id=\"df-7d25cbbb-0963-483e-8103-42fb8b275e1d\" class=\"colab-df-container\">\n",
              "    <div>\n",
              "<style scoped>\n",
              "    .dataframe tbody tr th:only-of-type {\n",
              "        vertical-align: middle;\n",
              "    }\n",
              "\n",
              "    .dataframe tbody tr th {\n",
              "        vertical-align: top;\n",
              "    }\n",
              "\n",
              "    .dataframe thead th {\n",
              "        text-align: right;\n",
              "    }\n",
              "</style>\n",
              "<table border=\"1\" class=\"dataframe\">\n",
              "  <thead>\n",
              "    <tr style=\"text-align: right;\">\n",
              "      <th></th>\n",
              "      <th>userid</th>\n",
              "      <th>Average Screen Time</th>\n",
              "      <th>Average Spent on App (INR)</th>\n",
              "      <th>Left Review</th>\n",
              "      <th>Ratings</th>\n",
              "      <th>New Password Request</th>\n",
              "      <th>Last Visited Minutes</th>\n",
              "    </tr>\n",
              "  </thead>\n",
              "  <tbody>\n",
              "    <tr>\n",
              "      <th>count</th>\n",
              "      <td>999.000000</td>\n",
              "      <td>999.000000</td>\n",
              "      <td>999.000000</td>\n",
              "      <td>999.000000</td>\n",
              "      <td>999.000000</td>\n",
              "      <td>999.000000</td>\n",
              "      <td>999.000000</td>\n",
              "    </tr>\n",
              "    <tr>\n",
              "      <th>mean</th>\n",
              "      <td>1500.000000</td>\n",
              "      <td>24.390390</td>\n",
              "      <td>424.415415</td>\n",
              "      <td>0.497497</td>\n",
              "      <td>6.513514</td>\n",
              "      <td>4.941942</td>\n",
              "      <td>5110.898899</td>\n",
              "    </tr>\n",
              "    <tr>\n",
              "      <th>std</th>\n",
              "      <td>288.530761</td>\n",
              "      <td>14.235415</td>\n",
              "      <td>312.365695</td>\n",
              "      <td>0.500244</td>\n",
              "      <td>2.701511</td>\n",
              "      <td>2.784626</td>\n",
              "      <td>8592.036516</td>\n",
              "    </tr>\n",
              "    <tr>\n",
              "      <th>min</th>\n",
              "      <td>1001.000000</td>\n",
              "      <td>0.000000</td>\n",
              "      <td>0.000000</td>\n",
              "      <td>0.000000</td>\n",
              "      <td>0.000000</td>\n",
              "      <td>1.000000</td>\n",
              "      <td>201.000000</td>\n",
              "    </tr>\n",
              "    <tr>\n",
              "      <th>25%</th>\n",
              "      <td>1250.500000</td>\n",
              "      <td>12.000000</td>\n",
              "      <td>96.000000</td>\n",
              "      <td>0.000000</td>\n",
              "      <td>5.000000</td>\n",
              "      <td>3.000000</td>\n",
              "      <td>1495.500000</td>\n",
              "    </tr>\n",
              "    <tr>\n",
              "      <th>50%</th>\n",
              "      <td>1500.000000</td>\n",
              "      <td>24.000000</td>\n",
              "      <td>394.000000</td>\n",
              "      <td>0.000000</td>\n",
              "      <td>7.000000</td>\n",
              "      <td>5.000000</td>\n",
              "      <td>2865.000000</td>\n",
              "    </tr>\n",
              "    <tr>\n",
              "      <th>75%</th>\n",
              "      <td>1749.500000</td>\n",
              "      <td>36.000000</td>\n",
              "      <td>717.500000</td>\n",
              "      <td>1.000000</td>\n",
              "      <td>9.000000</td>\n",
              "      <td>7.000000</td>\n",
              "      <td>4198.000000</td>\n",
              "    </tr>\n",
              "    <tr>\n",
              "      <th>max</th>\n",
              "      <td>1999.000000</td>\n",
              "      <td>50.000000</td>\n",
              "      <td>998.000000</td>\n",
              "      <td>1.000000</td>\n",
              "      <td>10.000000</td>\n",
              "      <td>15.000000</td>\n",
              "      <td>49715.000000</td>\n",
              "    </tr>\n",
              "  </tbody>\n",
              "</table>\n",
              "</div>\n",
              "    <div class=\"colab-df-buttons\">\n",
              "\n",
              "  <div class=\"colab-df-container\">\n",
              "    <button class=\"colab-df-convert\" onclick=\"convertToInteractive('df-7d25cbbb-0963-483e-8103-42fb8b275e1d')\"\n",
              "            title=\"Convert this dataframe to an interactive table.\"\n",
              "            style=\"display:none;\">\n",
              "\n",
              "  <svg xmlns=\"http://www.w3.org/2000/svg\" height=\"24px\" viewBox=\"0 -960 960 960\">\n",
              "    <path d=\"M120-120v-720h720v720H120Zm60-500h600v-160H180v160Zm220 220h160v-160H400v160Zm0 220h160v-160H400v160ZM180-400h160v-160H180v160Zm440 0h160v-160H620v160ZM180-180h160v-160H180v160Zm440 0h160v-160H620v160Z\"/>\n",
              "  </svg>\n",
              "    </button>\n",
              "\n",
              "  <style>\n",
              "    .colab-df-container {\n",
              "      display:flex;\n",
              "      gap: 12px;\n",
              "    }\n",
              "\n",
              "    .colab-df-convert {\n",
              "      background-color: #E8F0FE;\n",
              "      border: none;\n",
              "      border-radius: 50%;\n",
              "      cursor: pointer;\n",
              "      display: none;\n",
              "      fill: #1967D2;\n",
              "      height: 32px;\n",
              "      padding: 0 0 0 0;\n",
              "      width: 32px;\n",
              "    }\n",
              "\n",
              "    .colab-df-convert:hover {\n",
              "      background-color: #E2EBFA;\n",
              "      box-shadow: 0px 1px 2px rgba(60, 64, 67, 0.3), 0px 1px 3px 1px rgba(60, 64, 67, 0.15);\n",
              "      fill: #174EA6;\n",
              "    }\n",
              "\n",
              "    .colab-df-buttons div {\n",
              "      margin-bottom: 4px;\n",
              "    }\n",
              "\n",
              "    [theme=dark] .colab-df-convert {\n",
              "      background-color: #3B4455;\n",
              "      fill: #D2E3FC;\n",
              "    }\n",
              "\n",
              "    [theme=dark] .colab-df-convert:hover {\n",
              "      background-color: #434B5C;\n",
              "      box-shadow: 0px 1px 3px 1px rgba(0, 0, 0, 0.15);\n",
              "      filter: drop-shadow(0px 1px 2px rgba(0, 0, 0, 0.3));\n",
              "      fill: #FFFFFF;\n",
              "    }\n",
              "  </style>\n",
              "\n",
              "    <script>\n",
              "      const buttonEl =\n",
              "        document.querySelector('#df-7d25cbbb-0963-483e-8103-42fb8b275e1d button.colab-df-convert');\n",
              "      buttonEl.style.display =\n",
              "        google.colab.kernel.accessAllowed ? 'block' : 'none';\n",
              "\n",
              "      async function convertToInteractive(key) {\n",
              "        const element = document.querySelector('#df-7d25cbbb-0963-483e-8103-42fb8b275e1d');\n",
              "        const dataTable =\n",
              "          await google.colab.kernel.invokeFunction('convertToInteractive',\n",
              "                                                    [key], {});\n",
              "        if (!dataTable) return;\n",
              "\n",
              "        const docLinkHtml = 'Like what you see? Visit the ' +\n",
              "          '<a target=\"_blank\" href=https://colab.research.google.com/notebooks/data_table.ipynb>data table notebook</a>'\n",
              "          + ' to learn more about interactive tables.';\n",
              "        element.innerHTML = '';\n",
              "        dataTable['output_type'] = 'display_data';\n",
              "        await google.colab.output.renderOutput(dataTable, element);\n",
              "        const docLink = document.createElement('div');\n",
              "        docLink.innerHTML = docLinkHtml;\n",
              "        element.appendChild(docLink);\n",
              "      }\n",
              "    </script>\n",
              "  </div>\n",
              "\n",
              "\n",
              "<div id=\"df-5921c324-b31c-496a-98ce-3e1a4aa74899\">\n",
              "  <button class=\"colab-df-quickchart\" onclick=\"quickchart('df-5921c324-b31c-496a-98ce-3e1a4aa74899')\"\n",
              "            title=\"Suggest charts.\"\n",
              "            style=\"display:none;\">\n",
              "\n",
              "<svg xmlns=\"http://www.w3.org/2000/svg\" height=\"24px\"viewBox=\"0 0 24 24\"\n",
              "     width=\"24px\">\n",
              "    <g>\n",
              "        <path d=\"M19 3H5c-1.1 0-2 .9-2 2v14c0 1.1.9 2 2 2h14c1.1 0 2-.9 2-2V5c0-1.1-.9-2-2-2zM9 17H7v-7h2v7zm4 0h-2V7h2v10zm4 0h-2v-4h2v4z\"/>\n",
              "    </g>\n",
              "</svg>\n",
              "  </button>\n",
              "\n",
              "<style>\n",
              "  .colab-df-quickchart {\n",
              "      --bg-color: #E8F0FE;\n",
              "      --fill-color: #1967D2;\n",
              "      --hover-bg-color: #E2EBFA;\n",
              "      --hover-fill-color: #174EA6;\n",
              "      --disabled-fill-color: #AAA;\n",
              "      --disabled-bg-color: #DDD;\n",
              "  }\n",
              "\n",
              "  [theme=dark] .colab-df-quickchart {\n",
              "      --bg-color: #3B4455;\n",
              "      --fill-color: #D2E3FC;\n",
              "      --hover-bg-color: #434B5C;\n",
              "      --hover-fill-color: #FFFFFF;\n",
              "      --disabled-bg-color: #3B4455;\n",
              "      --disabled-fill-color: #666;\n",
              "  }\n",
              "\n",
              "  .colab-df-quickchart {\n",
              "    background-color: var(--bg-color);\n",
              "    border: none;\n",
              "    border-radius: 50%;\n",
              "    cursor: pointer;\n",
              "    display: none;\n",
              "    fill: var(--fill-color);\n",
              "    height: 32px;\n",
              "    padding: 0;\n",
              "    width: 32px;\n",
              "  }\n",
              "\n",
              "  .colab-df-quickchart:hover {\n",
              "    background-color: var(--hover-bg-color);\n",
              "    box-shadow: 0 1px 2px rgba(60, 64, 67, 0.3), 0 1px 3px 1px rgba(60, 64, 67, 0.15);\n",
              "    fill: var(--button-hover-fill-color);\n",
              "  }\n",
              "\n",
              "  .colab-df-quickchart-complete:disabled,\n",
              "  .colab-df-quickchart-complete:disabled:hover {\n",
              "    background-color: var(--disabled-bg-color);\n",
              "    fill: var(--disabled-fill-color);\n",
              "    box-shadow: none;\n",
              "  }\n",
              "\n",
              "  .colab-df-spinner {\n",
              "    border: 2px solid var(--fill-color);\n",
              "    border-color: transparent;\n",
              "    border-bottom-color: var(--fill-color);\n",
              "    animation:\n",
              "      spin 1s steps(1) infinite;\n",
              "  }\n",
              "\n",
              "  @keyframes spin {\n",
              "    0% {\n",
              "      border-color: transparent;\n",
              "      border-bottom-color: var(--fill-color);\n",
              "      border-left-color: var(--fill-color);\n",
              "    }\n",
              "    20% {\n",
              "      border-color: transparent;\n",
              "      border-left-color: var(--fill-color);\n",
              "      border-top-color: var(--fill-color);\n",
              "    }\n",
              "    30% {\n",
              "      border-color: transparent;\n",
              "      border-left-color: var(--fill-color);\n",
              "      border-top-color: var(--fill-color);\n",
              "      border-right-color: var(--fill-color);\n",
              "    }\n",
              "    40% {\n",
              "      border-color: transparent;\n",
              "      border-right-color: var(--fill-color);\n",
              "      border-top-color: var(--fill-color);\n",
              "    }\n",
              "    60% {\n",
              "      border-color: transparent;\n",
              "      border-right-color: var(--fill-color);\n",
              "    }\n",
              "    80% {\n",
              "      border-color: transparent;\n",
              "      border-right-color: var(--fill-color);\n",
              "      border-bottom-color: var(--fill-color);\n",
              "    }\n",
              "    90% {\n",
              "      border-color: transparent;\n",
              "      border-bottom-color: var(--fill-color);\n",
              "    }\n",
              "  }\n",
              "</style>\n",
              "\n",
              "  <script>\n",
              "    async function quickchart(key) {\n",
              "      const quickchartButtonEl =\n",
              "        document.querySelector('#' + key + ' button');\n",
              "      quickchartButtonEl.disabled = true;  // To prevent multiple clicks.\n",
              "      quickchartButtonEl.classList.add('colab-df-spinner');\n",
              "      try {\n",
              "        const charts = await google.colab.kernel.invokeFunction(\n",
              "            'suggestCharts', [key], {});\n",
              "      } catch (error) {\n",
              "        console.error('Error during call to suggestCharts:', error);\n",
              "      }\n",
              "      quickchartButtonEl.classList.remove('colab-df-spinner');\n",
              "      quickchartButtonEl.classList.add('colab-df-quickchart-complete');\n",
              "    }\n",
              "    (() => {\n",
              "      let quickchartButtonEl =\n",
              "        document.querySelector('#df-5921c324-b31c-496a-98ce-3e1a4aa74899 button');\n",
              "      quickchartButtonEl.style.display =\n",
              "        google.colab.kernel.accessAllowed ? 'block' : 'none';\n",
              "    })();\n",
              "  </script>\n",
              "</div>\n",
              "    </div>\n",
              "  </div>\n"
            ]
          },
          "metadata": {},
          "execution_count": 4
        }
      ],
      "source": [
        "df.describe()"
      ]
    },
    {
      "cell_type": "code",
      "execution_count": 5,
      "id": "08012d27",
      "metadata": {
        "colab": {
          "base_uri": "https://localhost:8080/",
          "height": 269
        },
        "id": "08012d27",
        "outputId": "542e96ed-66e5-415a-b177-2deb8a27a186"
      },
      "outputs": [
        {
          "output_type": "execute_result",
          "data": {
            "text/plain": [
              "                              userid  Average Screen Time  \\\n",
              "userid                      1.000000            -0.011205   \n",
              "Average Screen Time        -0.011205             1.000000   \n",
              "Average Spent on App (INR)  0.007211             0.445920   \n",
              "Left Review                 0.011871            -0.019984   \n",
              "Ratings                    -0.010577             0.557624   \n",
              "New Password Request        0.011876            -0.261706   \n",
              "Last Visited Minutes       -0.031093            -0.458216   \n",
              "\n",
              "                            Average Spent on App (INR)  Left Review   Ratings  \\\n",
              "userid                                        0.007211     0.011871 -0.010577   \n",
              "Average Screen Time                           0.445920    -0.019984  0.557624   \n",
              "Average Spent on App (INR)                    1.000000    -0.022998  0.482451   \n",
              "Left Review                                  -0.022998     1.000000  0.003547   \n",
              "Ratings                                       0.482451     0.003547  1.000000   \n",
              "New Password Request                         -0.207935     0.056722 -0.213145   \n",
              "Last Visited Minutes                         -0.350524    -0.004401 -0.416936   \n",
              "\n",
              "                            New Password Request  Last Visited Minutes  \n",
              "userid                                  0.011876             -0.031093  \n",
              "Average Screen Time                    -0.261706             -0.458216  \n",
              "Average Spent on App (INR)             -0.207935             -0.350524  \n",
              "Left Review                             0.056722             -0.004401  \n",
              "Ratings                                -0.213145             -0.416936  \n",
              "New Password Request                    1.000000              0.464466  \n",
              "Last Visited Minutes                    0.464466              1.000000  "
            ],
            "text/html": [
              "\n",
              "  <div id=\"df-e3f58ac0-02b7-410e-979f-71cfd3d2ab32\" class=\"colab-df-container\">\n",
              "    <div>\n",
              "<style scoped>\n",
              "    .dataframe tbody tr th:only-of-type {\n",
              "        vertical-align: middle;\n",
              "    }\n",
              "\n",
              "    .dataframe tbody tr th {\n",
              "        vertical-align: top;\n",
              "    }\n",
              "\n",
              "    .dataframe thead th {\n",
              "        text-align: right;\n",
              "    }\n",
              "</style>\n",
              "<table border=\"1\" class=\"dataframe\">\n",
              "  <thead>\n",
              "    <tr style=\"text-align: right;\">\n",
              "      <th></th>\n",
              "      <th>userid</th>\n",
              "      <th>Average Screen Time</th>\n",
              "      <th>Average Spent on App (INR)</th>\n",
              "      <th>Left Review</th>\n",
              "      <th>Ratings</th>\n",
              "      <th>New Password Request</th>\n",
              "      <th>Last Visited Minutes</th>\n",
              "    </tr>\n",
              "  </thead>\n",
              "  <tbody>\n",
              "    <tr>\n",
              "      <th>userid</th>\n",
              "      <td>1.000000</td>\n",
              "      <td>-0.011205</td>\n",
              "      <td>0.007211</td>\n",
              "      <td>0.011871</td>\n",
              "      <td>-0.010577</td>\n",
              "      <td>0.011876</td>\n",
              "      <td>-0.031093</td>\n",
              "    </tr>\n",
              "    <tr>\n",
              "      <th>Average Screen Time</th>\n",
              "      <td>-0.011205</td>\n",
              "      <td>1.000000</td>\n",
              "      <td>0.445920</td>\n",
              "      <td>-0.019984</td>\n",
              "      <td>0.557624</td>\n",
              "      <td>-0.261706</td>\n",
              "      <td>-0.458216</td>\n",
              "    </tr>\n",
              "    <tr>\n",
              "      <th>Average Spent on App (INR)</th>\n",
              "      <td>0.007211</td>\n",
              "      <td>0.445920</td>\n",
              "      <td>1.000000</td>\n",
              "      <td>-0.022998</td>\n",
              "      <td>0.482451</td>\n",
              "      <td>-0.207935</td>\n",
              "      <td>-0.350524</td>\n",
              "    </tr>\n",
              "    <tr>\n",
              "      <th>Left Review</th>\n",
              "      <td>0.011871</td>\n",
              "      <td>-0.019984</td>\n",
              "      <td>-0.022998</td>\n",
              "      <td>1.000000</td>\n",
              "      <td>0.003547</td>\n",
              "      <td>0.056722</td>\n",
              "      <td>-0.004401</td>\n",
              "    </tr>\n",
              "    <tr>\n",
              "      <th>Ratings</th>\n",
              "      <td>-0.010577</td>\n",
              "      <td>0.557624</td>\n",
              "      <td>0.482451</td>\n",
              "      <td>0.003547</td>\n",
              "      <td>1.000000</td>\n",
              "      <td>-0.213145</td>\n",
              "      <td>-0.416936</td>\n",
              "    </tr>\n",
              "    <tr>\n",
              "      <th>New Password Request</th>\n",
              "      <td>0.011876</td>\n",
              "      <td>-0.261706</td>\n",
              "      <td>-0.207935</td>\n",
              "      <td>0.056722</td>\n",
              "      <td>-0.213145</td>\n",
              "      <td>1.000000</td>\n",
              "      <td>0.464466</td>\n",
              "    </tr>\n",
              "    <tr>\n",
              "      <th>Last Visited Minutes</th>\n",
              "      <td>-0.031093</td>\n",
              "      <td>-0.458216</td>\n",
              "      <td>-0.350524</td>\n",
              "      <td>-0.004401</td>\n",
              "      <td>-0.416936</td>\n",
              "      <td>0.464466</td>\n",
              "      <td>1.000000</td>\n",
              "    </tr>\n",
              "  </tbody>\n",
              "</table>\n",
              "</div>\n",
              "    <div class=\"colab-df-buttons\">\n",
              "\n",
              "  <div class=\"colab-df-container\">\n",
              "    <button class=\"colab-df-convert\" onclick=\"convertToInteractive('df-e3f58ac0-02b7-410e-979f-71cfd3d2ab32')\"\n",
              "            title=\"Convert this dataframe to an interactive table.\"\n",
              "            style=\"display:none;\">\n",
              "\n",
              "  <svg xmlns=\"http://www.w3.org/2000/svg\" height=\"24px\" viewBox=\"0 -960 960 960\">\n",
              "    <path d=\"M120-120v-720h720v720H120Zm60-500h600v-160H180v160Zm220 220h160v-160H400v160Zm0 220h160v-160H400v160ZM180-400h160v-160H180v160Zm440 0h160v-160H620v160ZM180-180h160v-160H180v160Zm440 0h160v-160H620v160Z\"/>\n",
              "  </svg>\n",
              "    </button>\n",
              "\n",
              "  <style>\n",
              "    .colab-df-container {\n",
              "      display:flex;\n",
              "      gap: 12px;\n",
              "    }\n",
              "\n",
              "    .colab-df-convert {\n",
              "      background-color: #E8F0FE;\n",
              "      border: none;\n",
              "      border-radius: 50%;\n",
              "      cursor: pointer;\n",
              "      display: none;\n",
              "      fill: #1967D2;\n",
              "      height: 32px;\n",
              "      padding: 0 0 0 0;\n",
              "      width: 32px;\n",
              "    }\n",
              "\n",
              "    .colab-df-convert:hover {\n",
              "      background-color: #E2EBFA;\n",
              "      box-shadow: 0px 1px 2px rgba(60, 64, 67, 0.3), 0px 1px 3px 1px rgba(60, 64, 67, 0.15);\n",
              "      fill: #174EA6;\n",
              "    }\n",
              "\n",
              "    .colab-df-buttons div {\n",
              "      margin-bottom: 4px;\n",
              "    }\n",
              "\n",
              "    [theme=dark] .colab-df-convert {\n",
              "      background-color: #3B4455;\n",
              "      fill: #D2E3FC;\n",
              "    }\n",
              "\n",
              "    [theme=dark] .colab-df-convert:hover {\n",
              "      background-color: #434B5C;\n",
              "      box-shadow: 0px 1px 3px 1px rgba(0, 0, 0, 0.15);\n",
              "      filter: drop-shadow(0px 1px 2px rgba(0, 0, 0, 0.3));\n",
              "      fill: #FFFFFF;\n",
              "    }\n",
              "  </style>\n",
              "\n",
              "    <script>\n",
              "      const buttonEl =\n",
              "        document.querySelector('#df-e3f58ac0-02b7-410e-979f-71cfd3d2ab32 button.colab-df-convert');\n",
              "      buttonEl.style.display =\n",
              "        google.colab.kernel.accessAllowed ? 'block' : 'none';\n",
              "\n",
              "      async function convertToInteractive(key) {\n",
              "        const element = document.querySelector('#df-e3f58ac0-02b7-410e-979f-71cfd3d2ab32');\n",
              "        const dataTable =\n",
              "          await google.colab.kernel.invokeFunction('convertToInteractive',\n",
              "                                                    [key], {});\n",
              "        if (!dataTable) return;\n",
              "\n",
              "        const docLinkHtml = 'Like what you see? Visit the ' +\n",
              "          '<a target=\"_blank\" href=https://colab.research.google.com/notebooks/data_table.ipynb>data table notebook</a>'\n",
              "          + ' to learn more about interactive tables.';\n",
              "        element.innerHTML = '';\n",
              "        dataTable['output_type'] = 'display_data';\n",
              "        await google.colab.output.renderOutput(dataTable, element);\n",
              "        const docLink = document.createElement('div');\n",
              "        docLink.innerHTML = docLinkHtml;\n",
              "        element.appendChild(docLink);\n",
              "      }\n",
              "    </script>\n",
              "  </div>\n",
              "\n",
              "\n",
              "<div id=\"df-7e4fdc49-2127-489c-96af-82f82314c19f\">\n",
              "  <button class=\"colab-df-quickchart\" onclick=\"quickchart('df-7e4fdc49-2127-489c-96af-82f82314c19f')\"\n",
              "            title=\"Suggest charts.\"\n",
              "            style=\"display:none;\">\n",
              "\n",
              "<svg xmlns=\"http://www.w3.org/2000/svg\" height=\"24px\"viewBox=\"0 0 24 24\"\n",
              "     width=\"24px\">\n",
              "    <g>\n",
              "        <path d=\"M19 3H5c-1.1 0-2 .9-2 2v14c0 1.1.9 2 2 2h14c1.1 0 2-.9 2-2V5c0-1.1-.9-2-2-2zM9 17H7v-7h2v7zm4 0h-2V7h2v10zm4 0h-2v-4h2v4z\"/>\n",
              "    </g>\n",
              "</svg>\n",
              "  </button>\n",
              "\n",
              "<style>\n",
              "  .colab-df-quickchart {\n",
              "      --bg-color: #E8F0FE;\n",
              "      --fill-color: #1967D2;\n",
              "      --hover-bg-color: #E2EBFA;\n",
              "      --hover-fill-color: #174EA6;\n",
              "      --disabled-fill-color: #AAA;\n",
              "      --disabled-bg-color: #DDD;\n",
              "  }\n",
              "\n",
              "  [theme=dark] .colab-df-quickchart {\n",
              "      --bg-color: #3B4455;\n",
              "      --fill-color: #D2E3FC;\n",
              "      --hover-bg-color: #434B5C;\n",
              "      --hover-fill-color: #FFFFFF;\n",
              "      --disabled-bg-color: #3B4455;\n",
              "      --disabled-fill-color: #666;\n",
              "  }\n",
              "\n",
              "  .colab-df-quickchart {\n",
              "    background-color: var(--bg-color);\n",
              "    border: none;\n",
              "    border-radius: 50%;\n",
              "    cursor: pointer;\n",
              "    display: none;\n",
              "    fill: var(--fill-color);\n",
              "    height: 32px;\n",
              "    padding: 0;\n",
              "    width: 32px;\n",
              "  }\n",
              "\n",
              "  .colab-df-quickchart:hover {\n",
              "    background-color: var(--hover-bg-color);\n",
              "    box-shadow: 0 1px 2px rgba(60, 64, 67, 0.3), 0 1px 3px 1px rgba(60, 64, 67, 0.15);\n",
              "    fill: var(--button-hover-fill-color);\n",
              "  }\n",
              "\n",
              "  .colab-df-quickchart-complete:disabled,\n",
              "  .colab-df-quickchart-complete:disabled:hover {\n",
              "    background-color: var(--disabled-bg-color);\n",
              "    fill: var(--disabled-fill-color);\n",
              "    box-shadow: none;\n",
              "  }\n",
              "\n",
              "  .colab-df-spinner {\n",
              "    border: 2px solid var(--fill-color);\n",
              "    border-color: transparent;\n",
              "    border-bottom-color: var(--fill-color);\n",
              "    animation:\n",
              "      spin 1s steps(1) infinite;\n",
              "  }\n",
              "\n",
              "  @keyframes spin {\n",
              "    0% {\n",
              "      border-color: transparent;\n",
              "      border-bottom-color: var(--fill-color);\n",
              "      border-left-color: var(--fill-color);\n",
              "    }\n",
              "    20% {\n",
              "      border-color: transparent;\n",
              "      border-left-color: var(--fill-color);\n",
              "      border-top-color: var(--fill-color);\n",
              "    }\n",
              "    30% {\n",
              "      border-color: transparent;\n",
              "      border-left-color: var(--fill-color);\n",
              "      border-top-color: var(--fill-color);\n",
              "      border-right-color: var(--fill-color);\n",
              "    }\n",
              "    40% {\n",
              "      border-color: transparent;\n",
              "      border-right-color: var(--fill-color);\n",
              "      border-top-color: var(--fill-color);\n",
              "    }\n",
              "    60% {\n",
              "      border-color: transparent;\n",
              "      border-right-color: var(--fill-color);\n",
              "    }\n",
              "    80% {\n",
              "      border-color: transparent;\n",
              "      border-right-color: var(--fill-color);\n",
              "      border-bottom-color: var(--fill-color);\n",
              "    }\n",
              "    90% {\n",
              "      border-color: transparent;\n",
              "      border-bottom-color: var(--fill-color);\n",
              "    }\n",
              "  }\n",
              "</style>\n",
              "\n",
              "  <script>\n",
              "    async function quickchart(key) {\n",
              "      const quickchartButtonEl =\n",
              "        document.querySelector('#' + key + ' button');\n",
              "      quickchartButtonEl.disabled = true;  // To prevent multiple clicks.\n",
              "      quickchartButtonEl.classList.add('colab-df-spinner');\n",
              "      try {\n",
              "        const charts = await google.colab.kernel.invokeFunction(\n",
              "            'suggestCharts', [key], {});\n",
              "      } catch (error) {\n",
              "        console.error('Error during call to suggestCharts:', error);\n",
              "      }\n",
              "      quickchartButtonEl.classList.remove('colab-df-spinner');\n",
              "      quickchartButtonEl.classList.add('colab-df-quickchart-complete');\n",
              "    }\n",
              "    (() => {\n",
              "      let quickchartButtonEl =\n",
              "        document.querySelector('#df-7e4fdc49-2127-489c-96af-82f82314c19f button');\n",
              "      quickchartButtonEl.style.display =\n",
              "        google.colab.kernel.accessAllowed ? 'block' : 'none';\n",
              "    })();\n",
              "  </script>\n",
              "</div>\n",
              "    </div>\n",
              "  </div>\n"
            ]
          },
          "metadata": {},
          "execution_count": 5
        }
      ],
      "source": [
        "df.corr()"
      ]
    },
    {
      "cell_type": "code",
      "execution_count": 6,
      "id": "39d0e432",
      "metadata": {
        "colab": {
          "base_uri": "https://localhost:8080/"
        },
        "id": "39d0e432",
        "outputId": "87fdc771-f3ab-4433-9912-e29f361fb536"
      },
      "outputs": [
        {
          "output_type": "execute_result",
          "data": {
            "text/plain": [
              "(999, 8)"
            ]
          },
          "metadata": {},
          "execution_count": 6
        }
      ],
      "source": [
        "df.shape"
      ]
    },
    {
      "cell_type": "markdown",
      "id": "1ebf79fc",
      "metadata": {
        "id": "1ebf79fc"
      },
      "source": [
        "## 2. **Veri Temizliği ve Hazırlığı:**"
      ]
    },
    {
      "cell_type": "code",
      "execution_count": 7,
      "id": "4714f26b",
      "metadata": {
        "colab": {
          "base_uri": "https://localhost:8080/"
        },
        "id": "4714f26b",
        "outputId": "58f29238-6238-4333-dd44-c1b61bae442c"
      },
      "outputs": [
        {
          "output_type": "stream",
          "name": "stdout",
          "text": [
            "<class 'pandas.core.frame.DataFrame'>\n",
            "RangeIndex: 999 entries, 0 to 998\n",
            "Data columns (total 8 columns):\n",
            " #   Column                      Non-Null Count  Dtype  \n",
            "---  ------                      --------------  -----  \n",
            " 0   userid                      999 non-null    int64  \n",
            " 1   Average Screen Time         999 non-null    float64\n",
            " 2   Average Spent on App (INR)  999 non-null    float64\n",
            " 3   Left Review                 999 non-null    int64  \n",
            " 4   Ratings                     999 non-null    int64  \n",
            " 5   New Password Request        999 non-null    int64  \n",
            " 6   Last Visited Minutes        999 non-null    int64  \n",
            " 7   Status                      999 non-null    object \n",
            "dtypes: float64(2), int64(5), object(1)\n",
            "memory usage: 62.6+ KB\n"
          ]
        }
      ],
      "source": [
        "df.info()"
      ]
    },
    {
      "cell_type": "code",
      "execution_count": 8,
      "id": "4041ce62",
      "metadata": {
        "id": "4041ce62"
      },
      "outputs": [],
      "source": [
        "# Obje verimiz olan status u sayısal veriye çevirebilriz\n",
        "df['Status'] = df['Status'].map({'Installed': 1, 'Uninstalled': 0})"
      ]
    },
    {
      "cell_type": "code",
      "execution_count": 9,
      "id": "5f713a1a",
      "metadata": {
        "id": "5f713a1a"
      },
      "outputs": [],
      "source": [
        "# Float sütunlarını int'e çevirin (ondalık kısmı atlar)\n",
        "df['Average Screen Time'] = df['Average Screen Time'].astype(int)\n",
        "df['Average Spent on App (INR)'] = df['Average Spent on App (INR)'].astype(int)"
      ]
    },
    {
      "cell_type": "code",
      "execution_count": 10,
      "id": "73688225",
      "metadata": {
        "colab": {
          "base_uri": "https://localhost:8080/",
          "height": 472
        },
        "id": "73688225",
        "outputId": "24114ac9-c8a8-4266-de87-2090451e3f82"
      },
      "outputs": [
        {
          "output_type": "display_data",
          "data": {
            "text/plain": [
              "<Figure size 640x480 with 1 Axes>"
            ],
            "image/png": "[encoded data removed]"
          },
          "metadata": {}
        }
      ],
      "source": [
        "plt.hist(df['Average Screen Time'], bins=20, color='blue', alpha=0.7, label='Average Screen Time')\n",
        "plt.hist(df['Average Spent on App (INR)'], bins=20, color='red', alpha=0.7, label='Average Spent on App (INR)')\n",
        "plt.xlabel('Değerler')\n",
        "plt.ylabel('Frekans')\n",
        "plt.legend()\n",
        "plt.title('Ortalama Ekran Süresi ve Uygulamada Harcanan Para Histogramı')\n",
        "plt.show()"
      ]
    },
    {
      "cell_type": "code",
      "execution_count": 11,
      "id": "4a990ec9",
      "metadata": {
        "colab": {
          "base_uri": "https://localhost:8080/",
          "height": 472
        },
        "id": "4a990ec9",
        "outputId": "bfa4667d-f668-42c5-8ce5-0b3d087a5891"
      },
      "outputs": [
        {
          "output_type": "display_data",
          "data": {
            "text/plain": [
              "<Figure size 640x480 with 1 Axes>"
            ],
            "image/png": "[encoded data removed]"
          },
          "metadata": {}
        }
      ],
      "source": [
        "sns.countplot(data=df, x='Status')\n",
        "plt.xlabel('Durum')\n",
        "plt.ylabel('Sayı')\n",
        "plt.title('Kullanıcı Durumları')\n",
        "plt.show()"
      ]
    },
    {
      "cell_type": "code",
      "execution_count": 12,
      "id": "076ce7a2",
      "metadata": {
        "colab": {
          "base_uri": "https://localhost:8080/",
          "height": 633
        },
        "id": "076ce7a2",
        "outputId": "a4d03cc4-dbdd-4024-de1c-e3d1d5017bcb"
      },
      "outputs": [
        {
          "output_type": "display_data",
          "data": {
            "text/plain": [
              "<Figure size 640x480 with 2 Axes>"
            ],
            "image/png": "[encoded data removed]"
          },
          "metadata": {}
        }
      ],
      "source": [
        "correlation_matrix = df.corr()\n",
        "sns.heatmap(correlation_matrix, annot=True, cmap='coolwarm')\n",
        "plt.title('Korelasyon Matrisi')\n",
        "plt.show()"
      ]
    },
    {
      "cell_type": "code",
      "execution_count": 13,
      "id": "c5b659a3",
      "metadata": {
        "colab": {
          "base_uri": "https://localhost:8080/",
          "height": 564
        },
        "id": "c5b659a3",
        "outputId": "88e8c15e-45e9-41c5-99bd-826cb7935227"
      },
      "outputs": [
        {
          "output_type": "display_data",
          "data": {
            "text/plain": [
              "<Figure size 1000x600 with 1 Axes>"
            ],
            "image/png": "[encoded data removed]"
          },
          "metadata": {}
        }
      ],
      "source": [
        "plt.figure(figsize=(10, 6))  # Grafiğin boyutunu ayarlayın\n",
        "sns.boxplot(x='Ratings', y='Average Screen Time', data=df)\n",
        "plt.xlabel('Rating')\n",
        "plt.ylabel('Ortalama Ekran Süresi')\n",
        "plt.title('Ratinglere Göre Ortalama Ekran Süresi Dağılımı')\n",
        "plt.show()"
      ]
    },
    {
      "cell_type": "code",
      "execution_count": 14,
      "id": "7421a9a0",
      "metadata": {
        "colab": {
          "base_uri": "https://localhost:8080/"
        },
        "id": "7421a9a0",
        "outputId": "6ed258a2-e483-4696-f648-e0bfb430be7f"
      },
      "outputs": [
        {
          "output_type": "execute_result",
          "data": {
            "text/plain": [
              "Average Screen Time           1.000000\n",
              "Ratings                       0.557624\n",
              "Status                        0.467834\n",
              "Average Spent on App (INR)    0.445920\n",
              "userid                       -0.011205\n",
              "Left Review                  -0.019984\n",
              "New Password Request         -0.261706\n",
              "Last Visited Minutes         -0.458216\n",
              "Name: Average Screen Time, dtype: float64"
            ]
          },
          "metadata": {},
          "execution_count": 14
        }
      ],
      "source": [
        "df.corr()[\"Average Screen Time\"].sort_values(ascending=False)"
      ]
    },
    {
      "cell_type": "markdown",
      "id": "4a5a1922",
      "metadata": {
        "id": "4a5a1922"
      },
      "source": [
        "## Modelleme:"
      ]
    },
    {
      "cell_type": "code",
      "execution_count": 15,
      "id": "8b093e9f",
      "metadata": {
        "id": "8b093e9f"
      },
      "outputs": [],
      "source": [
        "#Korelasyona göre x'i tanımlayabilirz\n",
        "x=df[[\"Average Screen Time\",\"Ratings\",\"Status\",\"Average Spent on App (INR)\"]]"
      ]
    },
    {
      "cell_type": "code",
      "execution_count": 16,
      "id": "49986868",
      "metadata": {
        "id": "49986868"
      },
      "outputs": [],
      "source": [
        "#K-Means kümeleme modelini oluşturuyorsunuz ve 4 küme olacak şekilde ayarlıyoruz\n",
        "model=KMeans(4)"
      ]
    },
    {
      "cell_type": "code",
      "execution_count": 17,
      "id": "781fce44",
      "metadata": {
        "id": "781fce44"
      },
      "outputs": [],
      "source": [
        "#Veri setinizi bu modele uyumlu hale getiriyoruz ve her veri noktasını bir kümeleme sonucu olarak tahmin ediyoruz\n",
        "model=model.fit(x)"
      ]
    },
    {
      "cell_type": "code",
      "execution_count": 18,
      "id": "6cbcae47",
      "metadata": {
        "id": "6cbcae47"
      },
      "outputs": [],
      "source": [
        "pred=model.predict(x)"
      ]
    },
    {
      "cell_type": "code",
      "execution_count": 19,
      "id": "c601a4f0",
      "metadata": {
        "colab": {
          "base_uri": "https://localhost:8080/"
        },
        "id": "c601a4f0",
        "outputId": "c558fe55-8c46-495d-8a3a-0f5430ab39a7"
      },
      "outputs": [
        {
          "output_type": "execute_result",
          "data": {
            "text/plain": [
              "0.6233687505210258"
            ]
          },
          "metadata": {},
          "execution_count": 19
        }
      ],
      "source": [
        "silhouette_score(x,pred)"
      ]
    },
    {
      "cell_type": "markdown",
      "id": "bb16bac2",
      "metadata": {
        "id": "bb16bac2"
      },
      "source": [
        "Kümelemelerin kalitesini ölçmek için Silhouette Skoru kullanıyorsunuz. Silhouette Skoru, her veri noktasının kendi kümesi içindeki yakınlığını ve diğer kümelere olan uzaklığını dikkate alarak kümeleme kalitesini ölçer. Bu skor, her bir kümeleme sayısı için hesaplanır ve daha yüksek bir skor daha iyi bir kümeleme anlamına gelir."
      ]
    },
    {
      "cell_type": "code",
      "execution_count": 20,
      "id": "c7228236",
      "metadata": {
        "id": "c7228236"
      },
      "outputs": [],
      "source": [
        "x[\"cluster\"]=pred"
      ]
    },
    {
      "cell_type": "markdown",
      "id": "537621ad",
      "metadata": {
        "id": "537621ad"
      },
      "source": [
        "Sonraki adım, farklı kümeleme sayıları için Silhouette Skorlarını ve bu sayıları bir döngü içinde hesaplamaktır. Bu işlemi \"clust\" adlı bir işlev içinde yaparsınız."
      ]
    },
    {
      "cell_type": "code",
      "execution_count": 21,
      "id": "a10bfd7e",
      "metadata": {
        "id": "a10bfd7e"
      },
      "outputs": [],
      "source": [
        "allscore=[]\n",
        "allcluster=[]\n",
        "distances=[]\n",
        "def clust(kactane):\n",
        "    for i in range(1,kactane):\n",
        "        i=i+1\n",
        "        model=KMeans(i)\n",
        "        model=model.fit(x)\n",
        "        tahmin=model.predict(x)\n",
        "        score=silhouette_score(x,tahmin)\n",
        "        distance=model.inertia_\n",
        "        print('Cluster ',i,\" score: \", score)\n",
        "        allscore.append(score)\n",
        "        allcluster.append(i)\n",
        "        distances.append(distance)"
      ]
    },
    {
      "cell_type": "code",
      "execution_count": 22,
      "id": "dfa5bd31",
      "metadata": {
        "colab": {
          "base_uri": "https://localhost:8080/"
        },
        "id": "dfa5bd31",
        "outputId": "3af2ebae-5835-4417-fe15-674608ed6e1d"
      },
      "outputs": [
        {
          "output_type": "stream",
          "name": "stdout",
          "text": [
            "Cluster  2  score:  0.6619565340747268\n",
            "Cluster  3  score:  0.6285402344764685\n",
            "Cluster  4  score:  0.6233903380573625\n",
            "Cluster  5  score:  0.5978410340425868\n",
            "Cluster  6  score:  0.5655805363742574\n",
            "Cluster  7  score:  0.5641459833486622\n",
            "Cluster  8  score:  0.5678626021687345\n",
            "Cluster  9  score:  0.5390310228145321\n",
            "Cluster  10  score:  0.5256494689400741\n"
          ]
        }
      ],
      "source": [
        "clust(10)"
      ]
    },
    {
      "cell_type": "markdown",
      "source": [
        "Silhouette Skoru, 2 kümeleme ile en yüksek olan skoru veriyor, yani 0.662. Bu nedenle, verilerinizi 2 kümeleme olarak bölmek, bu özel veri seti için en iyi seçenek gibi görünüyor. Ancak, bu bir kural değildir ve projenizin gereksinimlerine bağlı olarak farklı küme sayılarını da deneyebilirsiniz."
      ],
      "metadata": {
        "id": "-5JbN4yNXGJJ"
      },
      "id": "-5JbN4yNXGJJ"
    },
    {
      "cell_type": "markdown",
      "id": "4291670f",
      "metadata": {
        "id": "4291670f"
      },
      "source": [
        "## Yellow Brick Method"
      ]
    },
    {
      "cell_type": "code",
      "execution_count": 23,
      "id": "814d7b7d",
      "metadata": {
        "id": "814d7b7d"
      },
      "outputs": [],
      "source": [
        "from yellowbrick.cluster import KElbowVisualizer"
      ]
    },
    {
      "cell_type": "code",
      "execution_count": 24,
      "id": "cbd4d347",
      "metadata": {
        "id": "cbd4d347"
      },
      "outputs": [],
      "source": [
        "model=KMeans()"
      ]
    },
    {
      "cell_type": "code",
      "execution_count": 25,
      "id": "29c7817e",
      "metadata": {
        "id": "29c7817e"
      },
      "outputs": [],
      "source": [
        "visualizer=KElbowVisualizer(model,k=(2,10))"
      ]
    },
    {
      "cell_type": "markdown",
      "id": "a6b97ad1",
      "metadata": {
        "id": "a6b97ad1"
      },
      "source": [
        "\"visualizer\" nesnesini veri setiniz (\"x\") üzerine uyarıyorsunuz. Bu işlem, farklı K değerlerini deneyerek her bir K değeri için modelin içsel kalitesini ölçer"
      ]
    },
    {
      "cell_type": "code",
      "execution_count": 26,
      "id": "c9d778bd",
      "metadata": {
        "colab": {
          "base_uri": "https://localhost:8080/",
          "height": 599
        },
        "id": "c9d778bd",
        "outputId": "c5720aba-198c-407c-ba07-0a5ff1adacd9"
      },
      "outputs": [
        {
          "output_type": "execute_result",
          "data": {
            "text/plain": [
              "KElbowVisualizer(ax=<Axes: >, estimator=KMeans(n_clusters=9), k=(2, 10))"
            ],
            "text/html": [
              "<style>#sk-container-id-1 {color: black;background-color: white;}#sk-container-id-1 pre{padding: 0;}#sk-container-id-1 div.sk-toggleable {background-color: white;}#sk-container-id-1 label.sk-toggleable__label {cursor: pointer;display: block;width: 100%;margin-bottom: 0;padding: 0.3em;box-sizing: border-box;text-align: center;}#sk-container-id-1 label.sk-toggleable__label-arrow:before {content: \"▸\";float: left;margin-right: 0.25em;color: #696969;}#sk-container-id-1 label.sk-toggleable__label-arrow:hover:before {color: black;}#sk-container-id-1 div.sk-estimator:hover label.sk-toggleable__label-arrow:before {color: black;}#sk-container-id-1 div.sk-toggleable__content {max-height: 0;max-width: 0;overflow: hidden;text-align: left;background-color: #f0f8ff;}#sk-container-id-1 div.sk-toggleable__content pre {margin: 0.2em;color: black;border-radius: 0.25em;background-color: #f0f8ff;}#sk-container-id-1 input.sk-toggleable__control:checked~div.sk-toggleable__content {max-height: 200px;max-width: 100%;overflow: auto;}#sk-container-id-1 input.sk-toggleable__control:checked~label.sk-toggleable__label-arrow:before {content: \"▾\";}#sk-container-id-1 div.sk-estimator input.sk-toggleable__control:checked~label.sk-toggleable__label {background-color: #d4ebff;}#sk-container-id-1 div.sk-label input.sk-toggleable__control:checked~label.sk-toggleable__label {background-color: #d4ebff;}#sk-container-id-1 input.sk-hidden--visually {border: 0;clip: rect(1px 1px 1px 1px);clip: rect(1px, 1px, 1px, 1px);height: 1px;margin: -1px;overflow: hidden;padding: 0;position: absolute;width: 1px;}#sk-container-id-1 div.sk-estimator {font-family: monospace;background-color: #f0f8ff;border: 1px dotted black;border-radius: 0.25em;box-sizing: border-box;margin-bottom: 0.5em;}#sk-container-id-1 div.sk-estimator:hover {background-color: #d4ebff;}#sk-container-id-1 div.sk-parallel-item::after {content: \"\";width: 100%;border-bottom: 1px solid gray;flex-grow: 1;}#sk-container-id-1 div.sk-label:hover label.sk-toggleable__label {background-color: #d4ebff;}#sk-container-id-1 div.sk-serial::before {content: \"\";position: absolute;border-left: 1px solid gray;box-sizing: border-box;top: 0;bottom: 0;left: 50%;z-index: 0;}#sk-container-id-1 div.sk-serial {display: flex;flex-direction: column;align-items: center;background-color: white;padding-right: 0.2em;padding-left: 0.2em;position: relative;}#sk-container-id-1 div.sk-item {position: relative;z-index: 1;}#sk-container-id-1 div.sk-parallel {display: flex;align-items: stretch;justify-content: center;background-color: white;position: relative;}#sk-container-id-1 div.sk-item::before, #sk-container-id-1 div.sk-parallel-item::before {content: \"\";position: absolute;border-left: 1px solid gray;box-sizing: border-box;top: 0;bottom: 0;left: 50%;z-index: -1;}#sk-container-id-1 div.sk-parallel-item {display: flex;flex-direction: column;z-index: 1;position: relative;background-color: white;}#sk-container-id-1 div.sk-parallel-item:first-child::after {align-self: flex-end;width: 50%;}#sk-container-id-1 div.sk-parallel-item:last-child::after {align-self: flex-start;width: 50%;}#sk-container-id-1 div.sk-parallel-item:only-child::after {width: 0;}#sk-container-id-1 div.sk-dashed-wrapped {border: 1px dashed gray;margin: 0 0.4em 0.5em 0.4em;box-sizing: border-box;padding-bottom: 0.4em;background-color: white;}#sk-container-id-1 div.sk-label label {font-family: monospace;font-weight: bold;display: inline-block;line-height: 1.2em;}#sk-container-id-1 div.sk-label-container {text-align: center;}#sk-container-id-1 div.sk-container {/* jupyter's `normalize.less` sets `[hidden] { display: none; }` but bootstrap.min.css set `[hidden] { display: none !important; }` so we also need the `!important` here to be able to override the default hidden behavior on the sphinx rendered scikit-learn.org. See: https://github.com/scikit-learn/scikit-learn/issues/21755 */display: inline-block !important;position: relative;}#sk-container-id-1 div.sk-text-repr-fallback {display: none;}</style><div id=\"sk-container-id-1\" class=\"sk-top-container\"><div class=\"sk-text-repr-fallback\"><pre>KElbowVisualizer(ax=&lt;Axes: &gt;, estimator=KMeans(n_clusters=9), k=(2, 10))</pre><b>In a Jupyter environment, please rerun this cell to show the HTML representation or trust the notebook. <br />On GitHub, the HTML representation is unable to render, please try loading this page with nbviewer.org.</b></div><div class=\"sk-container\" hidden><div class=\"sk-item sk-dashed-wrapped\"><div class=\"sk-label-container\"><div class=\"sk-label sk-toggleable\"><input class=\"sk-toggleable__control sk-hidden--visually\" id=\"sk-estimator-id-1\" type=\"checkbox\" ><label for=\"sk-estimator-id-1\" class=\"sk-toggleable__label sk-toggleable__label-arrow\">KElbowVisualizer</label><div class=\"sk-toggleable__content\"><pre>KElbowVisualizer(ax=&lt;Axes: &gt;, estimator=KMeans(n_clusters=9), k=(2, 10))</pre></div></div></div><div class=\"sk-parallel\"><div class=\"sk-parallel-item\"><div class=\"sk-item\"><div class=\"sk-label-container\"><div class=\"sk-label sk-toggleable\"><input class=\"sk-toggleable__control sk-hidden--visually\" id=\"sk-estimator-id-2\" type=\"checkbox\" ><label for=\"sk-estimator-id-2\" class=\"sk-toggleable__label sk-toggleable__label-arrow\">estimator: KMeans</label><div class=\"sk-toggleable__content\"><pre>KMeans(n_clusters=9)</pre></div></div></div><div class=\"sk-serial\"><div class=\"sk-item\"><div class=\"sk-estimator sk-toggleable\"><input class=\"sk-toggleable__control sk-hidden--visually\" id=\"sk-estimator-id-3\" type=\"checkbox\" ><label for=\"sk-estimator-id-3\" class=\"sk-toggleable__label sk-toggleable__label-arrow\">KMeans</label><div class=\"sk-toggleable__content\"><pre>KMeans(n_clusters=9)</pre></div></div></div></div></div></div></div></div></div></div>"
            ]
          },
          "metadata": {},
          "execution_count": 26
        },
        {
          "output_type": "display_data",
          "data": {
            "text/plain": [
              "<Figure size 800x550 with 2 Axes>"
            ],
            "image/png": "[encoded data removed]"
          },
          "metadata": {}
        }
      ],
      "source": [
        "visualizer.fit(x)"
      ]
    },
    {
      "cell_type": "code",
      "execution_count": 27,
      "id": "a878d2b6",
      "metadata": {
        "colab": {
          "base_uri": "https://localhost:8080/"
        },
        "id": "a878d2b6",
        "outputId": "fcc18833-1104-471f-a7a3-ee7dc205c69a"
      },
      "outputs": [
        {
          "output_type": "execute_result",
          "data": {
            "text/plain": [
              "<Axes: title={'center': 'Distortion Score Elbow for KMeans Clustering'}, xlabel='k', ylabel='distortion score'>"
            ]
          },
          "metadata": {},
          "execution_count": 27
        }
      ],
      "source": [
        "visualizer.show()"
      ]
    },
    {
      "cell_type": "markdown",
      "id": "d00aab31",
      "metadata": {
        "id": "d00aab31"
      },
      "source": [
        "Bu grafiği inceleyerek, \"dirseği\" (elbow) noktasını belirlemeye çalışabilirsiniz. Dirsek noktası, küme sayısının artmasının artık içsel kaliteyi önemli ölçüde artırmadığı noktadır. Yani, dirsek noktası, veri setiniz için en iyi küme sayısını belirlemenize yardımcı olabilir. Bu nokta, optimal küme sayısının bir tahminini sağlar ve veri setinize en iyi uyan kümeleme sayısını seçmenize yardımcı olabilir."
      ]
    },
    {
      "cell_type": "markdown",
      "id": "556f2a84",
      "metadata": {
        "id": "556f2a84"
      },
      "source": [
        "## Sonuç olarak:"
      ]
    },
    {
      "cell_type": "markdown",
      "id": "6c4490d9",
      "metadata": {
        "id": "6c4490d9"
      },
      "source": [
        "Proje sonuçlarına göre, veri setindeki kullanıcıları K-Means kümeleme modeli ile dört farklı gruba böldük. Bu gruplar, kullanıcıların davranışlarına, uygulamayı ne kadar sık kullandıklarına ve harcadıkları para miktarına dayalı olarak oluşturuldu. Ayrıca, Silhouette Skoru kullanarak farklı kümeleme sayılarını değerlendirdik ve dört kümelik modelin en iyi sonuçları verdiğini belirledik. Bu sonuçlar, uygulama kullanıcılarını daha iyi anlamamıza ve pazarlama stratejilerini daha iyi şekillendirmemize yardımcı olacaktır. Kullanıcıları bu segmentlere göre hedeflemek, kullanıcı memnuniyetini artırabilir ve uygulama kullanımını teşvik edebilir.\""
      ]
    }
  ],
  "metadata": {
    "kernelspec": {
      "display_name": "Python 3 (ipykernel)",
      "language": "python",
      "name": "python3"
    },
    "language_info": {
      "codemirror_mode": {
        "name": "ipython",
        "version": 3
      },
      "file_extension": ".py",
      "mimetype": "text/x-python",
      "name": "python",
      "nbconvert_exporter": "python",
      "pygments_lexer": "ipython3",
      "version": "3.10.9"
    },
    "colab": {
      "provenance": []
    }
  },
  "nbformat": 4,
  "nbformat_minor": 5
}